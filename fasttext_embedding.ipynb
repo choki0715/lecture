{
  "nbformat": 4,
  "nbformat_minor": 0,
  "metadata": {
    "colab": {
      "provenance": [],
      "mount_file_id": "1CSRGBykXG6xxHvnqwcr6uzYKSH0t-xi2",
      "authorship_tag": "ABX9TyP04yMJgSmrxEhACmiaNRu9",
      "include_colab_link": true
    },
    "kernelspec": {
      "name": "python3",
      "display_name": "Python 3"
    },
    "language_info": {
      "name": "python"
    }
  },
  "cells": [
    {
      "cell_type": "markdown",
      "metadata": {
        "id": "view-in-github",
        "colab_type": "text"
      },
      "source": [
        "<a href=\"https://colab.research.google.com/github/choki0715/lecture/blob/master/fasttext_embedding.ipynb\" target=\"_parent\"><img src=\"https://colab.research.google.com/assets/colab-badge.svg\" alt=\"Open In Colab\"/></a>"
      ]
    },
    {
      "cell_type": "code",
      "execution_count": 42,
      "metadata": {
        "colab": {
          "base_uri": "https://localhost:8080/"
        },
        "id": "giqO4FlXpnCE",
        "outputId": "9be59a8e-284a-42c9-9368-79a69959d589"
      },
      "outputs": [
        {
          "output_type": "stream",
          "name": "stdout",
          "text": [
            "Empty DataFrame\n",
            "Columns: [개 한 마리가 입에 고깃점(고기 한 조각)을 물고서 개울 위 다리를 건너다 물 위에 비친 자신의 그림자를 보고서 그게 자기 것보다 두 배가 큰 고깃점을 문 다른 개인 걸로 착각을 하고 말았어요. 그 즉시 개가 물고 있던 고깃점을 떨어뜨리곤 사납게 다른 개에게로 달려들고 말았어요,  그 개에게서 자기 거보다 더 큰 고깃점을 빼앗기 위해서였죠. 그리하여 개는 둘 다를 잃고 말았답니다. 그가 물로 뛰어들어 왈칵 붙잡은 건 그림자였고,  그리고 자신이 원래 물고 있던 그 고깃점은 개울에 그냥 유유히 떠내려가고 말았으니까요.]\n",
            "Index: []\n"
          ]
        },
        {
          "output_type": "execute_result",
          "data": {
            "text/plain": [
              "str"
            ]
          },
          "metadata": {},
          "execution_count": 42
        }
      ],
      "source": [
        "from gensim.models.fasttext import FastText\n",
        "import gensim.models.word2vec\n",
        "from gensim.test.utils import datapath\n",
        "import pandas as pd\n",
        "\n",
        "path = '/content/drive/MyDrive/a_poor_dog.txt'\n",
        "content = str(pd.read_csv(path))\n",
        "\n",
        "print(content)\n",
        "type(content)"
      ]
    },
    {
      "cell_type": "code",
      "source": [
        "import nltk\n",
        "from nltk.tokenize import word_tokenize\n",
        "nltk.download('punkt')"
      ],
      "metadata": {
        "colab": {
          "base_uri": "https://localhost:8080/"
        },
        "id": "hfXUzOhZzvgV",
        "outputId": "eff18065-66e7-4705-c912-1df3bc026d4b"
      },
      "execution_count": 38,
      "outputs": [
        {
          "output_type": "stream",
          "name": "stderr",
          "text": [
            "[nltk_data] Downloading package punkt to /root/nltk_data...\n",
            "[nltk_data]   Unzipping tokenizers/punkt.zip.\n"
          ]
        },
        {
          "output_type": "execute_result",
          "data": {
            "text/plain": [
              "True"
            ]
          },
          "metadata": {},
          "execution_count": 38
        }
      ]
    },
    {
      "cell_type": "code",
      "source": [
        "\n",
        "sentences = word_tokenize(content)\n",
        "print(sentences)\n"
      ],
      "metadata": {
        "colab": {
          "base_uri": "https://localhost:8080/"
        },
        "id": "IK5B7X0B6bdi",
        "outputId": "f70ae23c-ab3c-48e3-a252-4aa2fcaa8a0f"
      },
      "execution_count": 43,
      "outputs": [
        {
          "output_type": "stream",
          "name": "stdout",
          "text": [
            "['Empty', 'DataFrame', 'Columns', ':', '[', '개', '한', '마리가', '입에', '고깃점', '(', '고기', '한', '조각', ')', '을', '물고서', '개울', '위', '다리를', '건너다', '물', '위에', '비친', '자신의', '그림자를', '보고서', '그게', '자기', '것보다', '두', '배가', '큰', '고깃점을', '문', '다른', '개인', '걸로', '착각을', '하고', '말았어요', '.', '그', '즉시', '개가', '물고', '있던', '고깃점을', '떨어뜨리곤', '사납게', '다른', '개에게로', '달려들고', '말았어요', ',', '그', '개에게서', '자기', '거보다', '더', '큰', '고깃점을', '빼앗기', '위해서였죠', '.', '그리하여', '개는', '둘', '다를', '잃고', '말았답니다', '.', '그가', '물로', '뛰어들어', '왈칵', '붙잡은', '건', '그림자였고', ',', '그리고', '자신이', '원래', '물고', '있던', '그', '고깃점은', '개울에', '그냥', '유유히', '떠내려가고', '말았으니까요', '.', ']', 'Index', ':', '[', ']']\n"
          ]
        }
      ]
    },
    {
      "cell_type": "code",
      "source": [
        "\n",
        "model = FastText(sentences, min_count=5, vector_size=100, window=5)\n",
        "print(model)\n"
      ],
      "metadata": {
        "colab": {
          "base_uri": "https://localhost:8080/"
        },
        "id": "E4ziNc3l6yYF",
        "outputId": "109438f3-fff2-498f-94f2-456445cf5931"
      },
      "execution_count": 44,
      "outputs": [
        {
          "output_type": "stream",
          "name": "stderr",
          "text": [
            "WARNING:gensim.models.word2vec:Each 'sentences' item should be a list of words (usually unicode strings). First item here is instead plain <class 'str'>.\n"
          ]
        },
        {
          "output_type": "stream",
          "name": "stdout",
          "text": [
            "FastText<vocab=13, vector_size=100, alpha=0.025>\n"
          ]
        }
      ]
    },
    {
      "cell_type": "code",
      "source": [
        "model.save('fasttext_model')\n",
        "my_model = FastText.load('fasttext_model')\n",
        "my_model.wv['개울']"
      ],
      "metadata": {
        "colab": {
          "base_uri": "https://localhost:8080/"
        },
        "id": "RDiUn7hXtUea",
        "outputId": "c0292248-7a42-46d4-bf16-01a656c9c568"
      },
      "execution_count": 48,
      "outputs": [
        {
          "output_type": "execute_result",
          "data": {
            "text/plain": [
              "array([ 5.7323086e-03,  1.1066467e-03, -2.6969130e-03,  3.1539770e-03,\n",
              "       -1.2316921e-03, -4.9525560e-03,  8.5229921e-04, -2.8677129e-03,\n",
              "       -5.7947226e-03, -1.3629940e-03, -1.4695534e-03,  4.3500448e-03,\n",
              "        4.0836968e-03, -5.4147880e-04,  6.3145994e-03, -1.9989216e-03,\n",
              "        1.1729015e-03, -1.8987985e-03,  1.3888498e-03, -1.6451596e-04,\n",
              "        2.1260132e-03,  4.6154936e-03,  2.5977129e-03, -2.0403184e-03,\n",
              "        1.1775981e-03, -1.9880105e-03, -2.8650695e-03, -5.9851333e-03,\n",
              "        2.2617206e-03, -3.3789808e-03,  9.8624593e-04,  6.1008073e-03,\n",
              "        8.9554861e-04, -3.3248353e-03, -2.1354833e-03,  4.5556654e-03,\n",
              "        5.0040199e-03, -3.2826799e-03,  2.3188691e-03, -3.3956424e-03,\n",
              "       -2.2517575e-03,  1.9093514e-03, -2.1135123e-05, -1.2270227e-03,\n",
              "       -2.0744149e-03,  2.0784230e-03,  3.2760247e-03, -1.5488343e-03,\n",
              "        6.1653648e-03,  8.8869281e-05,  3.8184572e-03,  2.0556578e-03,\n",
              "        1.8906383e-03, -2.6777282e-03, -1.1976198e-03, -6.1068055e-04,\n",
              "       -2.9727172e-03,  1.8015457e-04, -4.6694889e-03, -3.5807334e-05,\n",
              "       -2.7339018e-03, -5.8007392e-04, -1.2294328e-03,  5.2562286e-03,\n",
              "        7.5666620e-03, -4.5596906e-03, -6.3064122e-03, -4.6258792e-03,\n",
              "        4.3514185e-03, -9.1465736e-05, -3.7338475e-03,  9.3537696e-05,\n",
              "        5.8362857e-03,  2.1698528e-03,  1.9608911e-03, -5.0907712e-03,\n",
              "       -2.4060186e-03, -2.8952213e-03,  2.4883051e-03,  4.1388418e-03,\n",
              "        6.0231220e-03,  6.1835796e-03, -3.1757697e-03, -1.6501192e-03,\n",
              "       -1.6192874e-03,  7.9481601e-04, -3.9668619e-03, -2.5854968e-03,\n",
              "       -1.6507991e-03,  1.2449952e-03, -5.2595302e-04,  2.7411366e-03,\n",
              "        2.6387393e-03, -3.0788034e-03, -2.5382158e-04, -4.3060598e-03,\n",
              "       -2.3506519e-04,  1.6711453e-03, -9.6546113e-04,  3.7959038e-05],\n",
              "      dtype=float32)"
            ]
          },
          "metadata": {},
          "execution_count": 48
        }
      ]
    },
    {
      "cell_type": "code",
      "source": [],
      "metadata": {
        "id": "pmrEK39Ku04Q"
      },
      "execution_count": null,
      "outputs": []
    }
  ]
}