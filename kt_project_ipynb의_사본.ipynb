{
  "nbformat": 4,
  "nbformat_minor": 0,
  "metadata": {
    "colab": {
      "name": "kt_project.ipynb의 사본",
      "provenance": [],
      "collapsed_sections": [],
      "authorship_tag": "ABX9TyPag02NnBXPgOigu4OTuUYX",
      "include_colab_link": true
    },
    "kernelspec": {
      "name": "python3",
      "display_name": "Python 3"
    },
    "accelerator": "TPU"
  },
  "cells": [
    {
      "cell_type": "markdown",
      "metadata": {
        "id": "view-in-github",
        "colab_type": "text"
      },
      "source": [
        "<a href=\"https://colab.research.google.com/github/choki0715/lecture/blob/master/kt_project_ipynb%EC%9D%98_%EC%82%AC%EB%B3%B8.ipynb\" target=\"_parent\"><img src=\"https://colab.research.google.com/assets/colab-badge.svg\" alt=\"Open In Colab\"/></a>"
      ]
    },
    {
      "cell_type": "code",
      "metadata": {
        "colab": {
          "base_uri": "https://localhost:8080/"
        },
        "id": "Z6-qbWAB3rcB",
        "outputId": "17f2d2f8-5291-4c82-bbeb-69181d22e102"
      },
      "source": [
        "#import tensorflow_datasets as tfds\r\n",
        "import tensorflow as tf\r\n",
        "import time\r\n",
        "import os, sys\r\n",
        "import numpy as np\r\n",
        "import pandas as pd\r\n",
        "import matplotlib as mpl\r\n",
        "import matplotlib.pyplot as plt\r\n",
        "import datetime\r\n",
        "import csv\r\n",
        "\r\n",
        "from google.colab import drive \r\n",
        "drive.mount('/content/gdrive/')\r\n",
        "drive.mount('/content/mnt') \r\n",
        "nb_path = '/content/notebooks' \r\n",
        "#os.symlink('/content/mnt/My Drive/Colab Notebooks', nb_path) \r\n",
        "sys.path.insert(0, nb_path)\r\n"
      ],
      "execution_count": 1,
      "outputs": [
        {
          "output_type": "stream",
          "text": [
            "Mounted at /content/gdrive/\n",
            "Mounted at /content/mnt\n"
          ],
          "name": "stdout"
        }
      ]
    },
    {
      "cell_type": "code",
      "metadata": {
        "id": "HcSevllCYK0u"
      },
      "source": [
        "# 데이터 불러오기\r\n",
        "df = pd.read_excel('/content/mnt/MyDrive/Colab Notebooks/보안해제_(샘플)PMS1234_2019_B2C_데이터.xlsx', sheet_name = '워크시트 익스포트')"
      ],
      "execution_count": 2,
      "outputs": []
    },
    {
      "cell_type": "code",
      "metadata": {
        "colab": {
          "base_uri": "https://localhost:8080/",
          "height": 577
        },
        "id": "bZGTWEcVYp-F",
        "outputId": "7fd49fc7-569f-47c0-8ce5-0bac04320be6"
      },
      "source": [
        "df.head(10)"
      ],
      "execution_count": 3,
      "outputs": [
        {
          "output_type": "execute_result",
          "data": {
            "text/html": [
              "<div>\n",
              "<style scoped>\n",
              "    .dataframe tbody tr th:only-of-type {\n",
              "        vertical-align: middle;\n",
              "    }\n",
              "\n",
              "    .dataframe tbody tr th {\n",
              "        vertical-align: top;\n",
              "    }\n",
              "\n",
              "    .dataframe thead th {\n",
              "        text-align: right;\n",
              "    }\n",
              "</style>\n",
              "<table border=\"1\" class=\"dataframe\">\n",
              "  <thead>\n",
              "    <tr style=\"text-align: right;\">\n",
              "      <th></th>\n",
              "      <th>고객사명</th>\n",
              "      <th>발신자번호</th>\n",
              "      <th>수신자번호</th>\n",
              "      <th>브랜드명</th>\n",
              "      <th>상품명</th>\n",
              "      <th>단가</th>\n",
              "      <th>메세지내용</th>\n",
              "      <th>발송일시</th>\n",
              "      <th>교환일시</th>\n",
              "    </tr>\n",
              "  </thead>\n",
              "  <tbody>\n",
              "    <tr>\n",
              "      <th>0</th>\n",
              "      <td>11번가</td>\n",
              "      <td>ow3gkFQSXMcEkBL3vmU6qw==</td>\n",
              "      <td>wFLKW8DvAT1nIGeeUUgqGg==</td>\n",
              "      <td>도미노피자</td>\n",
              "      <td>포테이토(오리지널)L+갈릭&amp;윙스+콜라1.25L</td>\n",
              "      <td>31950</td>\n",
              "      <td>기프티쇼 발송</td>\n",
              "      <td>20190101063312</td>\n",
              "      <td>2.019010e+13</td>\n",
              "    </tr>\n",
              "    <tr>\n",
              "      <th>1</th>\n",
              "      <td>11번가</td>\n",
              "      <td>ow3gkFQSXMcEkBL3vmU6qw==</td>\n",
              "      <td>wFLKW8DvAT1nIGeeUUgqGg==</td>\n",
              "      <td>파리바게뜨</td>\n",
              "      <td>클래식쇼콜라 케이크</td>\n",
              "      <td>19000</td>\n",
              "      <td>기프티쇼 발송</td>\n",
              "      <td>20190101014817</td>\n",
              "      <td>2.019010e+13</td>\n",
              "    </tr>\n",
              "    <tr>\n",
              "      <th>2</th>\n",
              "      <td>원스토어</td>\n",
              "      <td>Aw576tB/DqB48oaOCYI/uQ==</td>\n",
              "      <td>iqR/qZRWd+omjZhYAHrNQw==</td>\n",
              "      <td>도서문화상품권</td>\n",
              "      <td>도서문화상품권 5만원권(온라인전용)</td>\n",
              "      <td>50000</td>\n",
              "      <td>원스토어에서 구매하신 상품입니다.</td>\n",
              "      <td>20190101014842</td>\n",
              "      <td>2.019010e+13</td>\n",
              "    </tr>\n",
              "    <tr>\n",
              "      <th>3</th>\n",
              "      <td>네이버 선물서비스</td>\n",
              "      <td>FYd5hCBWMLAnJn9MZW755g==</td>\n",
              "      <td>sArVOX0rIfxz0PvWvLKzGg==</td>\n",
              "      <td>파리바게뜨</td>\n",
              "      <td>부드러운 호박고구마케이크</td>\n",
              "      <td>25000</td>\n",
              "      <td>스토어팜 e쿠폰 도착!</td>\n",
              "      <td>20190101015130</td>\n",
              "      <td>2.019011e+13</td>\n",
              "    </tr>\n",
              "    <tr>\n",
              "      <th>4</th>\n",
              "      <td>원스토어</td>\n",
              "      <td>gsxIPB/m0V3WKN7iXfThSg==</td>\n",
              "      <td>paQGXfYkbkMm5KiIK7B1mw==</td>\n",
              "      <td>도서문화상품권</td>\n",
              "      <td>도서문화상품권 5만원권(온라인전용)</td>\n",
              "      <td>50000</td>\n",
              "      <td>원스토어에서 구매하신 상품입니다.</td>\n",
              "      <td>20190101015301</td>\n",
              "      <td>2.019010e+13</td>\n",
              "    </tr>\n",
              "    <tr>\n",
              "      <th>5</th>\n",
              "      <td>SM C&amp;C_틸리언</td>\n",
              "      <td>DJXvJUYs1c7yFvjuOHLOBQ==</td>\n",
              "      <td>0YPp5IOmOkhHaWpvmOJAdw==</td>\n",
              "      <td>해피머니</td>\n",
              "      <td>해피머니온라인상품권[3,000원]</td>\n",
              "      <td>3000</td>\n",
              "      <td>gift</td>\n",
              "      <td>20190101015957</td>\n",
              "      <td>NaN</td>\n",
              "    </tr>\n",
              "    <tr>\n",
              "      <th>6</th>\n",
              "      <td>(주)하우투메리_매체</td>\n",
              "      <td>M7OQuUb0EJmIBSfpjGZacw==</td>\n",
              "      <td>h0cGWOH/VR67aSzMpNigTw==</td>\n",
              "      <td>스타벅스</td>\n",
              "      <td>아이스 카페아메리카노 Tall</td>\n",
              "      <td>4100</td>\n",
              "      <td>릴로옹님이 웨딩북앱에서 교환한 아이스 카페아메리카노 Tall 입니다.</td>\n",
              "      <td>20190101012142</td>\n",
              "      <td>2.019020e+13</td>\n",
              "    </tr>\n",
              "    <tr>\n",
              "      <th>7</th>\n",
              "      <td>원스토어</td>\n",
              "      <td>GXjtRwoyJomIKiujWNBmyQ==</td>\n",
              "      <td>7E/53KTWE4koMgScCP0+sg==</td>\n",
              "      <td>도서문화상품권</td>\n",
              "      <td>도서문화상품권 5만원권(온라인전용)</td>\n",
              "      <td>50000</td>\n",
              "      <td>원스토어에서 구매하신 상품입니다.</td>\n",
              "      <td>20190101013024</td>\n",
              "      <td>2.019010e+13</td>\n",
              "    </tr>\n",
              "    <tr>\n",
              "      <th>8</th>\n",
              "      <td>11번가</td>\n",
              "      <td>ow3gkFQSXMcEkBL3vmU6qw==</td>\n",
              "      <td>wFLKW8DvAT1nIGeeUUgqGg==</td>\n",
              "      <td>맘스터치</td>\n",
              "      <td>햄치즈휠렛버거 세트</td>\n",
              "      <td>6100</td>\n",
              "      <td>기프티쇼 발송</td>\n",
              "      <td>20190101013322</td>\n",
              "      <td>2.019011e+13</td>\n",
              "    </tr>\n",
              "    <tr>\n",
              "      <th>9</th>\n",
              "      <td>(주)하우투메리_매체</td>\n",
              "      <td>M7OQuUb0EJmIBSfpjGZacw==</td>\n",
              "      <td>zS6YsRjfqm7KDfMwIvxm3A==</td>\n",
              "      <td>파스쿠찌</td>\n",
              "      <td>아이스 화이트초콜릿라떼 마끼아또(R)</td>\n",
              "      <td>5000</td>\n",
              "      <td>스폰지밥님이 웨딩북앱에서 교환한 아이스 화이트초콜릿라떼 마끼아또(R) 입니다.</td>\n",
              "      <td>20190101024038</td>\n",
              "      <td>2.019021e+13</td>\n",
              "    </tr>\n",
              "  </tbody>\n",
              "</table>\n",
              "</div>"
            ],
            "text/plain": [
              "          고객사명                     발신자번호  ...            발송일시          교환일시\n",
              "0         11번가  ow3gkFQSXMcEkBL3vmU6qw==  ...  20190101063312  2.019010e+13\n",
              "1         11번가  ow3gkFQSXMcEkBL3vmU6qw==  ...  20190101014817  2.019010e+13\n",
              "2         원스토어  Aw576tB/DqB48oaOCYI/uQ==  ...  20190101014842  2.019010e+13\n",
              "3    네이버 선물서비스  FYd5hCBWMLAnJn9MZW755g==  ...  20190101015130  2.019011e+13\n",
              "4         원스토어  gsxIPB/m0V3WKN7iXfThSg==  ...  20190101015301  2.019010e+13\n",
              "5   SM C&C_틸리언  DJXvJUYs1c7yFvjuOHLOBQ==  ...  20190101015957           NaN\n",
              "6  (주)하우투메리_매체  M7OQuUb0EJmIBSfpjGZacw==  ...  20190101012142  2.019020e+13\n",
              "7         원스토어  GXjtRwoyJomIKiujWNBmyQ==  ...  20190101013024  2.019010e+13\n",
              "8         11번가  ow3gkFQSXMcEkBL3vmU6qw==  ...  20190101013322  2.019011e+13\n",
              "9  (주)하우투메리_매체  M7OQuUb0EJmIBSfpjGZacw==  ...  20190101024038  2.019021e+13\n",
              "\n",
              "[10 rows x 9 columns]"
            ]
          },
          "metadata": {
            "tags": []
          },
          "execution_count": 3
        }
      ]
    },
    {
      "cell_type": "code",
      "metadata": {
        "id": "LCt-Yr51ZElo",
        "colab": {
          "base_uri": "https://localhost:8080/"
        },
        "outputId": "75f46116-43cc-4612-80e6-84c72b40b530"
      },
      "source": [
        "cnt = 0\r\n",
        "row_len = df.shape[0]\r\n",
        "print(row_len)\r\n"
      ],
      "execution_count": 4,
      "outputs": [
        {
          "output_type": "stream",
          "text": [
            "1048001\n"
          ],
          "name": "stdout"
        }
      ]
    },
    {
      "cell_type": "code",
      "metadata": {
        "id": "nbO-Ccdndnxx"
      },
      "source": [
        "total_no_claim = 0\r\n",
        "brand = []\r\n",
        "brd_cnt = np.zeros(100000)\r\n",
        "\r\n",
        "for i in range(100000):\r\n",
        "  check = False\r\n",
        "  if df['교환일시'].isnull().iloc[i]: \r\n",
        "    if total_no_claim == 0:\r\n",
        "      brand.append(df.iloc[i,0])\r\n",
        "      brd_cnt[0] += 1\r\n",
        "      total_no_claim += 1\r\n",
        "    else:\r\n",
        "      for j in range(len(brand)):\r\n",
        "        if df.iloc[i,0] == brand[j]:\r\n",
        "          brd_cnt[j] += 1\r\n",
        "          total_no_claim += 1\r\n",
        "          check = True\r\n",
        "          break\r\n",
        "      if check == False:\r\n",
        "        brand.append(df.iloc[i,0])\r\n",
        "        brd_cnt [j+1] += 1\r\n",
        "\r\n"
      ],
      "execution_count": 5,
      "outputs": []
    },
    {
      "cell_type": "code",
      "metadata": {
        "colab": {
          "base_uri": "https://localhost:8080/"
        },
        "id": "YO5rvB6gpmgN",
        "outputId": "88dbdff2-5b1c-4f28-c5f4-e71f9e9d9089"
      },
      "source": [
        "\r\n",
        "print(total_no_claim)\r\n",
        "print(brand)\r\n",
        "print('most unclaimed brabd : ', brand[brd_cnt.argmax()], \"counts \", brd_cnt[brd_cnt.argmax()])\r\n"
      ],
      "execution_count": 6,
      "outputs": [
        {
          "output_type": "stream",
          "text": [
            "15804\n",
            "['SM C&C_틸리언', '기프티쇼_컬쳐랜드 모바일쿠폰', '원스토어', 'K쇼핑', '농협은행_올원뱅크', '롯데닷컴', '11번가', '네이버 선물서비스', '한국선불카드', 'CJ오쇼핑', '위메프', '㈜와이즈캔', '인터파크_매체', '이지웰페어_생활서비스', '기프티쇼_WEB', '하나멤버스', 'CLiP(클립)', '티앤케이팩토리_애즐', '신세계몰', '엠트웰브_옥션', '기프티쇼_APP', '엠트웰브_기프트팝', '기프티쇼_컬쳐랜드', '오베이', '빠데리충전코인', '브이피_안전결제기프트샵', '토토로사', '마시멜로우', '(주)인데이터랩', '원투씨엠_블루멤버스', '원투씨엠_KB리브메이트', '매일유업_매일멤버십', '미리내커뮤니티', '㈜케이티엠앤에스_매체연동_ITC몰', '에이플러스네트웍스_B2C', '해피캠퍼스[에이전트소프트]', '이지웰페어_케익배달', '이베이코리아_G마켓', '(주)하우투메리_매체', '네이버 스토어팜', '카카오커머스_선물하기', '코멘토', '롯데홈쇼핑', '삼성웰스토리_웰스토리몰', '텔코인_액티밸류', '확인영어N', '이지웰페어', '이지웰페어_KT복지몰', '이베이코리아_옥션', '마켓링크B2C', '기프티쇼_해피머니', '한미헬스케어_forhanmi', '이지웰페어_복지교환권', 'IBK 휙서비스', 'E1_매체사 이벤트', '한미헬스케어_HMP', '바다정보', '휴먼파워', '포스코ICT 컨텐츠 몰', '엠트웰브_스토어팜', '(주)구십팔퍼센트크리에이티브랩', '한미헬스케어_forhanmi_CS계정', '텔코인_씨엠마케팅_직찍', '기프티쇼_위메프 원더쇼핑', '굿윌헌팅', '아발론에듀', 'Hmall', '제로투세븐', 'SSG닷컴(구 이마트몰)', '기프티쇼_지식쇼핑', '죤파이브_한화손해보험FP몰', '한미헬스케어_영업부_CS계정', '엠트웰브_롯데닷컴', 'KT SHOP(구 올레샵)', '(주)케이비앤시_위비_B2C', 'LG라이프케어', '이지웰페어_롯데시네마', '나만알래', '(주)뮤엠교육', '유비스_유씨알엠', '메트릭스코퍼레이션', 'E1', 'LeadMe(레이즈지엘에스)', '스마트포스팅', '한국선불카드_발송계정', '인포러스', '뱅크월렛', '(주)몰더바래', '비즈메카이지', '티몬', 'kt SMB_대박이']\n",
            "most unclaimed brabd :  위메프 counts  4047.0\n"
          ],
          "name": "stdout"
        }
      ]
    },
    {
      "cell_type": "code",
      "metadata": {
        "colab": {
          "base_uri": "https://localhost:8080/"
        },
        "id": "FKKep9lhmZzb",
        "outputId": "cd87e877-b046-4b18-bbb2-8ebc9bdcd319"
      },
      "source": [
        "ratio = total_no_claim / 100000\r\n",
        "ratio * 100"
      ],
      "execution_count": 8,
      "outputs": [
        {
          "output_type": "execute_result",
          "data": {
            "text/plain": [
              "15.804000000000002"
            ]
          },
          "metadata": {
            "tags": []
          },
          "execution_count": 8
        }
      ]
    },
    {
      "cell_type": "code",
      "metadata": {
        "id": "69OL1upMs0iu"
      },
      "source": [
        ""
      ],
      "execution_count": null,
      "outputs": []
    }
  ]
}