{
  "nbformat": 4,
  "nbformat_minor": 0,
  "metadata": {
    "colab": {
      "name": "kt_project.ipynb의 사본",
      "provenance": [],
      "collapsed_sections": [],
      "authorship_tag": "ABX9TyOFa4PpXpvs9V3ebfjdeeAs",
      "include_colab_link": true
    },
    "kernelspec": {
      "name": "python3",
      "display_name": "Python 3"
    }
  },
  "cells": [
    {
      "cell_type": "markdown",
      "metadata": {
        "id": "view-in-github",
        "colab_type": "text"
      },
      "source": [
        "<a href=\"https://colab.research.google.com/github/choki0715/lecture/blob/master/kt_project_ipynb%EC%9D%98_%EC%82%AC%EB%B3%B8.ipynb\" target=\"_parent\"><img src=\"https://colab.research.google.com/assets/colab-badge.svg\" alt=\"Open In Colab\"/></a>"
      ]
    },
    {
      "cell_type": "code",
      "metadata": {
        "colab": {
          "base_uri": "https://localhost:8080/"
        },
        "id": "Z6-qbWAB3rcB",
        "outputId": "4aff6647-72a0-405a-bdef-15befe5ccd0e"
      },
      "source": [
        "#import tensorflow_datasets as tfds\r\n",
        "import tensorflow as tf\r\n",
        "import time\r\n",
        "import os, sys\r\n",
        "import numpy as np\r\n",
        "import pandas as pd\r\n",
        "import matplotlib as mpl\r\n",
        "import matplotlib.pyplot as plt\r\n",
        "import datetime\r\n",
        "import csv\r\n",
        "\r\n",
        "from google.colab import drive \r\n",
        "drive.mount('/content/gdrive/')\r\n",
        "drive.mount('/content/mnt') \r\n",
        "nb_path = '/content/notebooks' \r\n",
        "#os.symlink('/content/mnt/My Drive/Colab Notebooks', nb_path) \r\n",
        "sys.path.insert(0, nb_path)\r\n"
      ],
      "execution_count": null,
      "outputs": [
        {
          "output_type": "stream",
          "text": [
            "Mounted at /content/gdrive/\n",
            "Mounted at /content/mnt\n"
          ],
          "name": "stdout"
        }
      ]
    },
    {
      "cell_type": "code",
      "metadata": {
        "id": "HcSevllCYK0u"
      },
      "source": [
        "# 데이터 불러오기\r\n",
        "df = pd.read_excel('/content/mnt/MyDrive/Colab Notebooks/보안해제_(샘플)PMS1234_2019_B2C_데이터.xlsx', sheet_name = '워크시트 익스포트')"
      ],
      "execution_count": null,
      "outputs": []
    },
    {
      "cell_type": "code",
      "metadata": {
        "colab": {
          "base_uri": "https://localhost:8080/",
          "height": 628
        },
        "id": "bZGTWEcVYp-F",
        "outputId": "9513df56-80da-46b5-8cc5-51c82ba4c515"
      },
      "source": [
        "df.tail(10)"
      ],
      "execution_count": null,
      "outputs": [
        {
          "output_type": "execute_result",
          "data": {
            "text/html": [
              "<div>\n",
              "<style scoped>\n",
              "    .dataframe tbody tr th:only-of-type {\n",
              "        vertical-align: middle;\n",
              "    }\n",
              "\n",
              "    .dataframe tbody tr th {\n",
              "        vertical-align: top;\n",
              "    }\n",
              "\n",
              "    .dataframe thead th {\n",
              "        text-align: right;\n",
              "    }\n",
              "</style>\n",
              "<table border=\"1\" class=\"dataframe\">\n",
              "  <thead>\n",
              "    <tr style=\"text-align: right;\">\n",
              "      <th></th>\n",
              "      <th>고객사명</th>\n",
              "      <th>발신자번호</th>\n",
              "      <th>수신자번호</th>\n",
              "      <th>브랜드명</th>\n",
              "      <th>상품명</th>\n",
              "      <th>단가</th>\n",
              "      <th>메세지내용</th>\n",
              "      <th>발송일시</th>\n",
              "      <th>교환일시</th>\n",
              "    </tr>\n",
              "  </thead>\n",
              "  <tbody>\n",
              "    <tr>\n",
              "      <th>1047991</th>\n",
              "      <td>네이버 선물서비스</td>\n",
              "      <td>FYd5hCBWMLAnJn9MZW755g==</td>\n",
              "      <td>6ZEuDWgiIDO0Vc2nN9lGsw==</td>\n",
              "      <td>배스킨라빈스</td>\n",
              "      <td>핸드팩세트 (파인트 4개)</td>\n",
              "      <td>27000</td>\n",
              "      <td>스토어팜 e쿠폰 도착!</td>\n",
              "      <td>20190424215431</td>\n",
              "      <td>NaN</td>\n",
              "    </tr>\n",
              "    <tr>\n",
              "      <th>1047992</th>\n",
              "      <td>이베이코리아_G마켓</td>\n",
              "      <td>ow3gkFQSXMcEkBL3vmU6qw==</td>\n",
              "      <td>mRNnli3Lf+Jhi88XbQDH7Q==</td>\n",
              "      <td>맘스터치</td>\n",
              "      <td>딥치즈버거 세트</td>\n",
              "      <td>6000</td>\n",
              "      <td>G마켓/G9 e쿠폰 도착!</td>\n",
              "      <td>20190424220036</td>\n",
              "      <td>2.019043e+13</td>\n",
              "    </tr>\n",
              "    <tr>\n",
              "      <th>1047993</th>\n",
              "      <td>기프티쇼_WEB</td>\n",
              "      <td>kUHKKq72zep7QBl0o2ET0A==</td>\n",
              "      <td>hIsR7P1N8RfoqUBCpFivWg==</td>\n",
              "      <td>배스킨라빈스</td>\n",
              "      <td>더블레귤러 아이스크림</td>\n",
              "      <td>5400</td>\n",
              "      <td>기프티쇼 선물도착</td>\n",
              "      <td>20190425092206</td>\n",
              "      <td>2.019071e+13</td>\n",
              "    </tr>\n",
              "    <tr>\n",
              "      <th>1047994</th>\n",
              "      <td>기프티쇼_WEB</td>\n",
              "      <td>yQo0wKia+Psw0c9w3lGpdQ==</td>\n",
              "      <td>5pvmqiy4SBkRDMScS2NsMg==</td>\n",
              "      <td>파리바게뜨</td>\n",
              "      <td>마이넘버원2</td>\n",
              "      <td>27000</td>\n",
              "      <td>4월 25일 두 분의 결혼기념일을 진심으로 축하드리며, 앞으로 더욱더 행복한 가정 ...</td>\n",
              "      <td>20190425092251</td>\n",
              "      <td>2.019051e+13</td>\n",
              "    </tr>\n",
              "    <tr>\n",
              "      <th>1047995</th>\n",
              "      <td>인터파크_매체</td>\n",
              "      <td>rbj7yEtclcgD1LflD4FcMQ==</td>\n",
              "      <td>k6y0au/kFdAcCwVEcWaT2Q==</td>\n",
              "      <td>할리스커피</td>\n",
              "      <td>카라멜 마키아또 R</td>\n",
              "      <td>5500</td>\n",
              "      <td>인터파크에서 구매하신 [기프티쇼] 할리스커피 카라멜마키아또R 상품이 도착하였습니다.</td>\n",
              "      <td>20190425092344</td>\n",
              "      <td>NaN</td>\n",
              "    </tr>\n",
              "    <tr>\n",
              "      <th>1047996</th>\n",
              "      <td>이지웰페어</td>\n",
              "      <td>5K8btuAswFXr/cxSIliY2g==</td>\n",
              "      <td>g/bV/5bdQpgCQHhSbgsTeg==</td>\n",
              "      <td>배스킨라빈스</td>\n",
              "      <td>바로 먹는 와츄원</td>\n",
              "      <td>31000</td>\n",
              "      <td>사랑하는 지희야 생일 축하해. 즐거운 하루 보내.</td>\n",
              "      <td>20190425092453</td>\n",
              "      <td>2.019051e+13</td>\n",
              "    </tr>\n",
              "    <tr>\n",
              "      <th>1047997</th>\n",
              "      <td>위메프</td>\n",
              "      <td>rz2JlqKy9TsGrhd4uEg+Vg==</td>\n",
              "      <td>CzktM8fSqHfuGWX2kYzMmw==</td>\n",
              "      <td>편의점금액권(일반)</td>\n",
              "      <td>세븐일레븐 모바일상품권 1만원권(일반고객용)</td>\n",
              "      <td>10000</td>\n",
              "      <td>위메프에서 구매하신 상품입니다.</td>\n",
              "      <td>20190425092635</td>\n",
              "      <td>2.019043e+13</td>\n",
              "    </tr>\n",
              "    <tr>\n",
              "      <th>1047998</th>\n",
              "      <td>하나멤버스</td>\n",
              "      <td>pZjvOZDr11C56Db1nVKBhg==</td>\n",
              "      <td>u7xSAnoSlAwTUJDGRavqEw==</td>\n",
              "      <td>스타벅스</td>\n",
              "      <td>아이스 카페아메리카노 Tall</td>\n",
              "      <td>4100</td>\n",
              "      <td>생신 축하드립니다. 더울때 시원하게 한잔 마시면서 잠시 여유롭게 시간을 즐기세요</td>\n",
              "      <td>20190425092930</td>\n",
              "      <td>NaN</td>\n",
              "    </tr>\n",
              "    <tr>\n",
              "      <th>1047999</th>\n",
              "      <td>기프티쇼_WEB</td>\n",
              "      <td>1pVadzF7m8u2+hIPinl6dQ==</td>\n",
              "      <td>nWVlqbCs/TkYrHn14n28CA==</td>\n",
              "      <td>이디야커피</td>\n",
              "      <td>카페아메리카노(HOT)</td>\n",
              "      <td>3200</td>\n",
              "      <td>고객님!\\r\\n생일을 진심으로 축하드립니다.\\r\\n앞으로의 인생도 햇빛처럼 찬란히,...</td>\n",
              "      <td>20190425093008</td>\n",
              "      <td>NaN</td>\n",
              "    </tr>\n",
              "    <tr>\n",
              "      <th>1048000</th>\n",
              "      <td>인터파크_매체</td>\n",
              "      <td>rbj7yEtclcgD1LflD4FcMQ==</td>\n",
              "      <td>NrpMx7CAbdvRUhbp4kf/PA==</td>\n",
              "      <td>배스킨라빈스</td>\n",
              "      <td>아이스크림 롤(2종 중 택1)</td>\n",
              "      <td>1500</td>\n",
              "      <td>인터파크에서 구매하신 [기프티쇼] 배스킨라빈스 아이스크림 롤(2종 중 택1) 상품이...</td>\n",
              "      <td>20190425093013</td>\n",
              "      <td>NaN</td>\n",
              "    </tr>\n",
              "  </tbody>\n",
              "</table>\n",
              "</div>"
            ],
            "text/plain": [
              "               고객사명                     발신자번호  ...            발송일시          교환일시\n",
              "1047991   네이버 선물서비스  FYd5hCBWMLAnJn9MZW755g==  ...  20190424215431           NaN\n",
              "1047992  이베이코리아_G마켓  ow3gkFQSXMcEkBL3vmU6qw==  ...  20190424220036  2.019043e+13\n",
              "1047993    기프티쇼_WEB  kUHKKq72zep7QBl0o2ET0A==  ...  20190425092206  2.019071e+13\n",
              "1047994    기프티쇼_WEB  yQo0wKia+Psw0c9w3lGpdQ==  ...  20190425092251  2.019051e+13\n",
              "1047995     인터파크_매체  rbj7yEtclcgD1LflD4FcMQ==  ...  20190425092344           NaN\n",
              "1047996       이지웰페어  5K8btuAswFXr/cxSIliY2g==  ...  20190425092453  2.019051e+13\n",
              "1047997         위메프  rz2JlqKy9TsGrhd4uEg+Vg==  ...  20190425092635  2.019043e+13\n",
              "1047998       하나멤버스  pZjvOZDr11C56Db1nVKBhg==  ...  20190425092930           NaN\n",
              "1047999    기프티쇼_WEB  1pVadzF7m8u2+hIPinl6dQ==  ...  20190425093008           NaN\n",
              "1048000     인터파크_매체  rbj7yEtclcgD1LflD4FcMQ==  ...  20190425093013           NaN\n",
              "\n",
              "[10 rows x 9 columns]"
            ]
          },
          "metadata": {
            "tags": []
          },
          "execution_count": 14
        }
      ]
    },
    {
      "cell_type": "code",
      "metadata": {
        "id": "LCt-Yr51ZElo",
        "colab": {
          "base_uri": "https://localhost:8080/"
        },
        "outputId": "dd255ae4-bf58-4bdd-91f3-d1312ded88d7"
      },
      "source": [
        "cnt = 0\r\n",
        "row_len = df.shape[0]\r\n",
        "print(row_len)\r\n"
      ],
      "execution_count": null,
      "outputs": [
        {
          "output_type": "stream",
          "text": [
            "1048001\n"
          ],
          "name": "stdout"
        }
      ]
    },
    {
      "cell_type": "code",
      "metadata": {
        "id": "nbO-Ccdndnxx",
        "colab": {
          "base_uri": "https://localhost:8080/"
        },
        "outputId": "43b581b7-ba7f-405f-caf6-8d1a55eccb74"
      },
      "source": [
        "total_no_claim = 0\r\n",
        "brand = []\r\n",
        "brd_cnt = [0]*100000\r\n",
        "\r\n",
        "for i in range(1000):\r\n",
        "  if df['교환일시'].isnull().iloc[i]: \r\n",
        "    if total_no_claim == 0:\r\n",
        "      brand.append(df.iloc[i,0])\r\n",
        "      brd_cnt[0] += 1\r\n",
        "      total_no_claim += 1\r\n",
        "    else:\r\n",
        "      for j in range(len(brand)):\r\n",
        "        if df.iloc[i,0] == brand[j]:\r\n",
        "          brd_cnt[j] += 1\r\n",
        "          total_no_claim += 1\r\n",
        "          break\r\n",
        "      brand.append(df.iloc[i,0])\r\n",
        "\r\n",
        "print(cnt)\r\n",
        "print(brand)\r\n"
      ],
      "execution_count": null,
      "outputs": [
        {
          "output_type": "stream",
          "text": [
            "231\n",
            "['SM C&C_틸리언', '기프티쇼_컬쳐랜드 모바일쿠폰', '원스토어', 'K쇼핑', '농협은행_올원뱅크', '롯데닷컴', '기프티쇼_컬쳐랜드 모바일쿠폰', '기프티쇼_컬쳐랜드 모바일쿠폰', 'K쇼핑', '원스토어', 'K쇼핑', '11번가', 'K쇼핑', 'K쇼핑', 'K쇼핑', '네이버 선물서비스', '한국선불카드', 'K쇼핑', 'CJ오쇼핑', '위메프', 'CJ오쇼핑', '㈜와이즈캔', 'CJ오쇼핑', 'CJ오쇼핑', 'CJ오쇼핑', '위메프', 'CJ오쇼핑', '위메프', '인터파크_매체', '인터파크_매체', '인터파크_매체', 'CJ오쇼핑', 'CJ오쇼핑', 'CJ오쇼핑', 'CJ오쇼핑', 'CJ오쇼핑', 'CJ오쇼핑', '이지웰페어_생활서비스', '원스토어', '인터파크_매체', '인터파크_매체', 'CJ오쇼핑', 'CJ오쇼핑', '인터파크_매체', '위메프', 'CJ오쇼핑', 'CJ오쇼핑', 'CJ오쇼핑', 'CJ오쇼핑', 'CJ오쇼핑', '위메프', '위메프', 'CJ오쇼핑', '위메프', 'CJ오쇼핑', '위메프', 'CJ오쇼핑', '위메프', '기프티쇼_WEB', 'CJ오쇼핑', 'CJ오쇼핑', '인터파크_매체', 'CJ오쇼핑', 'CJ오쇼핑', '인터파크_매체', 'CJ오쇼핑', 'K쇼핑', '하나멤버스', '인터파크_매체', '위메프', '인터파크_매체', 'CJ오쇼핑', 'CJ오쇼핑', 'CJ오쇼핑', 'CJ오쇼핑', 'CJ오쇼핑', '기프티쇼_WEB', 'CJ오쇼핑', '위메프', 'CJ오쇼핑', 'CLiP(클립)', 'CJ오쇼핑', 'CLiP(클립)', 'CJ오쇼핑', '위메프', '이지웰페어_생활서비스', 'CJ오쇼핑', 'CJ오쇼핑', 'CJ오쇼핑', 'CJ오쇼핑', '위메프', '인터파크_매체', 'CJ오쇼핑', 'CJ오쇼핑', '11번가', 'CJ오쇼핑', 'CJ오쇼핑', '위메프', 'CJ오쇼핑', 'CJ오쇼핑', '11번가', '11번가', '11번가', '인터파크_매체', 'CJ오쇼핑', 'K쇼핑', '롯데닷컴', '인터파크_매체', 'K쇼핑', '인터파크_매체', 'CJ오쇼핑', 'CJ오쇼핑', '위메프', '티앤케이팩토리_애즐', 'CJ오쇼핑', '위메프', 'CJ오쇼핑', 'CJ오쇼핑', 'CJ오쇼핑', 'CJ오쇼핑', 'CJ오쇼핑', '인터파크_매체', '하나멤버스', 'CJ오쇼핑', 'CJ오쇼핑', 'CJ오쇼핑', 'CJ오쇼핑', 'CJ오쇼핑', 'CJ오쇼핑', 'CJ오쇼핑', 'CJ오쇼핑', 'CJ오쇼핑', 'CJ오쇼핑', 'CJ오쇼핑', 'CJ오쇼핑', '신세계몰', '인터파크_매체', '인터파크_매체', 'CJ오쇼핑', 'CJ오쇼핑', 'CJ오쇼핑', 'CJ오쇼핑', 'CJ오쇼핑', '위메프', '엠트웰브_옥션', '위메프', 'CJ오쇼핑', 'CJ오쇼핑', 'CJ오쇼핑', 'CJ오쇼핑', 'CJ오쇼핑', 'CJ오쇼핑', 'CJ오쇼핑', 'CJ오쇼핑', 'CJ오쇼핑', 'CJ오쇼핑', 'CJ오쇼핑', 'CJ오쇼핑', 'CJ오쇼핑', 'CJ오쇼핑', 'CJ오쇼핑', 'K쇼핑', '11번가', 'CJ오쇼핑', '인터파크_매체', 'CJ오쇼핑', '11번가', '11번가', '11번가', 'K쇼핑', 'K쇼핑', '인터파크_매체', '이지웰페어_생활서비스', '기프티쇼_APP', 'CJ오쇼핑', 'CJ오쇼핑', 'CJ오쇼핑', '11번가', 'CJ오쇼핑', 'CJ오쇼핑', 'CJ오쇼핑', 'CJ오쇼핑', 'CJ오쇼핑', 'CJ오쇼핑', 'CJ오쇼핑', 'CJ오쇼핑', 'CJ오쇼핑', 'CJ오쇼핑', 'CJ오쇼핑', 'CJ오쇼핑', 'CJ오쇼핑', 'CJ오쇼핑', '엠트웰브_기프트팝', '인터파크_매체', '기프티쇼_컬쳐랜드', 'CJ오쇼핑', 'CJ오쇼핑', 'CJ오쇼핑', '오베이', 'CJ오쇼핑', '티앤케이팩토리_애즐', '위메프', '위메프', 'CJ오쇼핑', '오베이', 'CJ오쇼핑', 'CJ오쇼핑', 'CJ오쇼핑', '기프티쇼_WEB', 'CJ오쇼핑', 'K쇼핑', 'CJ오쇼핑', 'CJ오쇼핑', 'CJ오쇼핑', 'CJ오쇼핑', 'CJ오쇼핑', '기프티쇼_WEB', 'CJ오쇼핑', 'CJ오쇼핑', 'CJ오쇼핑', 'CJ오쇼핑', 'CJ오쇼핑', 'CJ오쇼핑', '위메프', 'CJ오쇼핑', 'CJ오쇼핑', 'CJ오쇼핑', 'CJ오쇼핑', 'CJ오쇼핑', '위메프', 'CJ오쇼핑']\n"
          ],
          "name": "stdout"
        }
      ]
    },
    {
      "cell_type": "code",
      "metadata": {
        "id": "04Ti6M6xeXaF",
        "colab": {
          "base_uri": "https://localhost:8080/"
        },
        "outputId": "ed5d44a9-7604-4b1f-d3ad-f40dfa921d13"
      },
      "source": [
        "for i in range(5):\r\n",
        "  print(i)"
      ],
      "execution_count": 3,
      "outputs": [
        {
          "output_type": "stream",
          "text": [
            "0\n",
            "1\n",
            "2\n",
            "3\n",
            "4\n"
          ],
          "name": "stdout"
        }
      ]
    },
    {
      "cell_type": "code",
      "metadata": {
        "id": "FKKep9lhmZzb"
      },
      "source": [
        ""
      ],
      "execution_count": null,
      "outputs": []
    }
  ]
}