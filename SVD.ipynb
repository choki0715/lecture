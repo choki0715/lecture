{
  "nbformat": 4,
  "nbformat_minor": 0,
  "metadata": {
    "colab": {
      "name": "SVD.ipynb",
      "provenance": [],
      "collapsed_sections": [],
      "authorship_tag": "ABX9TyPEwYMWFNhDSSkRU0CoMyiG",
      "include_colab_link": true
    },
    "kernelspec": {
      "name": "python3",
      "display_name": "Python 3"
    },
    "language_info": {
      "name": "python"
    }
  },
  "cells": [
    {
      "cell_type": "markdown",
      "metadata": {
        "id": "view-in-github",
        "colab_type": "text"
      },
      "source": [
        "<a href=\"https://colab.research.google.com/github/choki0715/lecture/blob/master/SVD.ipynb\" target=\"_parent\"><img src=\"https://colab.research.google.com/assets/colab-badge.svg\" alt=\"Open In Colab\"/></a>"
      ]
    },
    {
      "cell_type": "code",
      "execution_count": 64,
      "metadata": {
        "colab": {
          "base_uri": "https://localhost:8080/"
        },
        "id": "ANQejICiVl16",
        "outputId": "2f70dba6-dccd-4b33-c2c2-7aac0dfc5c9d"
      },
      "outputs": [
        {
          "output_type": "execute_result",
          "data": {
            "text/plain": [
              "array([[-0.64455734,  1.99455504,  0.02989695],\n",
              "       [ 0.01314807, -0.29221648, -1.20011377],\n",
              "       [-0.32397004,  1.46019597,  0.41399839],\n",
              "       [ 0.35031531,  1.62338575,  0.98832351]])"
            ]
          },
          "metadata": {},
          "execution_count": 64
        }
      ],
      "source": [
        "import numpy as np\n",
        "\n",
        "A = np.random.randn(4, 3)\n",
        "A"
      ]
    },
    {
      "cell_type": "code",
      "source": [
        "u, sig, v_t = np.linalg.svd(A, full_matrices=False)\n",
        "\n",
        "print(\"u  :\" + str(u.shape))\n",
        "print(\"sig:\" + str(sig.shape))\n",
        "print(\"v_t:\" + str(v_t.shape))"
      ],
      "metadata": {
        "colab": {
          "base_uri": "https://localhost:8080/"
        },
        "id": "W4V48aHQVqk4",
        "outputId": "2c117475-9c87-4802-e013-01388040e37b"
      },
      "execution_count": 65,
      "outputs": [
        {
          "output_type": "stream",
          "name": "stdout",
          "text": [
            "u  :(4, 3)\n",
            "sig:(3,)\n",
            "v_t:(3, 3)\n"
          ]
        }
      ]
    },
    {
      "cell_type": "code",
      "source": [
        "sig"
      ],
      "metadata": {
        "colab": {
          "base_uri": "https://localhost:8080/"
        },
        "id": "rOqZoJQeVzzs",
        "outputId": "f0afd872-7adf-4114-e9af-2a7c40ba1d6a"
      },
      "execution_count": 66,
      "outputs": [
        {
          "output_type": "execute_result",
          "data": {
            "text/plain": [
              "array([3.14750293, 1.36969623, 0.53009502])"
            ]
          },
          "metadata": {},
          "execution_count": 66
        }
      ]
    },
    {
      "cell_type": "code",
      "source": [
        "s = np.diag(sig)\n",
        "s"
      ],
      "metadata": {
        "colab": {
          "base_uri": "https://localhost:8080/"
        },
        "id": "Oj3Fnu47Weza",
        "outputId": "5f46f8e9-63b3-4590-8653-f1a8018c5e3c"
      },
      "execution_count": 67,
      "outputs": [
        {
          "output_type": "execute_result",
          "data": {
            "text/plain": [
              "array([[3.14750293, 0.        , 0.        ],\n",
              "       [0.        , 1.36969623, 0.        ],\n",
              "       [0.        , 0.        , 0.53009502]])"
            ]
          },
          "metadata": {},
          "execution_count": 67
        }
      ]
    },
    {
      "cell_type": "code",
      "source": [
        "tmp = np.matmul(u, s)\n",
        "tmp"
      ],
      "metadata": {
        "colab": {
          "base_uri": "https://localhost:8080/"
        },
        "id": "_EvLHqdCW6UJ",
        "outputId": "82ce505a-0930-4ac9-f104-058cc497b9ad"
      },
      "execution_count": 68,
      "outputs": [
        {
          "output_type": "execute_result",
          "data": {
            "text/plain": [
              "array([[ 1.95092113, -0.75361185, -0.14343542],\n",
              "       [-0.67393386, -0.97734757,  0.34123493],\n",
              "       [ 1.54166428, -0.14831668, -0.09897948],\n",
              "       [ 1.80824939,  0.57526589,  0.36631789]])"
            ]
          },
          "metadata": {},
          "execution_count": 68
        }
      ]
    },
    {
      "cell_type": "code",
      "source": [
        "AA = np.matmul(tmp, v_t)\n",
        "AA"
      ],
      "metadata": {
        "colab": {
          "base_uri": "https://localhost:8080/"
        },
        "id": "kZlyUWiRXFMR",
        "outputId": "a0ad9e3c-9c91-4912-8bd6-19ccae70d650"
      },
      "execution_count": 70,
      "outputs": [
        {
          "output_type": "execute_result",
          "data": {
            "text/plain": [
              "array([[-0.64455734,  1.99455504,  0.02989695],\n",
              "       [ 0.01314807, -0.29221648, -1.20011377],\n",
              "       [-0.32397004,  1.46019597,  0.41399839],\n",
              "       [ 0.35031531,  1.62338575,  0.98832351]])"
            ]
          },
          "metadata": {},
          "execution_count": 70
        }
      ]
    },
    {
      "cell_type": "code",
      "source": [
        "A_t = np.transpose(A)\n",
        "A_t\n",
        "\n"
      ],
      "metadata": {
        "colab": {
          "base_uri": "https://localhost:8080/"
        },
        "id": "JptDaoYkXfM1",
        "outputId": "8f195930-38c0-44e9-fb07-366139b0f0c4"
      },
      "execution_count": 71,
      "outputs": [
        {
          "output_type": "execute_result",
          "data": {
            "text/plain": [
              "array([[-0.64455734,  0.01314807, -0.32397004,  0.35031531],\n",
              "       [ 1.99455504, -0.29221648,  1.46019597,  1.62338575],\n",
              "       [ 0.02989695, -1.20011377,  0.41399839,  0.98832351]])"
            ]
          },
          "metadata": {},
          "execution_count": 71
        }
      ]
    },
    {
      "cell_type": "code",
      "source": [
        "\n",
        "AA_t = np.matmul(A, A_t)\n",
        "A_tA = np.matmul(A_t, A)\n",
        "\n",
        "print(AA_t)\n",
        "print(A_tA)"
      ],
      "metadata": {
        "colab": {
          "base_uri": "https://localhost:8080/"
        },
        "id": "L8KIdxfeYG3z",
        "outputId": "f864514c-0b5e-42e7-f3a0-75fafb43766d"
      },
      "execution_count": 72,
      "outputs": [
        {
          "output_type": "stream",
          "name": "stdout",
          "text": [
            "[[ 4.3945978  -0.62719628  3.13363578  3.04168179]\n",
            " [-0.62719628  1.5258364  -0.92779807 -1.65587475]\n",
            " [ 3.13363578 -0.92779807  2.40852351  2.666134  ]\n",
            " [ 3.04168179 -1.65587475  2.666134    3.73488548]]\n",
            "[[ 0.64330444 -1.19381003  0.17705231]\n",
            " [-1.19381003  8.83119385  2.6192732 ]\n",
            " [ 0.17705231  2.6192732   2.5893449 ]]\n"
          ]
        }
      ]
    },
    {
      "cell_type": "code",
      "source": [
        "u_eig, u_vec = np.linalg.eig(AA_t)\n",
        "u_eig, u_vec"
      ],
      "metadata": {
        "colab": {
          "base_uri": "https://localhost:8080/"
        },
        "id": "WntfN4E-YWDa",
        "outputId": "4e1262d3-64fa-4952-9f29-fd923c039e46"
      },
      "execution_count": 73,
      "outputs": [
        {
          "output_type": "execute_result",
          "data": {
            "text/plain": [
              "(array([9.90677469e+00, 1.87606777e+00, 2.70970805e-16, 2.81000729e-01]),\n",
              " array([[ 0.6198314 , -0.55020364, -0.48976433, -0.27058436],\n",
              "        [-0.21411699, -0.7135506 ,  0.17498219,  0.64372408],\n",
              "        [ 0.48980551, -0.10828436,  0.84468965, -0.18672026],\n",
              "        [ 0.57450284,  0.41999523, -0.12653666,  0.69104194]]))"
            ]
          },
          "metadata": {},
          "execution_count": 73
        }
      ]
    },
    {
      "cell_type": "code",
      "source": [
        "v_eig, v_vec = np.linalg.eig(A_tA)\n",
        "v_eig, v_vec"
      ],
      "metadata": {
        "colab": {
          "base_uri": "https://localhost:8080/"
        },
        "id": "Eqss1xwtYxyb",
        "outputId": "ca04d124-9c41-4e95-d617-bc2b71b9c098"
      },
      "execution_count": 74,
      "outputs": [
        {
          "output_type": "execute_result",
          "data": {
            "text/plain": [
              "(array([9.90677469, 0.28100073, 1.87606777]),\n",
              " array([[-0.11429926,  0.91577018,  0.38509825],\n",
              "        [ 0.93620504,  0.22897268, -0.26663014],\n",
              "        [ 0.33234891, -0.3300553 ,  0.88352006]]))"
            ]
          },
          "metadata": {},
          "execution_count": 74
        }
      ]
    },
    {
      "cell_type": "code",
      "source": [
        "from sklearn.decomposition import TruncatedSVD\n",
        "\n",
        "my_svd = TruncatedSVD(n_components=2)\n",
        "\n",
        "my_svd.fit(A)"
      ],
      "metadata": {
        "colab": {
          "base_uri": "https://localhost:8080/"
        },
        "id": "yfoECr_-Y9nV",
        "outputId": "64ba0eb6-0ba8-46a6-a60a-9952d6b0e5d0"
      },
      "execution_count": 75,
      "outputs": [
        {
          "output_type": "execute_result",
          "data": {
            "text/plain": [
              "TruncatedSVD()"
            ]
          },
          "metadata": {},
          "execution_count": 75
        }
      ]
    },
    {
      "cell_type": "code",
      "source": [
        "print(my_svd.singular_values_)"
      ],
      "metadata": {
        "colab": {
          "base_uri": "https://localhost:8080/"
        },
        "id": "zRALJ_ROZ_TI",
        "outputId": "84d0048f-03d5-46f9-ddeb-9951e6858aa1"
      },
      "execution_count": 76,
      "outputs": [
        {
          "output_type": "stream",
          "name": "stdout",
          "text": [
            "[3.14750293 1.36969623]\n"
          ]
        }
      ]
    },
    {
      "cell_type": "code",
      "source": [
        "A_2 = my_svd.transform(A)\n",
        "A_2"
      ],
      "metadata": {
        "colab": {
          "base_uri": "https://localhost:8080/"
        },
        "id": "h-F2s0DXaHGU",
        "outputId": "45f06cf3-5cb0-4b9e-83a6-23fe1ab8cb88"
      },
      "execution_count": 77,
      "outputs": [
        {
          "output_type": "execute_result",
          "data": {
            "text/plain": [
              "array([[ 1.95092113,  0.75361185],\n",
              "       [-0.67393386,  0.97734757],\n",
              "       [ 1.54166428,  0.14831668],\n",
              "       [ 1.80824939, -0.57526589]])"
            ]
          },
          "metadata": {},
          "execution_count": 77
        }
      ]
    },
    {
      "cell_type": "code",
      "source": [
        "print( s[:2,:2] )\n",
        "A_2 = np.matmul(A_2, s[:2,:2])\n",
        "A_2 = np.matmul( A_2, v_t[:2,:])\n",
        "A_2"
      ],
      "metadata": {
        "colab": {
          "base_uri": "https://localhost:8080/"
        },
        "id": "RBAspHpQhaxG",
        "outputId": "355ffe1f-175e-47e5-a552-f88a95503fba"
      },
      "execution_count": 78,
      "outputs": [
        {
          "output_type": "stream",
          "name": "stdout",
          "text": [
            "[[3.14750293 0.        ]\n",
            " [0.         1.36969623]]\n"
          ]
        },
        {
          "output_type": "execute_result",
          "data": {
            "text/plain": [
              "array([[-0.3043522 ,  5.47357434,  2.95278492],\n",
              "       [ 0.75797181, -2.34281596,  0.47775973],\n",
              "       [-0.47639268,  4.48866903,  1.79217351],\n",
              "       [-0.95396499,  5.53847156,  1.19539357]])"
            ]
          },
          "metadata": {},
          "execution_count": 78
        }
      ]
    },
    {
      "cell_type": "code",
      "source": [
        " from sklearn.datasets import load_iris\n",
        " from sklearn.decomposition import TruncatedSVD "
      ],
      "metadata": {
        "id": "_f5DEatKapdN"
      },
      "execution_count": 79,
      "outputs": []
    },
    {
      "cell_type": "code",
      "source": [
        " iris = load_iris()\n",
        " X = iris.data\n",
        " Y = iris.target\n",
        " X[:10] "
      ],
      "metadata": {
        "colab": {
          "base_uri": "https://localhost:8080/"
        },
        "id": "P5r8UsaPgrsv",
        "outputId": "42697e85-cf4e-429c-b02a-672c7c17a637"
      },
      "execution_count": 80,
      "outputs": [
        {
          "output_type": "execute_result",
          "data": {
            "text/plain": [
              "array([[5.1, 3.5, 1.4, 0.2],\n",
              "       [4.9, 3. , 1.4, 0.2],\n",
              "       [4.7, 3.2, 1.3, 0.2],\n",
              "       [4.6, 3.1, 1.5, 0.2],\n",
              "       [5. , 3.6, 1.4, 0.2],\n",
              "       [5.4, 3.9, 1.7, 0.4],\n",
              "       [4.6, 3.4, 1.4, 0.3],\n",
              "       [5. , 3.4, 1.5, 0.2],\n",
              "       [4.4, 2.9, 1.4, 0.2],\n",
              "       [4.9, 3.1, 1.5, 0.1]])"
            ]
          },
          "metadata": {},
          "execution_count": 80
        }
      ]
    },
    {
      "cell_type": "code",
      "source": [
        "SVD_2=TruncatedSVD(2)"
      ],
      "metadata": {
        "id": "9c13aNEggyqM"
      },
      "execution_count": 81,
      "outputs": []
    },
    {
      "cell_type": "code",
      "source": [
        " X_truncated = SVD_2.fit_transform(X)\n",
        " X_truncated[:10] "
      ],
      "metadata": {
        "colab": {
          "base_uri": "https://localhost:8080/"
        },
        "id": "z9i6Pzbvg3ww",
        "outputId": "9be981a3-f392-4573-8115-886ff46c997d"
      },
      "execution_count": 82,
      "outputs": [
        {
          "output_type": "execute_result",
          "data": {
            "text/plain": [
              "array([[5.91274714, 2.30203322],\n",
              "       [5.57248242, 1.97182599],\n",
              "       [5.44697714, 2.09520636],\n",
              "       [5.43645948, 1.87038151],\n",
              "       [5.87564494, 2.32829018],\n",
              "       [6.47759822, 2.32464996],\n",
              "       [5.5159752 , 2.07090423],\n",
              "       [5.85092859, 2.14807482],\n",
              "       [5.15891972, 1.77506408],\n",
              "       [5.64500117, 1.99000106]])"
            ]
          },
          "metadata": {},
          "execution_count": 82
        }
      ]
    },
    {
      "cell_type": "code",
      "source": [
        ""
      ],
      "metadata": {
        "id": "sK3tpemThAq_"
      },
      "execution_count": null,
      "outputs": []
    }
  ]
}