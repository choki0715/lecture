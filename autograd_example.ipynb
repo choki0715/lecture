{
  "nbformat": 4,
  "nbformat_minor": 0,
  "metadata": {
    "colab": {
      "provenance": [],
      "authorship_tag": "ABX9TyPmIP4HRDkTGlHGNdpvckld",
      "include_colab_link": true
    },
    "kernelspec": {
      "name": "python3",
      "display_name": "Python 3"
    },
    "language_info": {
      "name": "python"
    }
  },
  "cells": [
    {
      "cell_type": "markdown",
      "metadata": {
        "id": "view-in-github",
        "colab_type": "text"
      },
      "source": [
        "<a href=\"https://colab.research.google.com/github/choki0715/lecture/blob/master/autograd_example.ipynb\" target=\"_parent\"><img src=\"https://colab.research.google.com/assets/colab-badge.svg\" alt=\"Open In Colab\"/></a>"
      ]
    },
    {
      "cell_type": "code",
      "execution_count": 1,
      "metadata": {
        "id": "ezER5c05Bzdu"
      },
      "outputs": [],
      "source": [
        "import torch\n",
        "\n",
        "a = torch.tensor([2.], requires_grad=True)\n",
        "b = torch.tensor([6.], requires_grad=True)"
      ]
    },
    {
      "cell_type": "code",
      "source": [
        "pred = 3*a**3 - b**2"
      ],
      "metadata": {
        "id": "u_gWXfsgB_bC"
      },
      "execution_count": 8,
      "outputs": []
    },
    {
      "cell_type": "code",
      "source": [
        "label = torch.tensor([2.])"
      ],
      "metadata": {
        "id": "FDZ8l838d5aL"
      },
      "execution_count": 9,
      "outputs": []
    },
    {
      "cell_type": "code",
      "source": [
        "cost = (pred - label)**2"
      ],
      "metadata": {
        "id": "uxZLxqgPeH3b"
      },
      "execution_count": 10,
      "outputs": []
    },
    {
      "cell_type": "code",
      "source": [
        "cost.backward()"
      ],
      "metadata": {
        "id": "gtOLNVdiCJGZ"
      },
      "execution_count": 11,
      "outputs": []
    },
    {
      "cell_type": "code",
      "source": [
        "a.grad"
      ],
      "metadata": {
        "id": "NyAe_8HPDex3",
        "colab": {
          "base_uri": "https://localhost:8080/"
        },
        "outputId": "c982c7f8-9b94-42db-d9e2-e32659d071d0"
      },
      "execution_count": 12,
      "outputs": [
        {
          "output_type": "execute_result",
          "data": {
            "text/plain": [
              "tensor([-972.])"
            ]
          },
          "metadata": {},
          "execution_count": 12
        }
      ]
    },
    {
      "cell_type": "code",
      "source": [
        "b.grad"
      ],
      "metadata": {
        "id": "Cs2u4VaUDocI",
        "colab": {
          "base_uri": "https://localhost:8080/"
        },
        "outputId": "a2f0e2b6-78c1-4897-c267-53127ad1eb02"
      },
      "execution_count": 13,
      "outputs": [
        {
          "output_type": "execute_result",
          "data": {
            "text/plain": [
              "tensor([324.])"
            ]
          },
          "metadata": {},
          "execution_count": 13
        }
      ]
    },
    {
      "cell_type": "code",
      "source": [
        "9*a**2"
      ],
      "metadata": {
        "colab": {
          "base_uri": "https://localhost:8080/"
        },
        "id": "VR0iS24MDqme",
        "outputId": "129e98a8-be0d-47be-e371-0c710b2c3fda"
      },
      "execution_count": 7,
      "outputs": [
        {
          "output_type": "execute_result",
          "data": {
            "text/plain": [
              "tensor([36.], grad_fn=<MulBackward0>)"
            ]
          },
          "metadata": {},
          "execution_count": 7
        }
      ]
    },
    {
      "cell_type": "code",
      "source": [],
      "metadata": {
        "id": "KA-gLkQvDu-j"
      },
      "execution_count": null,
      "outputs": []
    }
  ]
}