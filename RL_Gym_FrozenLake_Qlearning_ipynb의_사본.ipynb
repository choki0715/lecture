{
  "nbformat": 4,
  "nbformat_minor": 0,
  "metadata": {
    "kernelspec": {
      "display_name": "Python 3",
      "language": "python",
      "name": "python3"
    },
    "language_info": {
      "codemirror_mode": {
        "name": "ipython",
        "version": 3
      },
      "file_extension": ".py",
      "mimetype": "text/x-python",
      "name": "python",
      "nbconvert_exporter": "python",
      "pygments_lexer": "ipython3",
      "version": "3.7.3"
    },
    "colab": {
      "name": "RL_Gym_FrozenLake_Qlearning.ipynb의 사본",
      "provenance": [],
      "include_colab_link": true
    }
  },
  "cells": [
    {
      "cell_type": "markdown",
      "metadata": {
        "id": "view-in-github",
        "colab_type": "text"
      },
      "source": [
        "<a href=\"https://colab.research.google.com/github/choki0715/lecture/blob/master/RL_Gym_FrozenLake_Qlearning_ipynb%EC%9D%98_%EC%82%AC%EB%B3%B8.ipynb\" target=\"_parent\"><img src=\"https://colab.research.google.com/assets/colab-badge.svg\" alt=\"Open In Colab\"/></a>"
      ]
    },
    {
      "cell_type": "markdown",
      "metadata": {
        "id": "mLvBREauH5Y5",
        "colab_type": "text"
      },
      "source": [
        "# Frozen Lake 강화학습 연습"
      ]
    },
    {
      "cell_type": "markdown",
      "metadata": {
        "id": "6fw_9WoQH5Zi",
        "colab_type": "text"
      },
      "source": [
        "<img src=\"https://github.com/aidentify/lecture/blob/master/study2/2_RL/img/frozenlake_env.png?raw=1\" width=\"700\">"
      ]
    },
    {
      "cell_type": "markdown",
      "metadata": {
        "id": "c9znpsCJH5Zk",
        "colab_type": "text"
      },
      "source": [
        "## 필요한 모듈 import\n",
        "* gym (가상환경을 제공) \n",
        "* numpy (텐서 연산)\n",
        "* matplotlib (결과 그래프 출력)"
      ]
    },
    {
      "cell_type": "code",
      "metadata": {
        "id": "cBY4hzL4H5Zm",
        "colab_type": "code",
        "colab": {}
      },
      "source": [
        "import gym\n",
        "import numpy as np\n",
        "import matplotlib.pyplot as plt "
      ],
      "execution_count": null,
      "outputs": []
    },
    {
      "cell_type": "markdown",
      "metadata": {
        "id": "Yen8Zl0LH5Z2",
        "colab_type": "text"
      },
      "source": [
        "## 가상환경 설정 및 hyper parameter 정의\n",
        "* gym.make를 이용하여 등록된 'FrozenLake-v0' 환경을 env로 정의, is_slippery=True $\\rightarrow$ Transition Prob = 1.0\n",
        "* learning rate (학습률)\n",
        "* dis (감쇄계수)\n",
        "* num_episodes(전체 반복 학습)\n",
        "* env.render(): 설정한 가상환경을 보고싶을 때, S: Start, F: Frozen, H: Hole, G: Goal, 붉은 박스: 현재 위치"
      ]
    },
    {
      "cell_type": "code",
      "metadata": {
        "id": "z5R_ygFVH5Z3",
        "colab_type": "code",
        "colab": {
          "base_uri": "https://localhost:8080/",
          "height": 104
        },
        "outputId": "b5de00d6-9768-4b35-f1a5-4f528506a609"
      },
      "source": [
        "env = gym.make('FrozenLake-v0', is_slippery=False)\n",
        "learning_rate = 0.8\n",
        "dis = .95\n",
        "num_episodes = 2000\n",
        "\n",
        "env.render()"
      ],
      "execution_count": null,
      "outputs": [
        {
          "output_type": "stream",
          "text": [
            "\n",
            "\u001b[41mS\u001b[0mFFF\n",
            "FHFH\n",
            "FFFH\n",
            "HFFG\n"
          ],
          "name": "stdout"
        }
      ]
    },
    {
      "cell_type": "markdown",
      "metadata": {
        "id": "MSWlgfQxH5aC",
        "colab_type": "text"
      },
      "source": [
        "## 펭수가 학습할 가상환경 관찰\n",
        "* info = 상태전이 확률 (if slippery = true, then prob = 0.333333)\n",
        "* env.render(): 설정한 가상환경을 보고싶을 때, S: Start, F: Frozen, H: Hole, G: Goal, 붉은 박스: 현재 위치"
      ]
    },
    {
      "cell_type": "code",
      "metadata": {
        "id": "7Wb6O710H5ak",
        "colab_type": "code",
        "colab": {
          "base_uri": "https://localhost:8080/",
          "height": 436
        },
        "outputId": "54f932f6-1d30-46f2-bcda-a17798590465"
      },
      "source": [
        "env.reset()\n",
        "for i in range(10):\n",
        "    random_action = env.action_space.sample()\n",
        "    new_state, reward, done, info = env.step(random_action)\n",
        "    env.render()\n",
        "    print(info)\n",
        "    if done:\n",
        "      break"
      ],
      "execution_count": null,
      "outputs": [
        {
          "output_type": "stream",
          "text": [
            "  (Left)\n",
            "\u001b[41mS\u001b[0mFFF\n",
            "FHFH\n",
            "FFFH\n",
            "HFFG\n",
            "{'prob': 1.0}\n",
            "  (Down)\n",
            "SFFF\n",
            "\u001b[41mF\u001b[0mHFH\n",
            "FFFH\n",
            "HFFG\n",
            "{'prob': 1.0}\n",
            "  (Left)\n",
            "SFFF\n",
            "\u001b[41mF\u001b[0mHFH\n",
            "FFFH\n",
            "HFFG\n",
            "{'prob': 1.0}\n",
            "  (Right)\n",
            "SFFF\n",
            "F\u001b[41mH\u001b[0mFH\n",
            "FFFH\n",
            "HFFG\n",
            "{'prob': 1.0}\n"
          ],
          "name": "stdout"
        }
      ]
    },
    {
      "cell_type": "markdown",
      "metadata": {
        "id": "v3V5YCY5H5aw",
        "colab_type": "text"
      },
      "source": [
        "## Q-Table 및 보상값 리스트 정의\n",
        "* Q = Q-Table [num_states, num_actions]"
      ]
    },
    {
      "cell_type": "code",
      "metadata": {
        "id": "FZalfqntH5ax",
        "colab_type": "code",
        "colab": {
          "base_uri": "https://localhost:8080/",
          "height": 52
        },
        "outputId": "c334c9ce-fb2e-413b-8d53-7c30b56fe44c"
      },
      "source": [
        "Q = np.zeros([env.observation_space.n, env.action_space.n])\n",
        "rList = []\n",
        "\n",
        "print(\"number of states: \", env.observation_space.n)\n",
        "print(\"number of actions: \", env.action_space.n)"
      ],
      "execution_count": null,
      "outputs": [
        {
          "output_type": "stream",
          "text": [
            "number of states:  16\n",
            "number of actions:  4\n"
          ],
          "name": "stdout"
        }
      ]
    },
    {
      "cell_type": "markdown",
      "metadata": {
        "id": "R2LwfZn3H5a4",
        "colab_type": "text"
      },
      "source": [
        "## 학습 시작\n",
        "* num_episodes 만큼 반복\n",
        "* 한번 에피소드 당 99번 반복하거나 terminal state (Hole, Goal)에 도착하면 다음 에피소드로\n",
        "*  $\\epsilon$ - greedy를 적용하여  $\\epsilon$ = 1/(n+1) 확률 만큼 maxQ(s,a)가 아닌 액션을 취함 (이때 n은 100번 에피소스마다 1씩 증가)"
      ]
    },
    {
      "cell_type": "code",
      "metadata": {
        "id": "KUJmAfskH5a6",
        "colab_type": "code",
        "colab": {}
      },
      "source": [
        "for i in range(num_episodes):\n",
        "    \n",
        "    # env 리셋\n",
        "    state = env.reset()\n",
        "    rAll = 0\n",
        "    done = False\n",
        "    \n",
        "    e = 1./((i//100)+1) # decaying E-greedy\n",
        "    \n",
        "    j = 0\n",
        "    \n",
        "    # 99번 반복하거나 terminal state (Hole, Goal) 도착\n",
        "    while j < 99:\n",
        "        \n",
        "        j += 1\n",
        "        \n",
        "        # egreedy에 의한 행동 설정\n",
        "        if np.random.rand(1) < e:\n",
        "            action = env.action_space.sample()\n",
        "        else:\n",
        "            action = np.argmax(Q[state, :])\n",
        "\n",
        "        # new_state, reward 업데이트 \n",
        "        new_state, reward, done, _ = env.step(action)\n",
        "        \n",
        "        # 업데이트 Q-table (상태, 행동)\n",
        "        Q[state, action] += learning_rate*( reward + dis*np.max(Q[new_state, :]) - Q[state, action] )\n",
        "        \n",
        "        rAll += reward\n",
        "        state = new_state\n",
        "\n",
        "        if done == True:\n",
        "            break\n",
        "        \n",
        "    rList.append(rAll)"
      ],
      "execution_count": null,
      "outputs": []
    },
    {
      "cell_type": "code",
      "metadata": {
        "id": "1KIIdYDxH5bB",
        "colab_type": "code",
        "colab": {
          "base_uri": "https://localhost:8080/",
          "height": 579
        },
        "outputId": "5b6c72ca-c789-4f2e-bba0-b510bce63c81"
      },
      "source": [
        "print('성공율: ', str(sum(rList)/num_episodes))\n",
        "print('Q-table')\n",
        "print(Q)\n",
        "plt.bar(range(len(rList)), rList, color = 'blue')\n",
        "plt.show()"
      ],
      "execution_count": null,
      "outputs": [
        {
          "output_type": "stream",
          "text": [
            "성공율:  2.4225\n",
            "Q-table\n",
            "[[0.73509189 0.77378094 0.77378094 0.73509189]\n",
            " [0.73509189 0.         0.81450625 0.77378094]\n",
            " [0.77378094 0.857375   0.77378094 0.81450625]\n",
            " [0.81450625 0.         0.77378094 0.77378094]\n",
            " [0.77378094 0.81450625 0.         0.73509189]\n",
            " [0.         0.         0.         0.        ]\n",
            " [0.         0.9025     0.         0.81450625]\n",
            " [0.         0.         0.         0.        ]\n",
            " [0.81450625 0.         0.857375   0.77378094]\n",
            " [0.81450625 0.9025     0.9025     0.        ]\n",
            " [0.857375   0.95       0.         0.857375  ]\n",
            " [0.         0.         0.         0.        ]\n",
            " [0.         0.         0.         0.        ]\n",
            " [0.         0.9025     0.95       0.857375  ]\n",
            " [0.9025     0.95       1.         0.9025    ]\n",
            " [0.         0.         0.         0.        ]]\n"
          ],
          "name": "stdout"
        },
        {
          "output_type": "display_data",
          "data": {
            "image/png": "[encoded data removed]",
            "text/plain": [
              "<Figure size 432x288 with 1 Axes>"
            ]
          },
          "metadata": {
            "tags": [],
            "needs_background": "light"
          }
        }
      ]
    },
    {
      "cell_type": "code",
      "metadata": {
        "id": "WwVNF-swH5bU",
        "colab_type": "code",
        "colab": {}
      },
      "source": [
        ""
      ],
      "execution_count": null,
      "outputs": []
    }
  ]
}