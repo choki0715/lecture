{
  "nbformat": 4,
  "nbformat_minor": 0,
  "metadata": {
    "kernelspec": {
      "display_name": "Python 3",
      "language": "python",
      "name": "python3"
    },
    "language_info": {
      "codemirror_mode": {
        "name": "ipython",
        "version": 3
      },
      "file_extension": ".py",
      "mimetype": "text/x-python",
      "name": "python",
      "nbconvert_exporter": "python",
      "pygments_lexer": "ipython3",
      "version": "3.5.2"
    },
    "varInspector": {
      "cols": {
        "lenName": 16,
        "lenType": 16,
        "lenVar": 40
      },
      "kernels_config": {
        "python": {
          "delete_cmd_postfix": "",
          "delete_cmd_prefix": "del ",
          "library": "var_list.py",
          "varRefreshCmd": "print(var_dic_list())"
        },
        "r": {
          "delete_cmd_postfix": ") ",
          "delete_cmd_prefix": "rm(",
          "library": "var_list.r",
          "varRefreshCmd": "cat(var_dic_list()) "
        }
      },
      "types_to_exclude": [
        "module",
        "function",
        "builtin_function_or_method",
        "instance",
        "_Feature"
      ],
      "window_display": false
    },
    "colab": {
      "name": "1_1_1_Python basic.ipynb",
      "provenance": [],
      "collapsed_sections": [
        "u7UG5ijLdG3h",
        "0Gskcq4MdG39",
        "kd0JkNuqdG4W",
        "R8TnY_8wPv0q",
        "UYINmBkBdG4x",
        "-1MBhyRKdG42",
        "t6MPSnnfdG5S"
      ],
      "toc_visible": true,
      "include_colab_link": true
    }
  },
  "cells": [
    {
      "cell_type": "markdown",
      "metadata": {
        "id": "view-in-github",
        "colab_type": "text"
      },
      "source": [
        "<a href=\"https://colab.research.google.com/github/choki0715/lecture/blob/master/1_1_1_Python_basic.ipynb\" target=\"_parent\"><img src=\"https://colab.research.google.com/assets/colab-badge.svg\" alt=\"Open In Colab\"/></a>"
      ]
    },
    {
      "cell_type": "markdown",
      "metadata": {
        "id": "o76ShjzjdG3E"
      },
      "source": [
        "## 1. 숫자"
      ]
    },
    {
      "cell_type": "markdown",
      "metadata": {
        "id": "PNW8dY7pdG3G"
      },
      "source": [
        " - 기본 연산자 : `+, -, *, /`"
      ]
    },
    {
      "cell_type": "code",
      "metadata": {
        "id": "N84lDgLbdG3H"
      },
      "source": [
        "print(2 + 2)"
      ],
      "execution_count": null,
      "outputs": []
    },
    {
      "cell_type": "code",
      "metadata": {
        "id": "d95YO7WWdG3O"
      },
      "source": [
        "print(50 - 5 * 6)"
      ],
      "execution_count": null,
      "outputs": []
    },
    {
      "cell_type": "code",
      "metadata": {
        "id": "4akmtXOQdG3S"
      },
      "source": [
        "print((50 - 5 * 6) / 4) # 항상 실숫값 반환"
      ],
      "execution_count": null,
      "outputs": []
    },
    {
      "cell_type": "markdown",
      "metadata": {
        "id": "Mnd_WpbXdG3W"
      },
      "source": [
        " - 거듭제곱(`**`),  몫(`//`),   나머지(`%`)"
      ]
    },
    {
      "cell_type": "code",
      "metadata": {
        "id": "uuRP1ISJdG3X"
      },
      "source": [
        "print(5 ** 2)"
      ],
      "execution_count": null,
      "outputs": []
    },
    {
      "cell_type": "code",
      "metadata": {
        "id": "eGR8YLDhdG3a"
      },
      "source": [
        "print(17 // 3)"
      ],
      "execution_count": null,
      "outputs": []
    },
    {
      "cell_type": "code",
      "metadata": {
        "id": "neLdUW69dG3d"
      },
      "source": [
        "print(17 % 3)"
      ],
      "execution_count": null,
      "outputs": []
    },
    {
      "cell_type": "markdown",
      "metadata": {
        "id": "bOyA8tDdxPfy"
      },
      "source": [
        " ## 2. Boolean (논리 자료형)\n",
        "\n"
      ]
    },
    {
      "cell_type": "code",
      "metadata": {
        "id": "6SzSV8Tdxm34"
      },
      "source": [
        "t = True\n",
        "f = False\n",
        "print(type(t)) # Prints \"<class 'bool'>\"\n",
        "print(t and f) # Logical AND; prints \"False\"\n",
        "print(t or f)  # Logical OR; prints \"True\"\n",
        "print(not t)   # Logical NOT; prints \"False\"\n",
        "print(t != f)  # Logical XOR; prints \"True\""
      ],
      "execution_count": null,
      "outputs": []
    },
    {
      "cell_type": "markdown",
      "metadata": {
        "id": "MBRE2Jm_xyM9"
      },
      "source": [
        "##3. String (문자열 자료)"
      ]
    },
    {
      "cell_type": "code",
      "metadata": {
        "id": "_dnfjchlx74O"
      },
      "source": [
        "s = \"hello\"\n",
        "print(s)\n",
        "print(len(s))           # string length\n",
        "print(s.capitalize())   # Capitalize a string; prints \"Hello\"\n",
        "print(s.upper())        # Convert a string to uppercase; prints \"HELLO\"\n",
        "print(s.rjust(10))      # Right-justify a string, padding with spaces; prints \"  hello\"\n",
        "print('1234567890')\n",
        "print(s.center(10))     # Center a string, padding with spaces; prints \" hello \"\n",
        "print(s.replace('l', '(ell)'))  # Replace all instances of one substring with another;\n",
        "                                # prints \"he(ell)(ell)o\"\n",
        "print('  world '.strip())  # Strip leading and trailing whitespace; prints \"world\""
      ],
      "execution_count": null,
      "outputs": []
    },
    {
      "cell_type": "markdown",
      "metadata": {
        "id": "OfsvI2-edG3g"
      },
      "source": [
        "## 4. 자료구조 : 리스트, 딕셔너리, 터플, 세트"
      ]
    },
    {
      "cell_type": "markdown",
      "metadata": {
        "id": "G95zNDsPdG3g"
      },
      "source": [
        "- 다른 값들을 덩어리로 묶는데 사용하는 여러가지 컴파운드 자료형 지원"
      ]
    },
    {
      "cell_type": "markdown",
      "metadata": {
        "id": "u7UG5ijLdG3h"
      },
      "source": [
        "### 4-1. 리스트\n",
        "   - 대괄호(`[]`) 사이에 쉼표로 구분된 값들의 목록으로 표현되는 시퀀스(sequence) 자료형, 서로다른 항목 가능\n",
        "   - 문자열과 같이 숫자로 인덱싱, 슬라이스 연산 및 개별 요소 수정도 가능(가변)\n",
        "   - 이어붙이기 연산도 지원\n",
        "   - 주요 함수(메서드) `append, pop` ref) https://docs.python.org/ko/3/tutorial/datastructures.html"
      ]
    },
    {
      "cell_type": "code",
      "metadata": {
        "id": "-1l0K5SUdG3i"
      },
      "source": [
        "age = [12, 43, 29, 16, 25]"
      ],
      "execution_count": 1,
      "outputs": []
    },
    {
      "cell_type": "code",
      "metadata": {
        "id": "HAtDNAkBdG3l",
        "colab": {
          "base_uri": "https://localhost:8080/"
        },
        "outputId": "b593c9f8-64c9-4806-bd70-85192ea073bc"
      },
      "source": [
        "print(age)"
      ],
      "execution_count": 2,
      "outputs": [
        {
          "output_type": "stream",
          "name": "stdout",
          "text": [
            "[12, 43, 29, 16, 25]\n"
          ]
        }
      ]
    },
    {
      "cell_type": "code",
      "metadata": {
        "id": "31xH6EaldG3n"
      },
      "source": [
        "age[0] = 31"
      ],
      "execution_count": 3,
      "outputs": []
    },
    {
      "cell_type": "code",
      "metadata": {
        "id": "l2uRmw55dG3q",
        "colab": {
          "base_uri": "https://localhost:8080/"
        },
        "outputId": "04e634ac-a429-4cdd-b5cc-f86d9988cf57"
      },
      "source": [
        "print(age)"
      ],
      "execution_count": 4,
      "outputs": [
        {
          "output_type": "stream",
          "name": "stdout",
          "text": [
            "[31, 43, 29, 16, 25]\n"
          ]
        }
      ]
    },
    {
      "cell_type": "code",
      "metadata": {
        "id": "ijb-02kTdG3s"
      },
      "source": [
        "age_2 = ['67', 51]"
      ],
      "execution_count": 5,
      "outputs": []
    },
    {
      "cell_type": "code",
      "metadata": {
        "id": "sCEK6n3-dG3u",
        "colab": {
          "base_uri": "https://localhost:8080/"
        },
        "outputId": "5e514fc4-d04c-4a0b-e0bf-9564e3f599a7"
      },
      "source": [
        "print(age_2)"
      ],
      "execution_count": 6,
      "outputs": [
        {
          "output_type": "stream",
          "name": "stdout",
          "text": [
            "['67', 51]\n"
          ]
        }
      ]
    },
    {
      "cell_type": "code",
      "metadata": {
        "id": "NCikddg0dG3x",
        "colab": {
          "base_uri": "https://localhost:8080/"
        },
        "outputId": "9c126078-4bf3-41ee-dfb4-f879f9b5ca8e"
      },
      "source": [
        "print(age+age_2)"
      ],
      "execution_count": 7,
      "outputs": [
        {
          "output_type": "stream",
          "name": "stdout",
          "text": [
            "[31, 43, 29, 16, 25, '67', 51]\n"
          ]
        }
      ]
    },
    {
      "cell_type": "code",
      "metadata": {
        "id": "gfIYxdgidG30"
      },
      "source": [
        "age.append('36')"
      ],
      "execution_count": 8,
      "outputs": []
    },
    {
      "cell_type": "code",
      "metadata": {
        "id": "St0GxlMmdG32",
        "colab": {
          "base_uri": "https://localhost:8080/"
        },
        "outputId": "b310ad97-ae4c-4553-f96e-9951359d1e4b"
      },
      "source": [
        "print(age)"
      ],
      "execution_count": 9,
      "outputs": [
        {
          "output_type": "stream",
          "name": "stdout",
          "text": [
            "[31, 43, 29, 16, 25, '36']\n"
          ]
        }
      ]
    },
    {
      "cell_type": "code",
      "metadata": {
        "id": "GlihclSidG35",
        "colab": {
          "base_uri": "https://localhost:8080/"
        },
        "outputId": "48f7438f-3ffe-4bc1-8e4e-a7c039a268e5"
      },
      "source": [
        "print(age_2.pop())"
      ],
      "execution_count": 10,
      "outputs": [
        {
          "output_type": "stream",
          "name": "stdout",
          "text": [
            "51\n"
          ]
        }
      ]
    },
    {
      "cell_type": "code",
      "metadata": {
        "id": "Cp6-QctgdG37",
        "colab": {
          "base_uri": "https://localhost:8080/"
        },
        "outputId": "d9b0a384-bc79-40b6-922f-3753380396f7"
      },
      "source": [
        "print(age_2)"
      ],
      "execution_count": 11,
      "outputs": [
        {
          "output_type": "stream",
          "name": "stdout",
          "text": [
            "['67']\n"
          ]
        }
      ]
    },
    {
      "cell_type": "markdown",
      "metadata": {
        "id": "0Gskcq4MdG39"
      },
      "source": [
        "### 4-2. 딕셔너리\n",
        "  - 중복되지 않는다는 제약조건을 가진 키:값 쌍의 집합\n",
        "  - 중괄호(`{}`) 안에 쉽료로 분리된 키:값 쌍들의 목록을 넣어 정의\n",
        "  - 키(불변)로 인덱싱 및 인덱싱된 값(가변) 수정 가능\n",
        "  - 주요 함수(메서드) `del, items, keys, values`"
      ]
    },
    {
      "cell_type": "code",
      "metadata": {
        "id": "bOWA8lkzdG39"
      },
      "source": [
        "tel_1 = {'mina': 4098, 'junho': 4139}\n",
        "tel_2 = dict(tim=4139, david=4127, john=4098)"
      ],
      "execution_count": 34,
      "outputs": []
    },
    {
      "cell_type": "code",
      "metadata": {
        "id": "mATRxYSmdG4A",
        "colab": {
          "base_uri": "https://localhost:8080/"
        },
        "outputId": "1edf3303-7c8d-4b79-8cd4-90feef74db03"
      },
      "source": [
        "print(tel_1, tel_2)"
      ],
      "execution_count": 35,
      "outputs": [
        {
          "output_type": "stream",
          "name": "stdout",
          "text": [
            "{'mina': 4098, 'junho': 4139} {'tim': 4139, 'david': 4127, 'john': 4098}\n"
          ]
        }
      ]
    },
    {
      "cell_type": "code",
      "metadata": {
        "id": "0mOz2BlgdG4C",
        "colab": {
          "base_uri": "https://localhost:8080/"
        },
        "outputId": "fc8f0f25-0a48-42d9-ee36-36b9f38ee197"
      },
      "source": [
        "print(tel_1['mina'])"
      ],
      "execution_count": 36,
      "outputs": [
        {
          "output_type": "stream",
          "name": "stdout",
          "text": [
            "4098\n"
          ]
        }
      ]
    },
    {
      "cell_type": "code",
      "metadata": {
        "id": "ORC1bLFRdG4E"
      },
      "source": [
        "tel_1['sujin'] = 1234"
      ],
      "execution_count": 37,
      "outputs": []
    },
    {
      "cell_type": "code",
      "metadata": {
        "id": "fngPfpYKdG4G",
        "colab": {
          "base_uri": "https://localhost:8080/"
        },
        "outputId": "e29e7d11-a444-4b59-a3f9-1fceedc8a544"
      },
      "source": [
        "print(tel_1)"
      ],
      "execution_count": 38,
      "outputs": [
        {
          "output_type": "stream",
          "name": "stdout",
          "text": [
            "{'mina': 4098, 'junho': 4139, 'sujin': 1234}\n"
          ]
        }
      ]
    },
    {
      "cell_type": "code",
      "metadata": {
        "id": "15DZJ_KAdG4I"
      },
      "source": [
        "tel_1['mina'] = 5678"
      ],
      "execution_count": 41,
      "outputs": []
    },
    {
      "cell_type": "code",
      "metadata": {
        "id": "ZfxsCtDBdG4L",
        "colab": {
          "base_uri": "https://localhost:8080/"
        },
        "outputId": "5bef5613-c30b-4979-f63e-55597f18b5ab"
      },
      "source": [
        "print(tel_1)"
      ],
      "execution_count": 42,
      "outputs": [
        {
          "output_type": "stream",
          "name": "stdout",
          "text": [
            "{'mina': 5678, 'junho': 4139, 'sujin': 1234}\n"
          ]
        }
      ]
    },
    {
      "cell_type": "code",
      "metadata": {
        "id": "Lbu_0FLvdG4N"
      },
      "source": [
        "del(tel_1['junho'])"
      ],
      "execution_count": 43,
      "outputs": []
    },
    {
      "cell_type": "code",
      "metadata": {
        "id": "fW6wi5P2dG4P",
        "colab": {
          "base_uri": "https://localhost:8080/"
        },
        "outputId": "512d03be-5bcc-44a2-d070-0605ee348912"
      },
      "source": [
        "print(tel_1)"
      ],
      "execution_count": 44,
      "outputs": [
        {
          "output_type": "stream",
          "name": "stdout",
          "text": [
            "{'mina': 5678, 'sujin': 1234}\n"
          ]
        }
      ]
    },
    {
      "cell_type": "code",
      "metadata": {
        "id": "aL7BXT3pdG4S",
        "colab": {
          "base_uri": "https://localhost:8080/"
        },
        "outputId": "67ede89c-0edd-4e11-d2cd-8d8159460936"
      },
      "source": [
        "print(tel_1.items())"
      ],
      "execution_count": 45,
      "outputs": [
        {
          "output_type": "stream",
          "name": "stdout",
          "text": [
            "dict_items([('mina', 5678), ('sujin', 1234)])\n"
          ]
        }
      ]
    },
    {
      "cell_type": "code",
      "metadata": {
        "id": "J3LheW76dG4U",
        "colab": {
          "base_uri": "https://localhost:8080/"
        },
        "outputId": "2c6b30e5-ee94-469b-bae3-8ee2606f6e7b"
      },
      "source": [
        "print(tel_1.keys())"
      ],
      "execution_count": 46,
      "outputs": [
        {
          "output_type": "stream",
          "name": "stdout",
          "text": [
            "dict_keys(['mina', 'sujin'])\n"
          ]
        }
      ]
    },
    {
      "cell_type": "markdown",
      "metadata": {
        "id": "kd0JkNuqdG4W"
      },
      "source": [
        "### 4-3. 터플\n",
        "  - 쉼표로 구분되는 여러값으로 구성되는 시퀀스(sequence) 자료형\n",
        "  - 괄호(`()`) 안에 쉽료로 구성요소를 분리하여 입력\n",
        "  - 튜플안 요소들은 인덱싱, 언팩킹으로 활용 및 접근 가능하나 불변 자료형이므로 슬라이싱과 개별요소의 수정은 불가\n",
        "      - 단) 개별요소가 리스트와 같이 가변형 자료일 경우 수정 가능"
      ]
    },
    {
      "cell_type": "code",
      "metadata": {
        "id": "0n9dveeKdG4W"
      },
      "source": [
        "memo = (12345, 54321, 'hello!')"
      ],
      "execution_count": 47,
      "outputs": []
    },
    {
      "cell_type": "code",
      "metadata": {
        "id": "vqSFtttzdG4Z",
        "colab": {
          "base_uri": "https://localhost:8080/"
        },
        "outputId": "c43b4e85-b11b-4cd4-ab63-1728a76ee7fd"
      },
      "source": [
        "print(memo)"
      ],
      "execution_count": 48,
      "outputs": [
        {
          "output_type": "stream",
          "name": "stdout",
          "text": [
            "(12345, 54321, 'hello!')\n"
          ]
        }
      ]
    },
    {
      "cell_type": "code",
      "metadata": {
        "id": "GUIf0xBAdG4b",
        "colab": {
          "base_uri": "https://localhost:8080/"
        },
        "outputId": "68aaf347-2f3d-4109-9b0b-4ed93c2d558f"
      },
      "source": [
        "print(memo[0])"
      ],
      "execution_count": 49,
      "outputs": [
        {
          "output_type": "stream",
          "name": "stdout",
          "text": [
            "12345\n"
          ]
        }
      ]
    },
    {
      "cell_type": "code",
      "metadata": {
        "id": "V1oh9GwfdG4d"
      },
      "source": [
        "memo_2 = memo, [1, 2, 3, 4, 5]"
      ],
      "execution_count": 52,
      "outputs": []
    },
    {
      "cell_type": "code",
      "metadata": {
        "id": "jALbisIndG4g",
        "colab": {
          "base_uri": "https://localhost:8080/"
        },
        "outputId": "0e689ffb-2984-47fc-e25e-c65b41820f9e"
      },
      "source": [
        "print(memo_2)"
      ],
      "execution_count": 53,
      "outputs": [
        {
          "output_type": "stream",
          "name": "stdout",
          "text": [
            "((12345, 54321, 'hello!'), [1, 2, 3, 4, 5])\n"
          ]
        }
      ]
    },
    {
      "cell_type": "code",
      "metadata": {
        "id": "Gi_PyfB8dG4n",
        "colab": {
          "base_uri": "https://localhost:8080/",
          "height": 182
        },
        "outputId": "dcdc578e-f4d5-4c9a-f27d-d099b42c7378"
      },
      "source": [
        "memo_2[1] = 3"
      ],
      "execution_count": 54,
      "outputs": [
        {
          "output_type": "error",
          "ename": "TypeError",
          "evalue": "ignored",
          "traceback": [
            "\u001b[0;31m---------------------------------------------------------------------------\u001b[0m",
            "\u001b[0;31mTypeError\u001b[0m                                 Traceback (most recent call last)",
            "\u001b[0;32m<ipython-input-54-e6543a156390>\u001b[0m in \u001b[0;36m<cell line: 1>\u001b[0;34m()\u001b[0m\n\u001b[0;32m----> 1\u001b[0;31m \u001b[0mmemo_2\u001b[0m\u001b[0;34m[\u001b[0m\u001b[0;36m1\u001b[0m\u001b[0;34m]\u001b[0m \u001b[0;34m=\u001b[0m \u001b[0;36m3\u001b[0m\u001b[0;34m\u001b[0m\u001b[0;34m\u001b[0m\u001b[0m\n\u001b[0m",
            "\u001b[0;31mTypeError\u001b[0m: 'tuple' object does not support item assignment"
          ]
        }
      ]
    },
    {
      "cell_type": "code",
      "metadata": {
        "id": "vo4jQX11dG4p"
      },
      "source": [
        "memo_2[1][0] = 33"
      ],
      "execution_count": 55,
      "outputs": []
    },
    {
      "cell_type": "code",
      "metadata": {
        "id": "wZjIEoZOdG4r",
        "colab": {
          "base_uri": "https://localhost:8080/"
        },
        "outputId": "82d65c87-d894-4741-c89f-0b53acb2659f"
      },
      "source": [
        "print(memo_2)"
      ],
      "execution_count": 56,
      "outputs": [
        {
          "output_type": "stream",
          "name": "stdout",
          "text": [
            "((12345, 54321, 'hello!'), [33, 2, 3, 4, 5])\n"
          ]
        }
      ]
    },
    {
      "cell_type": "markdown",
      "source": [
        "### 4-4. 세트\n",
        "  - 집합연산에 사용되는 자료구조\n",
        "  - 원소의 중복을 허락하지 않음\n"
      ],
      "metadata": {
        "id": "R8TnY_8wPv0q"
      }
    },
    {
      "cell_type": "code",
      "source": [
        " a = set([0,0,0,1,2,3])\n",
        " print(a)"
      ],
      "metadata": {
        "id": "xNKpSINuQV1T",
        "outputId": "508c516c-126c-4701-972f-c80829c55af9",
        "colab": {
          "base_uri": "https://localhost:8080/"
        }
      },
      "execution_count": null,
      "outputs": [
        {
          "output_type": "stream",
          "name": "stdout",
          "text": [
            "{0, 1, 2, 3}\n"
          ]
        }
      ]
    },
    {
      "cell_type": "code",
      "source": [
        "b = set()\n",
        "b = {1,3,3,3,4,5,5,6}\n",
        "print(b)"
      ],
      "metadata": {
        "id": "Bt_yrA5KQgZx",
        "outputId": "169a8807-8582-491b-9897-d8bb278f6f01",
        "colab": {
          "base_uri": "https://localhost:8080/"
        }
      },
      "execution_count": null,
      "outputs": [
        {
          "output_type": "stream",
          "name": "stdout",
          "text": [
            "{1, 3, 4, 5, 6}\n"
          ]
        }
      ]
    },
    {
      "cell_type": "code",
      "source": [
        "inter1 = a & b\n",
        "print(inter1)\n",
        "inter2 = a.intersection(b)\n",
        "print(inter2)"
      ],
      "metadata": {
        "id": "WYu9p9_LQqJs",
        "outputId": "221a3f53-f483-40de-ad1e-80310dbca835",
        "colab": {
          "base_uri": "https://localhost:8080/"
        }
      },
      "execution_count": null,
      "outputs": [
        {
          "output_type": "stream",
          "name": "stdout",
          "text": [
            "{1, 3}\n",
            "{1, 3}\n"
          ]
        }
      ]
    },
    {
      "cell_type": "code",
      "source": [
        "union1 = a | b\n",
        "print(union1)\n",
        "union2 = a.union(b)\n",
        "print(union2)"
      ],
      "metadata": {
        "id": "rnXqH3wpQ70-",
        "outputId": "643fe9fa-b2ce-4c75-e743-bbbb5a5e95a6",
        "colab": {
          "base_uri": "https://localhost:8080/"
        }
      },
      "execution_count": null,
      "outputs": [
        {
          "output_type": "stream",
          "name": "stdout",
          "text": [
            "{0, 1, 2, 3, 4, 5, 6}\n",
            "{0, 1, 2, 3, 4, 5, 6}\n"
          ]
        }
      ]
    },
    {
      "cell_type": "code",
      "source": [
        "sub1 = a - b\n",
        "print(sub1)\n",
        "sub2 = a.difference(b)\n",
        "print(sub2)"
      ],
      "metadata": {
        "id": "1zdikxtyRQ2w",
        "outputId": "e62b8fb9-3857-4293-cf07-3f68b646a3cd",
        "colab": {
          "base_uri": "https://localhost:8080/"
        }
      },
      "execution_count": null,
      "outputs": [
        {
          "output_type": "stream",
          "name": "stdout",
          "text": [
            "{0, 2}\n",
            "{0, 2}\n"
          ]
        }
      ]
    },
    {
      "cell_type": "code",
      "source": [
        "\n",
        "a.add(8)\n",
        "print(a)\n",
        "a.remove(8)\n",
        "print(a)\n",
        "a.discard(8) # 지우는 항목이 없어도 OK\n",
        "a.remove(8) # 지우는 항목이 없으면 에러"
      ],
      "metadata": {
        "id": "sGy1yzFhRwbz",
        "outputId": "1d028e2a-6ac5-4831-a629-30a1715dda81",
        "colab": {
          "base_uri": "https://localhost:8080/",
          "height": 244
        }
      },
      "execution_count": null,
      "outputs": [
        {
          "output_type": "stream",
          "name": "stdout",
          "text": [
            "{0, 1, 2, 3, 8}\n",
            "{0, 1, 2, 3}\n"
          ]
        },
        {
          "output_type": "error",
          "ename": "KeyError",
          "evalue": "ignored",
          "traceback": [
            "\u001b[0;31m---------------------------------------------------------------------------\u001b[0m",
            "\u001b[0;31mKeyError\u001b[0m                                  Traceback (most recent call last)",
            "\u001b[0;32m<ipython-input-21-d0b74e55d647>\u001b[0m in \u001b[0;36m<module>\u001b[0;34m()\u001b[0m\n\u001b[1;32m      5\u001b[0m \u001b[0mprint\u001b[0m\u001b[0;34m(\u001b[0m\u001b[0ma\u001b[0m\u001b[0;34m)\u001b[0m\u001b[0;34m\u001b[0m\u001b[0;34m\u001b[0m\u001b[0m\n\u001b[1;32m      6\u001b[0m \u001b[0ma\u001b[0m\u001b[0;34m.\u001b[0m\u001b[0mdiscard\u001b[0m\u001b[0;34m(\u001b[0m\u001b[0;36m8\u001b[0m\u001b[0;34m)\u001b[0m\u001b[0;34m\u001b[0m\u001b[0;34m\u001b[0m\u001b[0m\n\u001b[0;32m----> 7\u001b[0;31m \u001b[0ma\u001b[0m\u001b[0;34m.\u001b[0m\u001b[0mremove\u001b[0m\u001b[0;34m(\u001b[0m\u001b[0;36m8\u001b[0m\u001b[0;34m)\u001b[0m\u001b[0;34m\u001b[0m\u001b[0;34m\u001b[0m\u001b[0m\n\u001b[0m",
            "\u001b[0;31mKeyError\u001b[0m: 8"
          ]
        }
      ]
    },
    {
      "cell_type": "markdown",
      "metadata": {
        "id": "VygGc3agdG4x"
      },
      "source": [
        "## 5. 흐름 제어: if, for"
      ]
    },
    {
      "cell_type": "markdown",
      "metadata": {
        "id": "UYINmBkBdG4x"
      },
      "source": [
        "### 5-1. if\n",
        " - `if` 다음의 조건을 판단하여 참인 경우, 선택적으로 실행\n",
        " - 없거나 여러개의 elif 부가 있을 수 있고, else 는 선택적\n",
        " - `if ... elif ...` 로 switch, case 문 대체"
      ]
    },
    {
      "cell_type": "code",
      "metadata": {
        "id": "J4qWHAWOdG4x",
        "colab": {
          "base_uri": "https://localhost:8080/"
        },
        "outputId": "63dfa614-96f9-4dc6-cc72-637a8e77420d"
      },
      "source": [
        "x = int(input(\"Please enter your age: \"))"
      ],
      "execution_count": 60,
      "outputs": [
        {
          "name": "stdout",
          "output_type": "stream",
          "text": [
            "Please enter your age: 15\n"
          ]
        }
      ]
    },
    {
      "cell_type": "code",
      "metadata": {
        "id": "_FZGcEREdG40",
        "colab": {
          "base_uri": "https://localhost:8080/"
        },
        "outputId": "c4e357bf-c7a7-4d7a-cb06-81ec7bcfd5c4"
      },
      "source": [
        "if x < 20:\n",
        "    print('You are a teenager. Enjoy your life!')\n",
        "elif x < 30:\n",
        "    print('Work Hard for your future!')\n",
        "elif x < 60:\n",
        "    print('Take care of your family and you too')\n",
        "else:\n",
        "    print('Always be considerate of others')"
      ],
      "execution_count": 61,
      "outputs": [
        {
          "output_type": "stream",
          "name": "stdout",
          "text": [
            "You are a teenager. Enjoy your life!\n"
          ]
        }
      ]
    },
    {
      "cell_type": "markdown",
      "metadata": {
        "id": "-1MBhyRKdG42"
      },
      "source": [
        "### 5-2. for\n",
        "  - 시퀀스 (리스트나 문자열)의 항목들을 그 시퀀스에 들어있는 순서대로 순회하기 위해 사용"
      ]
    },
    {
      "cell_type": "code",
      "metadata": {
        "id": "KhEsXLz1dG43"
      },
      "source": [
        "animals = ['tiger', 'dog', 'elephant']"
      ],
      "execution_count": 64,
      "outputs": []
    },
    {
      "cell_type": "code",
      "metadata": {
        "id": "bTcBmnQmdG45",
        "colab": {
          "base_uri": "https://localhost:8080/"
        },
        "outputId": "8df10d04-9751-4969-84eb-de26914ffd99"
      },
      "source": [
        "for w in animals:\n",
        "    print(w, len(w))"
      ],
      "execution_count": 65,
      "outputs": [
        {
          "output_type": "stream",
          "name": "stdout",
          "text": [
            "tiger 5\n",
            "dog 3\n",
            "elephant 8\n"
          ]
        }
      ]
    },
    {
      "cell_type": "code",
      "metadata": {
        "id": "1oOZzKGudG47",
        "colab": {
          "base_uri": "https://localhost:8080/"
        },
        "outputId": "627350d6-498b-46a6-d6a9-d62159ab4a7b"
      },
      "source": [
        "for i, w in enumerate(animals):\n",
        "    print(i, w)"
      ],
      "execution_count": 67,
      "outputs": [
        {
          "output_type": "stream",
          "name": "stdout",
          "text": [
            "0 tiger\n",
            "1 dog\n",
            "2 elephant\n"
          ]
        }
      ]
    },
    {
      "cell_type": "markdown",
      "metadata": {
        "id": "dDOXlgl-dG49"
      },
      "source": [
        "  - 숫자들의 시퀀스로 순회 `range()`사용, `range`는 리스트인 것처럼 동작하나 리스트는 아님\n",
        "      - ex) `range(start, end, step)`"
      ]
    },
    {
      "cell_type": "code",
      "metadata": {
        "id": "xQT0_AW1dG49",
        "colab": {
          "base_uri": "https://localhost:8080/"
        },
        "outputId": "3d639651-ed0d-4397-ab0d-7887d783151f"
      },
      "source": [
        "for i in range(5):\n",
        "     print(i)"
      ],
      "execution_count": 68,
      "outputs": [
        {
          "output_type": "stream",
          "name": "stdout",
          "text": [
            "0\n",
            "1\n",
            "2\n",
            "3\n",
            "4\n"
          ]
        }
      ]
    },
    {
      "cell_type": "code",
      "metadata": {
        "id": "nJQNAjk8dG5A"
      },
      "source": [
        "for i in [0, 1, 2, 3, 4]:\n",
        "    print(i)"
      ],
      "execution_count": null,
      "outputs": []
    },
    {
      "cell_type": "code",
      "metadata": {
        "id": "RCS_vLO5dG5C"
      },
      "source": [
        "print(range(5))"
      ],
      "execution_count": null,
      "outputs": []
    },
    {
      "cell_type": "code",
      "metadata": {
        "id": "hAKWM1b6dG5F"
      },
      "source": [
        "for i in range(0, 10, 3):\n",
        "     print(i)"
      ],
      "execution_count": null,
      "outputs": []
    },
    {
      "cell_type": "markdown",
      "metadata": {
        "id": "tp6F9J3cdG5G"
      },
      "source": [
        "## 6. 함수"
      ]
    },
    {
      "cell_type": "markdown",
      "metadata": {
        "id": "d8W_eu97dG5I"
      },
      "source": [
        "  - `def` 키워드로 함수 정의 시작, 함수 이름과 형식 매개변수 목록이 뒤따름, 함수 바디는 들여쓰기 된 다음줄에서 시작, 반환값은 `return` 다음 값\n",
        "  - 함수에서의 모든 변수 대입들은 값을 지역 심볼 테이블에 저장, 함수안 변수 참조 순서는 지역 심볼 테이블 -> 전역 심볼 테이블 -> 내장 이름 테이블\n",
        "  - 함수 인자: 위치 인자, 기본 인자 값, 키워드 인자값\n",
        "  - 하나이상의 값 `return` 가능 ex) `return a, b` : 반환 값은 `(a,b)`의 튜플 형식"
      ]
    },
    {
      "cell_type": "code",
      "metadata": {
        "id": "vXsPiHt9dG5I"
      },
      "source": [
        "# 위치 인자 기본 인자\n",
        "def add(a, b=2):\n",
        "    c = a + b\n",
        "    return c"
      ],
      "execution_count": null,
      "outputs": []
    },
    {
      "cell_type": "code",
      "metadata": {
        "id": "-Id12mKJdG5K"
      },
      "source": [
        "print(add(2))"
      ],
      "execution_count": null,
      "outputs": []
    },
    {
      "cell_type": "code",
      "metadata": {
        "id": "M29nQCHPdG5O"
      },
      "source": [
        "print(add(2,4))"
      ],
      "execution_count": null,
      "outputs": []
    },
    {
      "cell_type": "code",
      "metadata": {
        "id": "9xaYZlmAdG5P"
      },
      "source": [
        "print(add(2,b=4))"
      ],
      "execution_count": null,
      "outputs": []
    },
    {
      "cell_type": "markdown",
      "metadata": {
        "id": "e6klAp6CdG5R"
      },
      "source": [
        "## 7. 기타"
      ]
    },
    {
      "cell_type": "markdown",
      "metadata": {
        "id": "t6MPSnnfdG5S"
      },
      "source": [
        "### with 구문\n",
        " - 특별한 컨테스트(리소스)에서 실행함을 나타나는데 사용\n",
        "     - ex) 파일 읽기 쓰기, DB 데이터 조회\n",
        " - 대표적으로 파일이나 소켓과 같은 특정한 리소스에 엑세스 하는 경우 해당 리소스를 열고, 리소스를 회수 반환\n",
        " - with 구문을 활용하면, 특정 블럭내의 동작으로 제한, 블록을 벗어나는 경우 컨텍스트(리소스)가 해제처리를 보장"
      ]
    },
    {
      "cell_type": "code",
      "metadata": {
        "id": "7cGjlemXdG5S"
      },
      "source": [
        "with open(\"test.txt\", 'w') as f:\n",
        "    f.write('지금 파이썬 연습중')"
      ],
      "execution_count": null,
      "outputs": []
    },
    {
      "cell_type": "code",
      "metadata": {
        "id": "HZQN9DNEdG5U",
        "colab": {
          "base_uri": "https://localhost:8080/"
        },
        "outputId": "a702dedc-b0ca-47ad-9af1-adcbafc1dfb5"
      },
      "source": [
        "with open(\"test.txt\") as f:\n",
        "    data = f.read()\n",
        "    print(data)"
      ],
      "execution_count": null,
      "outputs": [
        {
          "output_type": "stream",
          "name": "stdout",
          "text": [
            "지금 파이썬 연습중\n"
          ]
        }
      ]
    },
    {
      "cell_type": "code",
      "metadata": {
        "id": "VXJatE2vdG5X",
        "colab": {
          "base_uri": "https://localhost:8080/"
        },
        "outputId": "e62c50ca-d6f5-4e36-846e-9a08b74cce53"
      },
      "source": [
        "!ls"
      ],
      "execution_count": null,
      "outputs": [
        {
          "output_type": "stream",
          "name": "stdout",
          "text": [
            "sample_data  test.txt  x.txt\n"
          ]
        }
      ]
    },
    {
      "cell_type": "code",
      "metadata": {
        "colab": {
          "base_uri": "https://localhost:8080/"
        },
        "id": "g0QzWV0794Qu",
        "outputId": "e3f6ad2e-59b1-449e-e75e-14b042d5b038"
      },
      "source": [
        "!pwd"
      ],
      "execution_count": null,
      "outputs": [
        {
          "output_type": "stream",
          "name": "stdout",
          "text": [
            "/content\n"
          ]
        }
      ]
    },
    {
      "cell_type": "code",
      "metadata": {
        "id": "3r3a1SpF96wB"
      },
      "source": [],
      "execution_count": null,
      "outputs": []
    }
  ]
}