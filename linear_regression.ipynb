{
  "nbformat": 4,
  "nbformat_minor": 0,
  "metadata": {
    "colab": {
      "name": "linear_regression.ipynb",
      "provenance": [],
      "collapsed_sections": [],
      "authorship_tag": "ABX9TyMMKLpFgVpPjdPmePpOY/VX",
      "include_colab_link": true
    },
    "kernelspec": {
      "name": "python3",
      "display_name": "Python 3"
    }
  },
  "cells": [
    {
      "cell_type": "markdown",
      "metadata": {
        "id": "view-in-github",
        "colab_type": "text"
      },
      "source": [
        "<a href=\"https://colab.research.google.com/github/choki0715/lecture/blob/master/linear_regression.ipynb\" target=\"_parent\"><img src=\"https://colab.research.google.com/assets/colab-badge.svg\" alt=\"Open In Colab\"/></a>"
      ]
    },
    {
      "cell_type": "code",
      "metadata": {
        "id": "PnZAZszNMcrM",
        "colab_type": "code",
        "colab": {
          "base_uri": "https://localhost:8080/",
          "height": 265
        },
        "outputId": "187be883-d3d7-45f2-fca6-5e5d55a53aef"
      },
      "source": [
        "import numpy as np\n",
        "import matplotlib.pyplot as plt\n",
        "\n",
        "# dataset generation\n",
        "data = np.zeros((100,2))\n",
        "\n",
        "for i in range(len(data)):\n",
        "  data[i][0] = 10*np.random.rand(1)\n",
        "  data[i][1] = 3*data[i,0] + 2 + np.random.rand(1)\n",
        "\n",
        "plt.scatter(data[:,0], data[:,1])\n",
        "plt.show()\n"
      ],
      "execution_count": 3,
      "outputs": [
        {
          "output_type": "display_data",
          "data": {
            "image/png": "[encoded data removed]",
            "text/plain": [
              "<Figure size 432x288 with 1 Axes>"
            ]
          },
          "metadata": {
            "tags": [],
            "needs_background": "light"
          }
        }
      ]
    },
    {
      "cell_type": "code",
      "metadata": {
        "id": "NXQXZCTG9AqA",
        "colab_type": "code",
        "colab": {
          "base_uri": "https://localhost:8080/",
          "height": 458
        },
        "outputId": "97809022-3529-4b4d-de20-26e83bd5c25f"
      },
      "source": [
        "# y = 3x + 2 --> y = ax + c : find a and c\n",
        "# error = true - pred\n",
        "# MSE loss = (true - pred)**2\n",
        "def loss_function (a,c):\n",
        "  return sum((y-a*x-c)**2 for x, y in data)\n",
        "\n",
        "def a_grad_loss(a,c):\n",
        "  return sum(2*(y-a*x-c)*(-x) for x,y in data )\n",
        "\n",
        "def c_grad_loss(a,c):\n",
        "  return sum(2*(y-a*x-c)*(-1) for x,y in data )  \n",
        "\n",
        "a = 20.00001\n",
        "c = 20.00001\n",
        "lr= 0.0001 # learning rate\n",
        "\n",
        "for i in range(1000+1):\n",
        "  a = a - lr*a_grad_loss(a,c)\n",
        "  c = c - lr*c_grad_loss(a,c)\n",
        "  if i%100 == 0:\n",
        "    print('iteration:', i, 'loss=', loss_function(a,c), 'a=', a, 'c=', c)\n",
        "\n",
        "x_coor = []\n",
        "y_coor = []\n",
        "for i in range(100):\n",
        "  x_coor.append (i*0.1)\n",
        "  y_coor.append (a*x_coor[i] + c) \n",
        "\n",
        "plt.plot(x_coor, y_coor, 'r')\n",
        "plt.scatter(data[:,0], data[:,1])\n",
        "plt.show()"
      ],
      "execution_count": 11,
      "outputs": [
        {
          "output_type": "stream",
          "text": [
            "iteration: 0 loss= 111475.95337900869 a= 5.948148365138074 c= 19.34201598958134\n",
            "iteration: 100 loss= 2551.888114505481 a= 1.4936752168564842 c= 12.799250294656346\n",
            "iteration: 200 loss= 983.7547515681774 a= 2.0666446397850686 c= 8.883732942548138\n",
            "iteration: 300 loss= 382.1514519452448 a= 2.4215356950342137 c= 6.458503900074054\n",
            "iteration: 400 loss= 151.35059108015435 a= 2.6413513711519765 c= 4.9563432966245795\n",
            "iteration: 500 loss= 62.805469387081686 a= 2.7775028203148406 c= 4.02592128738881\n",
            "iteration: 600 loss= 28.83575824192347 a= 2.8618335533932986 c= 3.4496279714261817\n",
            "iteration: 700 loss= 15.80351825827477 a= 2.9140670961523125 c= 3.092678132829826\n",
            "iteration: 800 loss= 10.803791346683985 a= 2.9464199868430576 c= 2.871587268603617\n",
            "iteration: 900 loss= 8.885681396142255 a= 2.9664590169520513 c= 2.7346459817367905\n",
            "iteration: 1000 loss= 8.149812048190853 a= 2.978870975176979 c= 2.6498260317385123\n"
          ],
          "name": "stdout"
        },
        {
          "output_type": "display_data",
          "data": {
            "image/png": "[encoded data removed]",
            "text/plain": [
              "<Figure size 432x288 with 1 Axes>"
            ]
          },
          "metadata": {
            "tags": [],
            "needs_background": "light"
          }
        }
      ]
    },
    {
      "cell_type": "code",
      "metadata": {
        "id": "-fMZbLm20nJK",
        "colab_type": "code",
        "colab": {
          "base_uri": "https://localhost:8080/",
          "height": 458
        },
        "outputId": "cba7f7ea-685d-41a0-de1c-8b0248c17a92"
      },
      "source": [
        "# y = 3x + 2 --> y = ax + c : find a and c\n",
        "# error = true - pred\n",
        "# MSE loss = (true - pred)**2\n",
        "\n",
        "def loss_function (a,c):\n",
        "  return sum((y-a*x-c)**2 for x, y in data)\n",
        "\n",
        "def a_grad_loss(a,c):\n",
        "  a_del = a + delta\n",
        "  return  (loss_function(a_del,c) - loss_function(a,c))/delta \n",
        "  \n",
        "def c_grad_loss(a,c):\n",
        "  c_del = c + delta\n",
        "  return  (loss_function(a,c_del) - loss_function(a,c))/delta \n",
        "  \n",
        "a = 20.00001\n",
        "c = 20.00001\n",
        "lr= 0.0001 # learning rate\n",
        "delta = 0.01\n",
        "\n",
        "for i in range(1000+1):\n",
        "  a = a - lr*a_grad_loss(a, c)\n",
        "  c = c - lr*c_grad_loss(a, c)\n",
        "  if i%100 == 0:\n",
        "    print('iteration:', i, 'loss=', loss_function(a,c), 'a=', a, 'c=', c)\n",
        "\n",
        "x_coor = []\n",
        "y_coor = []\n",
        "for i in range(100):\n",
        "  x_coor.append (i*0.1)\n",
        "  y_coor.append (a*x_coor[i] + c) \n",
        "\n",
        "plt.plot(x_coor, y_coor, 'r')\n",
        "plt.scatter(data[:,0], data[:,1])\n",
        "plt.show()"
      ],
      "execution_count": 13,
      "outputs": [
        {
          "output_type": "stream",
          "text": [
            "iteration: 0 loss= 111338.30476856642 a= 5.944553257867916 c= 19.342291740415927\n",
            "iteration: 100 loss= 2568.9730142125327 a= 1.483844816481461 c= 12.832844170871995\n",
            "iteration: 200 loss= 1000.7580608953351 a= 2.053789344806084 c= 8.93799812657902\n",
            "iteration: 300 loss= 395.211187162403 a= 2.406806813097447 c= 6.525572668293426\n",
            "iteration: 400 loss= 160.47418267787052 a= 2.6254620097446835 c= 5.031342466226258\n",
            "iteration: 500 loss= 68.91807150661053 a= 2.760894670491605 c= 4.105832461719696\n",
            "iteration: 600 loss= 32.86356453206275 a= 2.844780193809775 c= 3.5325815882888594\n",
            "iteration: 700 loss= 18.455691601409995 a= 2.896737978464931 c= 3.17751620564675\n",
            "iteration: 800 loss= 12.57155878459117 a= 2.9289200675726335 c= 2.957592553029766\n",
            "iteration: 900 loss= 10.093245104321856 a= 2.9488533050308883 c= 2.8213742243926774\n",
            "iteration: 1000 loss= 9.005629745673874 a= 2.961199736433692 c= 2.737002066892193\n"
          ],
          "name": "stdout"
        },
        {
          "output_type": "display_data",
          "data": {
            "image/png": "[encoded data removed]",
            "text/plain": [
              "<Figure size 432x288 with 1 Axes>"
            ]
          },
          "metadata": {
            "tags": [],
            "needs_background": "light"
          }
        }
      ]
    },
    {
      "cell_type": "code",
      "metadata": {
        "id": "XnkcEiytHjz0",
        "colab_type": "code",
        "colab": {
          "base_uri": "https://localhost:8080/",
          "height": 458
        },
        "outputId": "d60ee1d9-a88e-4593-f582-aa912947903c"
      },
      "source": [
        "import tensorflow as tf\n",
        "\n",
        "a = tf.Variable(initial_value=20.001)\n",
        "c = tf.Variable(initial_value=20.001)\n",
        "\n",
        "x = data[:,0]\n",
        "y = data[:,1]\n",
        "\n",
        "def loss_function(x,y):\n",
        "  pred = a*x+c\n",
        "  return tf.reduce_mean(tf.math.square(y - pred))\n",
        "\n",
        "optimizer = tf.optimizers.SGD(0.0001)\n",
        "\n",
        "def train():\n",
        "  with tf.GradientTape() as g:\n",
        "    loss = loss_function(x,y)\n",
        "  gradients = g.gradient(loss, [a,c])\n",
        "  optimizer.apply_gradients(zip(gradients, [a,c]))\n",
        "\n",
        "for i in range(10000+1):\n",
        "  x = data[:,0]\n",
        "  y = data[:,1]\n",
        "\n",
        "  train()\n",
        "  \n",
        "  if i%1000 == 0:\n",
        "    loss = loss_function(x,y)\n",
        "    print('iteration: ', i, 'loss=', loss, 'a=', a.numpy(), 'c=', c.numpy())\n",
        "\n",
        "x_coor = []\n",
        "y_coor = []\n",
        "a = a.numpy()\n",
        "c = c.numpy()\n",
        "for i in range(100):\n",
        "  x_coor.append (i*0.1)\n",
        "  y_coor.append (a*x_coor[i] + c) \n",
        "\n",
        "plt.plot(x_coor, y_coor, 'r')\n",
        "plt.scatter(data[:,0], data[:,1])\n",
        "plt.show()\n"
      ],
      "execution_count": 14,
      "outputs": [
        {
          "output_type": "stream",
          "text": [
            "iteration:  0 loss= tf.Tensor(13604.736, shape=(), dtype=float32) a= 19.860474 c= 19.979733\n",
            "iteration:  1000 loss= tf.Tensor(47.275043, shape=(), dtype=float32) a= 0.9609642 c= 16.524614\n",
            "iteration:  2000 loss= tf.Tensor(43.02942, shape=(), dtype=float32) a= 1.0432674 c= 15.878608\n",
            "iteration:  3000 loss= tf.Tensor(39.170113, shape=(), dtype=float32) a= 1.1331922 c= 15.263967\n",
            "iteration:  4000 loss= tf.Tensor(35.657562, shape=(), dtype=float32) a= 1.2189897 c= 14.677589\n",
            "iteration:  5000 loss= tf.Tensor(32.460655, shape=(), dtype=float32) a= 1.3008423 c= 14.118182\n",
            "iteration:  6000 loss= tf.Tensor(29.550953, shape=(), dtype=float32) a= 1.3789302 c= 13.584491\n",
            "iteration:  7000 loss= tf.Tensor(26.902702, shape=(), dtype=float32) a= 1.4534283 c= 13.075342\n",
            "iteration:  8000 loss= tf.Tensor(24.492397, shape=(), dtype=float32) a= 1.5245004 c= 12.589605\n",
            "iteration:  9000 loss= tf.Tensor(22.298653, shape=(), dtype=float32) a= 1.592305 c= 12.126203\n",
            "iteration:  10000 loss= tf.Tensor(20.30203, shape=(), dtype=float32) a= 1.6569908 c= 11.684112\n"
          ],
          "name": "stdout"
        },
        {
          "output_type": "display_data",
          "data": {
            "image/png": "[encoded data removed]",
            "text/plain": [
              "<Figure size 432x288 with 1 Axes>"
            ]
          },
          "metadata": {
            "tags": [],
            "needs_background": "light"
          }
        }
      ]
    },
    {
      "cell_type": "code",
      "metadata": {
        "id": "z49RDq700Sm0",
        "colab_type": "code",
        "colab": {
          "base_uri": "https://localhost:8080/",
          "height": 458
        },
        "outputId": "e653fc27-82d1-4657-87e0-9878361e32cc"
      },
      "source": [
        "import torch\n",
        "import torch.nn as nn\n",
        "import torch.nn.functional as F\n",
        "\n",
        "class Linear_Regression(nn.Module):\n",
        "    def __init__(self):\n",
        "        super().__init__()\n",
        "        self.linear = nn.Linear(1, 1) # 단일 선형 회귀이므로 input_dim=1, output_dim=1.\n",
        "\n",
        "    def forward(self, x):\n",
        "        return self.linear(x)\n",
        "\n",
        "x = []\n",
        "y = []\n",
        "\n",
        "for i in range(len(data)):\n",
        "\n",
        "  lx = []\n",
        "  ly = []\n",
        "  for j in range(1):\n",
        "    lx.append(data[i,0])\n",
        "    ly.append(data[i,1])\n",
        "  x.append (lx)\n",
        "  y.append (ly)\n",
        "\n",
        "in_x = torch.FloatTensor(x)\n",
        "in_y = torch.FloatTensor(y)\n",
        "\n",
        "model = Linear_Regression()\n",
        "optimizer = torch.optim.SGD(model.parameters(), lr=0.0001) \n",
        "weight = []\n",
        "\n",
        "for i in range(1000+1):\n",
        "  pred = model(in_x)\n",
        "  loss = F.mse_loss(pred, in_y)\n",
        "  optimizer.zero_grad()\n",
        "  loss.backward()\n",
        "  optimizer.step()\n",
        "  if i%100 == 0:\n",
        "    for param in model.parameters():\n",
        "      weight.append (param.data)\n",
        "    print('iteration:', i, 'loss=', loss, 'param=', weight[0], weight[1]) \n",
        "\n",
        "x_coor = []\n",
        "y_coor = []\n",
        "a = weight[0]\n",
        "c = weight[1]\n",
        "for i in range(100):\n",
        "  x_coor.append (i*0.1)\n",
        "  y_coor.append (a*x_coor[i] + c) \n",
        "\n",
        "plt.plot(x_coor, y_coor, 'r')\n",
        "plt.scatter(data[:,0], data[:,1])\n",
        "plt.show()"
      ],
      "execution_count": 15,
      "outputs": [
        {
          "output_type": "stream",
          "text": [
            "iteration: 0 loss= tensor(281.4087, grad_fn=<MseLossBackward>) param= tensor([[0.5227]]) tensor([0.4786])\n",
            "iteration: 100 loss= tensor(64.9910, grad_fn=<MseLossBackward>) param= tensor([[1.9377]]) tensor([0.6935])\n",
            "iteration: 200 loss= tensor(15.4274, grad_fn=<MseLossBackward>) param= tensor([[2.6143]]) tensor([0.8003])\n",
            "iteration: 300 loss= tensor(4.0730, grad_fn=<MseLossBackward>) param= tensor([[2.9375]]) tensor([0.8554])\n",
            "iteration: 400 loss= tensor(1.4684, grad_fn=<MseLossBackward>) param= tensor([[3.0915]]) tensor([0.8857])\n",
            "iteration: 500 loss= tensor(0.8674, grad_fn=<MseLossBackward>) param= tensor([[3.1647]]) tensor([0.9041])\n",
            "iteration: 600 loss= tensor(0.7254, grad_fn=<MseLossBackward>) param= tensor([[3.1991]]) tensor([0.9168])\n",
            "iteration: 700 loss= tensor(0.6885, grad_fn=<MseLossBackward>) param= tensor([[3.2151]]) tensor([0.9267])\n",
            "iteration: 800 loss= tensor(0.6757, grad_fn=<MseLossBackward>) param= tensor([[3.2221]]) tensor([0.9353])\n",
            "iteration: 900 loss= tensor(0.6685, grad_fn=<MseLossBackward>) param= tensor([[3.2249]]) tensor([0.9433])\n",
            "iteration: 1000 loss= tensor(0.6626, grad_fn=<MseLossBackward>) param= tensor([[3.2257]]) tensor([0.9510])\n"
          ],
          "name": "stdout"
        },
        {
          "output_type": "display_data",
          "data": {
            "image/png": "[encoded data removed]",
            "text/plain": [
              "<Figure size 432x288 with 1 Axes>"
            ]
          },
          "metadata": {
            "tags": [],
            "needs_background": "light"
          }
        }
      ]
    },
    {
      "cell_type": "code",
      "metadata": {
        "id": "uqOOJ9w7Kh2E",
        "colab_type": "code",
        "colab": {}
      },
      "source": [
        ""
      ],
      "execution_count": null,
      "outputs": []
    }
  ]
}