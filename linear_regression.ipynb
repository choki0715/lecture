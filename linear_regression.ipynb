{
  "nbformat": 4,
  "nbformat_minor": 0,
  "metadata": {
    "colab": {
      "name": "linear_regression.ipynb",
      "provenance": [],
      "collapsed_sections": [],
      "authorship_tag": "ABX9TyO9cMHRFoCIhcN38EIaB/rz",
      "include_colab_link": true
    },
    "kernelspec": {
      "name": "python3",
      "display_name": "Python 3"
    }
  },
  "cells": [
    {
      "cell_type": "markdown",
      "metadata": {
        "id": "view-in-github",
        "colab_type": "text"
      },
      "source": [
        "<a href=\"https://colab.research.google.com/github/choki0715/lecture/blob/master/linear_regression.ipynb\" target=\"_parent\"><img src=\"https://colab.research.google.com/assets/colab-badge.svg\" alt=\"Open In Colab\"/></a>"
      ]
    },
    {
      "cell_type": "code",
      "metadata": {
        "id": "PnZAZszNMcrM",
        "colab_type": "code",
        "colab": {
          "base_uri": "https://localhost:8080/",
          "height": 265
        },
        "outputId": "9647a93d-23e7-444e-cc2b-7f4c53baf9a6"
      },
      "source": [
        "import numpy as np\n",
        "import matplotlib.pyplot as plt\n",
        "\n",
        "# dataset generation\n",
        "data = np.zeros((100,2))\n",
        "\n",
        "for i in range(len(data)):\n",
        "  data[i][0] = 10*np.random.rand(1)\n",
        "  data[i][1] = 3*data[i,0] + 2 + np.random.rand(1)\n",
        "\n",
        "plt.scatter(data[:,0], data[:,1])\n",
        "plt.show()"
      ],
      "execution_count": 1,
      "outputs": [
        {
          "output_type": "display_data",
          "data": {
            "image/png": "[encoded data removed]",
            "text/plain": [
              "<Figure size 432x288 with 1 Axes>"
            ]
          },
          "metadata": {
            "tags": [],
            "needs_background": "light"
          }
        }
      ]
    },
    {
      "cell_type": "code",
      "metadata": {
        "id": "NXQXZCTG9AqA",
        "colab_type": "code",
        "colab": {
          "base_uri": "https://localhost:8080/",
          "height": 458
        },
        "outputId": "849474bd-6583-4e3c-d46d-7a03752700eb"
      },
      "source": [
        "# y = 3x + 2 --> y = wx + b : find w and b\n",
        "# error = true - pred\n",
        "# MSE loss = (true - pred)**2\n",
        "def loss_function (w,b):\n",
        "  return sum((y-w*x-b)**2 for x, y in data)/len(data)\n",
        "\n",
        "def w_grad_loss(w,b):\n",
        "  return sum(2*(y-w*x-b)*(-x) for x,y in data )/len(data)\n",
        "\n",
        "def b_grad_loss(w,b):\n",
        "  return sum(2*(y-w*x-b)*(-1) for x,y in data )/len(data)\n",
        "\n",
        "# initial parameters\n",
        "w = 20.00001\n",
        "b = 20.00001\n",
        "\n",
        "# learning rate\n",
        "lr= 0.01 \n",
        "\n",
        "for i in range(1000+1):\n",
        "  w = w - lr*w_grad_loss(w,b)\n",
        "  b = b - lr*b_grad_loss(w,b)\n",
        "  if i%100 == 0:\n",
        "    print('iteration:', i, 'loss=', loss_function(w,b), 'w=', w, 'b=', b)\n",
        "\n",
        "# plot result\n",
        "x_coor = []\n",
        "y_coor = []\n",
        "for i in range(100):\n",
        "  x_coor.append (i*0.1)\n",
        "  y_coor.append (w*x_coor[i] + b) \n",
        "\n",
        "plt.plot(x_coor, y_coor, 'r')\n",
        "plt.scatter(data[:,0], data[:,1])\n",
        "plt.show()"
      ],
      "execution_count": null,
      "outputs": [
        {
          "output_type": "stream",
          "text": [
            "iteration: 0 loss= 1963.7693018459415 w= 8.391894786397831 b= 19.149386453527107\n",
            "iteration: 100 loss= 24.07473086017054 w= 1.4796186592693434 b= 12.037974375756413\n",
            "iteration: 200 loss= 8.453850375996941 w= 2.100929249896823 b= 8.145782810430308\n",
            "iteration: 300 loss= 2.999346297902468 w= 2.468070884433353 b= 5.845829140270031\n",
            "iteration: 400 loss= 1.0947408073161793 w= 2.685020316558796 b= 4.486752436027564\n",
            "iteration: 500 loss= 0.4296900487440606 w= 2.8132189507424896 b= 3.6836538727917882\n",
            "iteration: 600 loss= 0.19746741068939389 w= 2.888973423319591 b= 3.209091031520173\n",
            "iteration: 700 loss= 0.11637983514726144 w= 2.9337378636896183 b= 2.928664816575405\n",
            "iteration: 800 loss= 0.08806564940558939 w= 2.9601898348204605 b= 2.7629568108294613\n",
            "iteration: 900 loss= 0.0781788929098625 w= 2.975820696525043 b= 2.66503749478511\n",
            "iteration: 1000 loss= 0.07472663209270153 w= 2.9850572043232426 b= 2.6071755199732616\n"
          ],
          "name": "stdout"
        },
        {
          "output_type": "display_data",
          "data": {
            "image/png": "[encoded data removed]",
            "text/plain": [
              "<Figure size 432x288 with 1 Axes>"
            ]
          },
          "metadata": {
            "tags": [],
            "needs_background": "light"
          }
        }
      ]
    },
    {
      "cell_type": "code",
      "metadata": {
        "id": "-fMZbLm20nJK",
        "colab_type": "code",
        "colab": {
          "base_uri": "https://localhost:8080/",
          "height": 458
        },
        "outputId": "a21d5ca6-e0fd-4255-82d8-68b4c8c31b26"
      },
      "source": [
        "# y = 3x + 2 --> y = ax + c : find a and c\n",
        "# error = true - pred\n",
        "# MSE loss = (true - pred)**2\n",
        "\n",
        "def loss_function (w,b):\n",
        "  return sum((y-w*x-b)**2 for x, y in data)/len(data)\n",
        "\n",
        "def grad_loss(w,b, w_h, b_h):\n",
        "  return  (loss_function(w+w_h,b+b_h) - loss_function(w,b))/h \n",
        "  \n",
        "w = 20.00001\n",
        "b = 20.00001\n",
        "lr= 0.01 # learning rate\n",
        "h = 0.001\n",
        "\n",
        "for i in range(1000+1):\n",
        "  w = w - lr*grad_loss(w, b, h, 0)\n",
        "  b = b - lr*grad_loss(w, b, 0, h)\n",
        "  \n",
        "  # 100회 반복마다 손실값 및 w, b 출력\n",
        "  if i%100 == 0:\n",
        "    print('iteration:', i, 'loss=', loss_function(w,b), 'w=', w, 'b=', b)\n",
        "\n",
        "x_coor = []\n",
        "y_coor = []\n",
        "for i in range(100):\n",
        "  x_coor.append (i*0.1)\n",
        "  y_coor.append (w*x_coor[i] + b) \n",
        "\n",
        "plt.plot(x_coor, y_coor, 'r')\n",
        "plt.scatter(data[:,0], data[:,1])\n",
        "plt.show()"
      ],
      "execution_count": null,
      "outputs": [
        {
          "output_type": "stream",
          "text": [
            "iteration: 0 loss= 1963.632383686259 w= 8.391601154486377 b= 19.149403734087425\n",
            "iteration: 100 loss= 24.08933520757431 w= 1.4786790543974853 b= 12.040789707790108\n",
            "iteration: 200 loss= 8.467439734762639 w= 2.0997244853125423 b= 8.150259231800046\n",
            "iteration: 300 loss= 3.0091134790071807 w= 2.4667094330461863 b= 5.8512871239400015\n",
            "iteration: 400 loss= 1.1011242063014353 w= 2.6835662766180173 b= 4.492790439405658\n",
            "iteration: 500 loss= 0.4336810227904856 w= 2.8117101988533633 b= 3.6900346184103823\n",
            "iteration: 600 loss= 0.1999074731579987 w= 2.887432341329456 b= 3.215674308607507\n",
            "iteration: 700 loss= 0.11785553615590949 w= 2.9321776773637307 b= 2.9353677725087164\n",
            "iteration: 800 loss= 0.08895476751467495 w= 2.9586183594594915 b= 2.769730486766238\n",
            "iteration: 900 loss= 0.07871554960469278 w= 2.9742425503059655 b= 2.671852960219852\n",
            "iteration: 1000 loss= 0.07505297459231115 w= 2.9834751161952604 b= 2.6140156794415867\n"
          ],
          "name": "stdout"
        },
        {
          "output_type": "display_data",
          "data": {
            "image/png": "[encoded data removed]",
            "text/plain": [
              "<Figure size 432x288 with 1 Axes>"
            ]
          },
          "metadata": {
            "tags": [],
            "needs_background": "light"
          }
        }
      ]
    },
    {
      "cell_type": "code",
      "metadata": {
        "id": "XnkcEiytHjz0",
        "colab_type": "code",
        "colab": {
          "base_uri": "https://localhost:8080/",
          "height": 463
        },
        "outputId": "81c51086-a770-4052-d0bd-3aecdf3657ea"
      },
      "source": [
        "import tensorflow as tf\n",
        "\n",
        "# w,b 변수 설정 및 초기화\n",
        "w = tf.Variable(initial_value=20.001)\n",
        "b = tf.Variable(initial_value=20.001)\n",
        "\n",
        "x = data[:,0]\n",
        "y = data[:,1]\n",
        "\n",
        "# 손실함수 정의: MSE\n",
        "def loss_function(x,y):\n",
        "  pred = w*x+b\n",
        "  return tf.reduce_mean(tf.math.square(y - pred))\n",
        "\n",
        "# 최적화 함수 정의: SGD\n",
        "optimizer = tf.optimizers.RMSprop(0.5, initial_accumulator_value=0.01)\n",
        "\n",
        "# 학습모델 정의\n",
        "def train():\n",
        "  with tf.GradientTape() as g:\n",
        "    loss = loss_function(x,y)\n",
        "  gradients = g.gradient(loss, [w,b])\n",
        "  optimizer.apply_gradients(zip(gradients, [w,b]))\n",
        "\n",
        "for i in range(10000+1):\n",
        "  x = data[:,0]\n",
        "  y = data[:,1]\n",
        "\n",
        "  train()\n",
        "  \n",
        "  # 100회 반복마다 손실값 및 w, b 출력\n",
        "  if i%1000 == 0:\n",
        "    loss = loss_function(x,y)\n",
        "    print('iteration: ', i, 'loss=', loss, 'w=', w.numpy(), 'b=', b.numpy())\n",
        "\n",
        "# 결과 출력\n",
        "x_coor = []\n",
        "y_coor = []\n",
        "w = w.numpy()\n",
        "b = b.numpy()\n",
        "for i in range(100):\n",
        "  x_coor.append (i*0.1)\n",
        "  y_coor.append (w*x_coor[i] + b) \n",
        "\n",
        "plt.plot(x_coor, y_coor, 'r')\n",
        "plt.scatter(data[:,0], data[:,1])\n",
        "plt.show()\n"
      ],
      "execution_count": null,
      "outputs": [
        {
          "output_type": "stream",
          "text": [
            "iteration:  0 loss= tf.Tensor(13095.809, shape=(), dtype=float32) w= 19.501 b= 19.501\n",
            "iteration:  1000 loss= tf.Tensor(9.603804, shape=(), dtype=float32) w= 3.3874514 b= 3.3525522\n",
            "iteration:  2000 loss= tf.Tensor(0.122794695, shape=(), dtype=float32) w= 2.9661944 b= 2.8847904\n",
            "iteration:  3000 loss= tf.Tensor(0.10011987, shape=(), dtype=float32) w= 2.954037 b= 2.829836\n",
            "iteration:  4000 loss= tf.Tensor(0.09498091, shape=(), dtype=float32) w= 2.9583683 b= 2.7955725\n",
            "iteration:  5000 loss= tf.Tensor(0.09084836, shape=(), dtype=float32) w= 2.9628544 b= 2.7653933\n",
            "iteration:  6000 loss= tf.Tensor(0.08749574, shape=(), dtype=float32) w= 2.9669502 b= 2.7382529\n",
            "iteration:  7000 loss= tf.Tensor(0.08477902, shape=(), dtype=float32) w= 2.9706368 b= 2.713827\n",
            "iteration:  8000 loss= tf.Tensor(0.08257737, shape=(), dtype=float32) w= 2.9739447 b= 2.6918314\n",
            "iteration:  9000 loss= tf.Tensor(0.08079334, shape=(), dtype=float32) w= 2.9769268 b= 2.6720426\n",
            "iteration:  10000 loss= tf.Tensor(0.07934652, shape=(), dtype=float32) w= 2.9796212 b= 2.6542282\n"
          ],
          "name": "stdout"
        },
        {
          "output_type": "display_data",
          "data": {
            "image/png": "[encoded data removed]",
            "text/plain": [
              "<Figure size 432x288 with 1 Axes>"
            ]
          },
          "metadata": {
            "tags": [],
            "needs_background": "light"
          }
        }
      ]
    },
    {
      "cell_type": "code",
      "metadata": {
        "id": "z49RDq700Sm0",
        "colab_type": "code",
        "colab": {
          "base_uri": "https://localhost:8080/",
          "height": 463
        },
        "outputId": "e4b93ff3-24c7-43db-86fc-a56c00a638ee"
      },
      "source": [
        "import torch\n",
        "import torch.nn as nn\n",
        "import torch.nn.functional as F\n",
        "\n",
        "# 학습모델 정의\n",
        "class Linear_Regression(nn.Module):\n",
        "    def __init__(self):\n",
        "        super().__init__()\n",
        "        self.linear = nn.Linear(1, 1) # 단일 선형 회귀이므로 input_dim=1, output_dim=1.\n",
        "\n",
        "    def forward(self, x):\n",
        "        return self.linear(x)\n",
        "\n",
        "x = []\n",
        "y = []\n",
        "\n",
        "for i in range(len(data)):\n",
        "\n",
        "  lx = []\n",
        "  ly = []\n",
        "  for j in range(1):\n",
        "    lx.append(data[i,0])\n",
        "    ly.append(data[i,1])\n",
        "  x.append (lx)\n",
        "  y.append (ly)\n",
        "\n",
        "# 파이토치 포맷으로 변환\n",
        "in_x = torch.FloatTensor(x)\n",
        "in_y = torch.FloatTensor(y)\n",
        "\n",
        "# 회귀 모델 선언\n",
        "model = Linear_Regression()\n",
        "optimizer = torch.optim.SGD(model.parameters(), lr=0.01, momentum=0.01, nesterov=True) \n",
        "weight = []\n",
        "\n",
        "for i in range(1000+1):\n",
        "  pred = model(in_x)\n",
        "  loss = F.mse_loss(pred, in_y)\n",
        "  optimizer.zero_grad()\n",
        "  loss.backward()\n",
        "  optimizer.step()\n",
        "\n",
        "  # 100회 반복마다 손실값 및 w, b 출력\n",
        "  if i%100 == 0:\n",
        "    for param in model.parameters():\n",
        "      weight.append (param.data)\n",
        "    print('iteration:', i, 'loss=', loss, 'param=', weight[0], weight[1]) \n",
        "\n",
        "# 결과 출력\n",
        "x_coor = []\n",
        "y_coor = []\n",
        "a = weight[0]\n",
        "c = weight[1]\n",
        "for i in range(100):\n",
        "  x_coor.append (i*0.1)\n",
        "  y_coor.append (a*x_coor[i] + c) \n",
        "\n",
        "plt.plot(x_coor, y_coor, 'r')\n",
        "plt.scatter(data[:,0], data[:,1])\n",
        "plt.show()"
      ],
      "execution_count": null,
      "outputs": [
        {
          "output_type": "stream",
          "text": [
            "iteration: 0 loss= tensor(602.3463, grad_fn=<MseLossBackward>) param= tensor([[2.1341]]) tensor([1.3898])\n",
            "iteration: 100 loss= tensor(0.1586, grad_fn=<MseLossBackward>) param= tensor([[3.0911]]) tensor([1.8962])\n",
            "iteration: 200 loss= tensor(0.1065, grad_fn=<MseLossBackward>) param= tensor([[3.0584]]) tensor([2.1204])\n",
            "iteration: 300 loss= tensor(0.0861, grad_fn=<MseLossBackward>) param= tensor([[3.0379]]) tensor([2.2603])\n",
            "iteration: 400 loss= tensor(0.0782, grad_fn=<MseLossBackward>) param= tensor([[3.0252]]) tensor([2.3477])\n",
            "iteration: 500 loss= tensor(0.0751, grad_fn=<MseLossBackward>) param= tensor([[3.0172]]) tensor([2.4023])\n",
            "iteration: 600 loss= tensor(0.0739, grad_fn=<MseLossBackward>) param= tensor([[3.0122]]) tensor([2.4364])\n",
            "iteration: 700 loss= tensor(0.0734, grad_fn=<MseLossBackward>) param= tensor([[3.0091]]) tensor([2.4577])\n",
            "iteration: 800 loss= tensor(0.0733, grad_fn=<MseLossBackward>) param= tensor([[3.0072]]) tensor([2.4710])\n",
            "iteration: 900 loss= tensor(0.0732, grad_fn=<MseLossBackward>) param= tensor([[3.0060]]) tensor([2.4793])\n",
            "iteration: 1000 loss= tensor(0.0732, grad_fn=<MseLossBackward>) param= tensor([[3.0052]]) tensor([2.4845])\n"
          ],
          "name": "stdout"
        },
        {
          "output_type": "display_data",
          "data": {
            "image/png": "[encoded data removed]",
            "text/plain": [
              "<Figure size 432x288 with 1 Axes>"
            ]
          },
          "metadata": {
            "tags": [],
            "needs_background": "light"
          }
        }
      ]
    },
    {
      "cell_type": "code",
      "metadata": {
        "id": "uqOOJ9w7Kh2E",
        "colab_type": "code",
        "colab": {
          "base_uri": "https://localhost:8080/",
          "height": 35
        },
        "outputId": "0ae3c5fa-e561-447c-a8f6-680630138bc1"
      },
      "source": [
        "import torch\n",
        "print(torch.__version__)"
      ],
      "execution_count": null,
      "outputs": [
        {
          "output_type": "stream",
          "text": [
            "1.5.1+cu101\n"
          ],
          "name": "stdout"
        }
      ]
    },
    {
      "cell_type": "code",
      "metadata": {
        "id": "Av_iJGXxqqwV",
        "colab_type": "code",
        "colab": {
          "base_uri": "https://localhost:8080/",
          "height": 35
        },
        "outputId": "fedd1723-accd-4c36-81ef-4bccd57bc4da"
      },
      "source": [
        "import tensorflow as tf\n",
        "print(tf.__version__)"
      ],
      "execution_count": null,
      "outputs": [
        {
          "output_type": "stream",
          "text": [
            "2.2.0\n"
          ],
          "name": "stdout"
        }
      ]
    },
    {
      "cell_type": "code",
      "metadata": {
        "id": "YLziFZzjLLKJ",
        "colab_type": "code",
        "colab": {
          "base_uri": "https://localhost:8080/",
          "height": 34
        },
        "outputId": "70bc2cf6-01b4-4307-9421-f0459f2afab0"
      },
      "source": [
        "from sklearn.linear_model import LinearRegression\n",
        "\n",
        "X = data[:,0]\n",
        "X = X.reshape(-1, 1)\n",
        "Y = data[:,1]\n",
        "\n",
        "model = LinearRegression().fit(X, Y)\n",
        "print('W=', model.coef_, 'b=',model.intercept_)"
      ],
      "execution_count": 6,
      "outputs": [
        {
          "output_type": "stream",
          "text": [
            "W= [3.01965704] b= 2.400262990731699\n"
          ],
          "name": "stdout"
        }
      ]
    }
  ]
}