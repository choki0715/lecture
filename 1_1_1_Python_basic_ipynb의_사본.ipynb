{
  "nbformat": 4,
  "nbformat_minor": 0,
  "metadata": {
    "kernelspec": {
      "display_name": "Python 3",
      "language": "python",
      "name": "python3"
    },
    "language_info": {
      "codemirror_mode": {
        "name": "ipython",
        "version": 3
      },
      "file_extension": ".py",
      "mimetype": "text/x-python",
      "name": "python",
      "nbconvert_exporter": "python",
      "pygments_lexer": "ipython3",
      "version": "3.5.2"
    },
    "varInspector": {
      "cols": {
        "lenName": 16,
        "lenType": 16,
        "lenVar": 40
      },
      "kernels_config": {
        "python": {
          "delete_cmd_postfix": "",
          "delete_cmd_prefix": "del ",
          "library": "var_list.py",
          "varRefreshCmd": "print(var_dic_list())"
        },
        "r": {
          "delete_cmd_postfix": ") ",
          "delete_cmd_prefix": "rm(",
          "library": "var_list.r",
          "varRefreshCmd": "cat(var_dic_list()) "
        }
      },
      "types_to_exclude": [
        "module",
        "function",
        "builtin_function_or_method",
        "instance",
        "_Feature"
      ],
      "window_display": false
    },
    "colab": {
      "name": "1_1_1_Python basic.ipynb의 사본",
      "provenance": [],
      "include_colab_link": true
    }
  },
  "cells": [
    {
      "cell_type": "markdown",
      "metadata": {
        "id": "view-in-github",
        "colab_type": "text"
      },
      "source": [
        "<a href=\"https://colab.research.google.com/github/choki0715/lecture/blob/master/1_1_1_Python_basic_ipynb%EC%9D%98_%EC%82%AC%EB%B3%B8.ipynb\" target=\"_parent\"><img src=\"https://colab.research.google.com/assets/colab-badge.svg\" alt=\"Open In Colab\"/></a>"
      ]
    },
    {
      "cell_type": "markdown",
      "metadata": {
        "id": "o76ShjzjdG3E"
      },
      "source": [
        "## 1. 숫자"
      ]
    },
    {
      "cell_type": "markdown",
      "metadata": {
        "id": "PNW8dY7pdG3G"
      },
      "source": [
        " - 기본 연산자 : `+, -, *, /`"
      ]
    },
    {
      "cell_type": "code",
      "metadata": {
        "id": "N84lDgLbdG3H"
      },
      "source": [
        "print(2 + 2)"
      ],
      "execution_count": null,
      "outputs": []
    },
    {
      "cell_type": "code",
      "metadata": {
        "id": "d95YO7WWdG3O"
      },
      "source": [
        "print(50 - 5 * 6)"
      ],
      "execution_count": null,
      "outputs": []
    },
    {
      "cell_type": "code",
      "metadata": {
        "id": "4akmtXOQdG3S"
      },
      "source": [
        "print((50 - 5 * 6) / 4) # always return float type"
      ],
      "execution_count": null,
      "outputs": []
    },
    {
      "cell_type": "markdown",
      "metadata": {
        "id": "Mnd_WpbXdG3W"
      },
      "source": [
        " - 거듭제곱(`**`),  몫(`//`),   나머지(`%`)"
      ]
    },
    {
      "cell_type": "code",
      "metadata": {
        "id": "uuRP1ISJdG3X"
      },
      "source": [
        "print(5 ** 2)"
      ],
      "execution_count": null,
      "outputs": []
    },
    {
      "cell_type": "code",
      "metadata": {
        "id": "eGR8YLDhdG3a"
      },
      "source": [
        "print(17 // 3)"
      ],
      "execution_count": null,
      "outputs": []
    },
    {
      "cell_type": "code",
      "metadata": {
        "id": "neLdUW69dG3d"
      },
      "source": [
        "print(17 % 3)"
      ],
      "execution_count": null,
      "outputs": []
    },
    {
      "cell_type": "markdown",
      "metadata": {
        "id": "OfsvI2-edG3g"
      },
      "source": [
        "## 2. 자료구조 : 리스트, 딕셔너리, 튜플,"
      ]
    },
    {
      "cell_type": "markdown",
      "metadata": {
        "id": "G95zNDsPdG3g"
      },
      "source": [
        "- 다른 값들을 덩어리로 묶는데 사용하는 여러가지 컴파운드 자료형 지원"
      ]
    },
    {
      "cell_type": "markdown",
      "metadata": {
        "id": "u7UG5ijLdG3h"
      },
      "source": [
        "### 2-1. 리스트\n",
        "   - 대괄호(`[]`) 사이에 쉼표로 구분된 값들의 목록으로 표현되는 시퀀스(sequence) 자료형, 서로다른 항목 가능 \n",
        "   - 문자열과 같이 숫자로 인덱싱, 슬라이스 연산 및 개별 요소 수정도 가능(가변)\n",
        "   - 이어붙이기 연산도 지원\n",
        "   - 주요 함수(메서드) `append, pop` ref) https://docs.python.org/ko/3/tutorial/datastructures.html"
      ]
    },
    {
      "cell_type": "code",
      "metadata": {
        "id": "-1l0K5SUdG3i"
      },
      "source": [
        "squares1 = [1, 4, 9, 16, 25]"
      ],
      "execution_count": null,
      "outputs": []
    },
    {
      "cell_type": "code",
      "metadata": {
        "id": "HAtDNAkBdG3l"
      },
      "source": [
        "print(squares1)"
      ],
      "execution_count": null,
      "outputs": []
    },
    {
      "cell_type": "code",
      "metadata": {
        "id": "31xH6EaldG3n"
      },
      "source": [
        "squares1[0] = 0"
      ],
      "execution_count": null,
      "outputs": []
    },
    {
      "cell_type": "code",
      "metadata": {
        "id": "l2uRmw55dG3q"
      },
      "source": [
        "print(squares1)"
      ],
      "execution_count": null,
      "outputs": []
    },
    {
      "cell_type": "code",
      "metadata": {
        "id": "ijb-02kTdG3s"
      },
      "source": [
        "squares2 = ['a', 1]"
      ],
      "execution_count": null,
      "outputs": []
    },
    {
      "cell_type": "code",
      "metadata": {
        "id": "sCEK6n3-dG3u"
      },
      "source": [
        "print(squares2)"
      ],
      "execution_count": null,
      "outputs": []
    },
    {
      "cell_type": "code",
      "metadata": {
        "id": "NCikddg0dG3x"
      },
      "source": [
        "print(squares1+squares2)"
      ],
      "execution_count": null,
      "outputs": []
    },
    {
      "cell_type": "code",
      "metadata": {
        "id": "gfIYxdgidG30"
      },
      "source": [
        "squares1.append('36')"
      ],
      "execution_count": null,
      "outputs": []
    },
    {
      "cell_type": "code",
      "metadata": {
        "id": "St0GxlMmdG32"
      },
      "source": [
        "print(squares1)"
      ],
      "execution_count": null,
      "outputs": []
    },
    {
      "cell_type": "code",
      "metadata": {
        "id": "GlihclSidG35"
      },
      "source": [
        "print(squares2.pop())"
      ],
      "execution_count": null,
      "outputs": []
    },
    {
      "cell_type": "code",
      "metadata": {
        "id": "Cp6-QctgdG37"
      },
      "source": [
        "print(squares2)"
      ],
      "execution_count": null,
      "outputs": []
    },
    {
      "cell_type": "markdown",
      "metadata": {
        "id": "0Gskcq4MdG39"
      },
      "source": [
        "### 2-2. 딕셔너리\n",
        "  - 중복되지 않는다는 제약조건을 가진 키:값 쌍의 집합\n",
        "  - 중괄호(`{}`) 안에 쉽료로 분리된 키:값 쌍들의 목록을 넣어 정의\n",
        "  - 키(불변)로 인덱싱 및 인덱싱된 값(가변) 수정 가능\n",
        "  - 주요 함수(메서드) `del, items, keys, values`"
      ]
    },
    {
      "cell_type": "code",
      "metadata": {
        "id": "bOWA8lkzdG39"
      },
      "source": [
        "tel1 = {'jack': 4098, 'sape': 4139}\n",
        "tel2 = dict(sape=4139, guido=4127, jack=4098)"
      ],
      "execution_count": null,
      "outputs": []
    },
    {
      "cell_type": "code",
      "metadata": {
        "id": "mATRxYSmdG4A"
      },
      "source": [
        "print(tel1, tel2)"
      ],
      "execution_count": null,
      "outputs": []
    },
    {
      "cell_type": "code",
      "metadata": {
        "id": "0mOz2BlgdG4C"
      },
      "source": [
        "print(tel1['jack'])"
      ],
      "execution_count": null,
      "outputs": []
    },
    {
      "cell_type": "code",
      "metadata": {
        "id": "ORC1bLFRdG4E"
      },
      "source": [
        "tel1['jack'] = 5098"
      ],
      "execution_count": null,
      "outputs": []
    },
    {
      "cell_type": "code",
      "metadata": {
        "id": "fngPfpYKdG4G"
      },
      "source": [
        "print(tel1)"
      ],
      "execution_count": null,
      "outputs": []
    },
    {
      "cell_type": "code",
      "metadata": {
        "id": "15DZJ_KAdG4I"
      },
      "source": [
        "tel1['guido'] = 4127"
      ],
      "execution_count": null,
      "outputs": []
    },
    {
      "cell_type": "code",
      "metadata": {
        "id": "ZfxsCtDBdG4L"
      },
      "source": [
        "print(tel1)"
      ],
      "execution_count": null,
      "outputs": []
    },
    {
      "cell_type": "code",
      "metadata": {
        "id": "Lbu_0FLvdG4N"
      },
      "source": [
        "del(tel1['sape'])"
      ],
      "execution_count": null,
      "outputs": []
    },
    {
      "cell_type": "code",
      "metadata": {
        "id": "fW6wi5P2dG4P"
      },
      "source": [
        "print(tel1)"
      ],
      "execution_count": null,
      "outputs": []
    },
    {
      "cell_type": "code",
      "metadata": {
        "id": "aL7BXT3pdG4S"
      },
      "source": [
        "print(tel1.items())"
      ],
      "execution_count": null,
      "outputs": []
    },
    {
      "cell_type": "code",
      "metadata": {
        "id": "J3LheW76dG4U"
      },
      "source": [
        "print(tel1.keys())"
      ],
      "execution_count": null,
      "outputs": []
    },
    {
      "cell_type": "markdown",
      "metadata": {
        "id": "kd0JkNuqdG4W"
      },
      "source": [
        "### 2-3. 튜플\n",
        "  - 쉼표로 구분되는 여러값으로 구성되는 시퀀스(sequence) 자료형\n",
        "  - 중괄호(`()`) 안에 쉽료로 구성요소를 분리하여 입력\n",
        "  - 튜플안 요소들은 인덱싱, 언팩킹으로 활용 및 접근 가능하나 불변 자료형이므로 슬라이싱과 개별요소의 수정은 불가\n",
        "      - 단) 개별요소가 리스트와 같이 가변형 자료일 경우 수정 가능"
      ]
    },
    {
      "cell_type": "code",
      "metadata": {
        "id": "0n9dveeKdG4W"
      },
      "source": [
        "t = (12345, 54321, 'hello!')"
      ],
      "execution_count": null,
      "outputs": []
    },
    {
      "cell_type": "code",
      "metadata": {
        "id": "vqSFtttzdG4Z"
      },
      "source": [
        "print(t)"
      ],
      "execution_count": null,
      "outputs": []
    },
    {
      "cell_type": "code",
      "metadata": {
        "id": "GUIf0xBAdG4b"
      },
      "source": [
        "print(t[0])"
      ],
      "execution_count": null,
      "outputs": []
    },
    {
      "cell_type": "code",
      "metadata": {
        "id": "V1oh9GwfdG4d"
      },
      "source": [
        "u = t, (1, 2, 3, 4, 5)"
      ],
      "execution_count": null,
      "outputs": []
    },
    {
      "cell_type": "code",
      "metadata": {
        "id": "jALbisIndG4g"
      },
      "source": [
        "print(u)"
      ],
      "execution_count": null,
      "outputs": []
    },
    {
      "cell_type": "code",
      "metadata": {
        "id": "D9SKk5-ZdG4i"
      },
      "source": [
        "v = (1, 2, 3, 4, 5)"
      ],
      "execution_count": null,
      "outputs": []
    },
    {
      "cell_type": "code",
      "metadata": {
        "id": "N5-DXh2YdG4k"
      },
      "source": [
        "v[0] = 5"
      ],
      "execution_count": null,
      "outputs": []
    },
    {
      "cell_type": "code",
      "metadata": {
        "id": "Gi_PyfB8dG4n"
      },
      "source": [
        "w = ([1, 2, 3], [3, 2, 1])"
      ],
      "execution_count": null,
      "outputs": []
    },
    {
      "cell_type": "code",
      "metadata": {
        "id": "vo4jQX11dG4p"
      },
      "source": [
        "print(w)"
      ],
      "execution_count": null,
      "outputs": []
    },
    {
      "cell_type": "code",
      "metadata": {
        "id": "wZjIEoZOdG4r"
      },
      "source": [
        "w[0][1] = 0 "
      ],
      "execution_count": null,
      "outputs": []
    },
    {
      "cell_type": "code",
      "metadata": {
        "id": "os4geel2dG4v"
      },
      "source": [
        "print(w)"
      ],
      "execution_count": null,
      "outputs": []
    },
    {
      "cell_type": "markdown",
      "metadata": {
        "id": "VygGc3agdG4x"
      },
      "source": [
        "## 3. 흐름 제어: if, for"
      ]
    },
    {
      "cell_type": "markdown",
      "metadata": {
        "id": "UYINmBkBdG4x"
      },
      "source": [
        "### 3-1. if\n",
        " - `if` 다음의 조건을 판단하여 참인 경우, 선택적으로 실행\n",
        " - 없거나 여러개의 elif 부가 있을 수 있고, else 는 선택적\n",
        " - `if ... elif ...` 로 switch, case 문 대체"
      ]
    },
    {
      "cell_type": "code",
      "metadata": {
        "id": "J4qWHAWOdG4x"
      },
      "source": [
        "x = int(input(\"Please enter an integer: \"))"
      ],
      "execution_count": null,
      "outputs": []
    },
    {
      "cell_type": "code",
      "metadata": {
        "id": "_FZGcEREdG40"
      },
      "source": [
        "if x < 0:\n",
        "    print('Negative')\n",
        "elif x == 0:\n",
        "    print('Zero')\n",
        "elif x == 1:\n",
        "    print('Single')\n",
        "else:\n",
        "    print('More')"
      ],
      "execution_count": null,
      "outputs": []
    },
    {
      "cell_type": "markdown",
      "metadata": {
        "id": "-1MBhyRKdG42"
      },
      "source": [
        "### 3-2. for\n",
        "  - 시퀀스 (리스트나 문자열)의 항목들을 그 시퀀스에 들어있는 순서대로 순회하기 위해 사용"
      ]
    },
    {
      "cell_type": "code",
      "metadata": {
        "id": "KhEsXLz1dG43"
      },
      "source": [
        "words = ['cat', 'window', 'defenestrate']"
      ],
      "execution_count": null,
      "outputs": []
    },
    {
      "cell_type": "code",
      "metadata": {
        "id": "bTcBmnQmdG45"
      },
      "source": [
        "for w in words:\n",
        "    print(w, len(w))"
      ],
      "execution_count": null,
      "outputs": []
    },
    {
      "cell_type": "code",
      "metadata": {
        "id": "1oOZzKGudG47"
      },
      "source": [
        "for i, w in enumerate(words):\n",
        "    print(i, w)"
      ],
      "execution_count": null,
      "outputs": []
    },
    {
      "cell_type": "markdown",
      "metadata": {
        "id": "dDOXlgl-dG49"
      },
      "source": [
        "  - 숫자들의 시퀀스로 순회 `range()`사용, `range`는 리스트인 것처럼 동작하나 리스트는 아님 \n",
        "      - ex) `range(start, end, step)`"
      ]
    },
    {
      "cell_type": "code",
      "metadata": {
        "id": "xQT0_AW1dG49"
      },
      "source": [
        "for i in range(5):\n",
        "     print(i)"
      ],
      "execution_count": null,
      "outputs": []
    },
    {
      "cell_type": "code",
      "metadata": {
        "id": "nJQNAjk8dG5A"
      },
      "source": [
        "for i in [0, 1, 2, 3, 4]:\n",
        "    print(i)"
      ],
      "execution_count": null,
      "outputs": []
    },
    {
      "cell_type": "code",
      "metadata": {
        "id": "RCS_vLO5dG5C"
      },
      "source": [
        "print(range(5))"
      ],
      "execution_count": null,
      "outputs": []
    },
    {
      "cell_type": "code",
      "metadata": {
        "id": "hAKWM1b6dG5F"
      },
      "source": [
        "for i in range(0, 10, 3):\n",
        "     print(i)"
      ],
      "execution_count": null,
      "outputs": []
    },
    {
      "cell_type": "markdown",
      "metadata": {
        "id": "tp6F9J3cdG5G"
      },
      "source": [
        "## 4. 함수"
      ]
    },
    {
      "cell_type": "markdown",
      "metadata": {
        "id": "d8W_eu97dG5I"
      },
      "source": [
        "  - `def` 키워드로 함수 정의 시작, 함수 이름과 형식 매개변수 목록이 뒤따름, 함수 바디는 들여쓰기 된 다음줄에서 시작, 반환값은 `return` 다음 값\n",
        "  - 함수에서의 모든 변수 대입들은 값을 지역 심볼 테이블에 저장, 함수안 변수 참조 순서는 지역 심볼 테이블 -> 전역 심볼 테이블 -> 내장 이름 테이블\n",
        "  - 함수 인자: 위치 인자, 기본 인자 값, 키워드 인자값\n",
        "  - 하나이상의 값 `return` 가능 ex) `return a, b` : 반환 값은 `(a,b)`의 튜플 형식 "
      ]
    },
    {
      "cell_type": "code",
      "metadata": {
        "id": "vXsPiHt9dG5I"
      },
      "source": [
        "# 위치 인자 기본 인자\n",
        "def add(a, b=2):\n",
        "    c = a + b\n",
        "    return c"
      ],
      "execution_count": null,
      "outputs": []
    },
    {
      "cell_type": "code",
      "metadata": {
        "id": "-Id12mKJdG5K"
      },
      "source": [
        "print(add(2))"
      ],
      "execution_count": null,
      "outputs": []
    },
    {
      "cell_type": "code",
      "metadata": {
        "id": "M29nQCHPdG5O"
      },
      "source": [
        "print(add(2,4))"
      ],
      "execution_count": null,
      "outputs": []
    },
    {
      "cell_type": "code",
      "metadata": {
        "id": "9xaYZlmAdG5P"
      },
      "source": [
        "print(add(2,b=4))"
      ],
      "execution_count": null,
      "outputs": []
    },
    {
      "cell_type": "markdown",
      "metadata": {
        "id": "e6klAp6CdG5R"
      },
      "source": [
        "## 5. 기타"
      ]
    },
    {
      "cell_type": "markdown",
      "metadata": {
        "id": "t6MPSnnfdG5S"
      },
      "source": [
        "### with 구문\n",
        " - 특별한 컨테스트(리소스)에서 실행함을 나타나는데 사용\n",
        "     - ex) 파일 읽기 쓰기, DB 데이터 조회\n",
        " - 대표적으로 파일이나 소켓과 같은 특정한 리소스에 엑세스 하는 경우 해당 리소스를 열고, 리소스를 회수 반환\n",
        " - with 구문을 활용하면, 특정 블럭내의 동작으로 제한, 블록을 벗어나는 경우 컨텍스트(리소스)가 해제처리를 보장"
      ]
    },
    {
      "cell_type": "code",
      "metadata": {
        "id": "7cGjlemXdG5S"
      },
      "source": [
        "with open(\"x.txt\", 'w') as f:\n",
        "    f.write('Python')"
      ],
      "execution_count": null,
      "outputs": []
    },
    {
      "cell_type": "code",
      "metadata": {
        "id": "HZQN9DNEdG5U"
      },
      "source": [
        "with open(\"x.txt\") as f:\n",
        "    data = f.read()\n",
        "    print(data)"
      ],
      "execution_count": null,
      "outputs": []
    },
    {
      "cell_type": "code",
      "metadata": {
        "id": "VXJatE2vdG5X"
      },
      "source": [
        ""
      ],
      "execution_count": null,
      "outputs": []
    }
  ]
}