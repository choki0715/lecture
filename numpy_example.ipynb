{
  "nbformat": 4,
  "nbformat_minor": 0,
  "metadata": {
    "colab": {
      "name": "numpy_example",
      "provenance": [],
      "toc_visible": true,
      "authorship_tag": "ABX9TyNzcu6T/YfHFVShN2ist0n3",
      "include_colab_link": true
    },
    "kernelspec": {
      "name": "python3",
      "display_name": "Python 3"
    }
  },
  "cells": [
    {
      "cell_type": "markdown",
      "metadata": {
        "id": "view-in-github",
        "colab_type": "text"
      },
      "source": [
        "<a href=\"https://colab.research.google.com/github/choki0715/lecture/blob/master/numpy_example.ipynb\" target=\"_parent\"><img src=\"https://colab.research.google.com/assets/colab-badge.svg\" alt=\"Open In Colab\"/></a>"
      ]
    },
    {
      "cell_type": "markdown",
      "source": [
        "# 넘파이 불러오기 및 넘파이 기본\n"
      ],
      "metadata": {
        "id": "Jug--MHawLdX"
      }
    },
    {
      "cell_type": "code",
      "metadata": {
        "id": "hIMhopxEtoXg",
        "colab": {
          "base_uri": "https://localhost:8080/"
        },
        "outputId": "16bc73a8-9751-42e9-e2dd-5a90735dcfcb"
      },
      "source": [
        "import numpy as np\n",
        "\n",
        "# ndarray basic\n",
        "a = np.array([1, 2, 3])   # Create a rank 1 array\n",
        "print(type(a))            # Prints \"<class 'numpy.ndarray'>\"\n",
        "print(a.shape)            # Prints \"(3,)\"\n",
        "print(a[0], a[1], a[2])   # Prints \"1 2 3\"\n",
        "a[0] = 5                  # Change an element of the array\n",
        "print(a)                  # Prints \"[5, 2, 3]\"\n",
        "\n",
        "b = np.array([[1,2,3],[4,5,6]])    # Create a rank 2 array\n",
        "print(b.shape)                     # Prints \"(2, 3)\"\n",
        "print(b[0, 0], b[0, 1], b[1, 0])   # Prints \"1 2 4\""
      ],
      "execution_count": 1,
      "outputs": [
        {
          "output_type": "stream",
          "name": "stdout",
          "text": [
            "<class 'numpy.ndarray'>\n",
            "(3,)\n",
            "1 2 3\n",
            "[5 2 3]\n",
            "(2, 3)\n",
            "1 2 4\n"
          ]
        }
      ]
    },
    {
      "cell_type": "markdown",
      "source": [
        "# 넘파이 기본자료구조: ndarray"
      ],
      "metadata": {
        "id": "jPAqznBywkWX"
      }
    },
    {
      "cell_type": "code",
      "metadata": {
        "colab": {
          "base_uri": "https://localhost:8080/"
        },
        "id": "e1Bgpk3K0uWh",
        "outputId": "a36ee71e-d5af-4263-aef0-65716635b486"
      },
      "source": [
        "# ndarray 설정\n",
        "\n",
        "a = np.zeros((2,2))   # 모든 요소가 0인 array 만들기\n",
        "print(a)              # Prints \"[[ 0.  0.]\n",
        "                      #          [ 0.  0.]]\"\n",
        "\n",
        "b = np.ones((1,2))    # 모든 요소가 1인 array 만들기\n",
        "print(b)              # Prints \"[[ 1.  1.]]\"\n",
        "\n",
        "c = np.full((2,2), 7)  # 모든 요소가 정의된 숫자로 채워진 array 만들기\n",
        "print(c)               # Prints \"[[ 7.  7.]\n",
        "                       #          [ 7.  7.]]\"\n",
        "\n",
        "d = np.eye(2)         #  2x2 단위 행렬 만들기\n",
        "print(d)              # Prints \"[[ 1.  0.]\n",
        "                      #          [ 0.  1.]]\"\n",
        "\n",
        "e = np.random.random((2,2))  # 임의의 숫자가 채워진 array 만들기\n",
        "print(e)                     # Might print \"[[ 0.91940167  0.08143941]\n",
        "                             #               [ 0.68744134  0.87236687]]\"\n",
        "\n",
        "f = np.empty((3,3)) # garbage 숫자가 채워진 array 만들기\n",
        "print(f)"
      ],
      "execution_count": null,
      "outputs": [
        {
          "output_type": "stream",
          "name": "stdout",
          "text": [
            "[[0. 0.]\n",
            " [0. 0.]]\n",
            "[[1. 1.]]\n",
            "[[7 7]\n",
            " [7 7]]\n",
            "[[1. 0.]\n",
            " [0. 1.]]\n",
            "[[0.81562443 0.5325044 ]\n",
            " [0.83952282 0.97618825]]\n",
            "[[4.68937941e-310 4.68937940e-310 4.68937940e-310]\n",
            " [4.68937940e-310 4.68937940e-310 4.68937940e-310]\n",
            " [0.00000000e+000 0.00000000e+000 0.00000000e+000]]\n"
          ]
        }
      ]
    },
    {
      "cell_type": "markdown",
      "source": [
        "# 인덱싱: 주어진 array에 원하는 요소를 참조하고 대체하기"
      ],
      "metadata": {
        "id": "udofQc07zDeH"
      }
    },
    {
      "cell_type": "code",
      "metadata": {
        "colab": {
          "base_uri": "https://localhost:8080/"
        },
        "id": "Xrvn0LJ-231C",
        "outputId": "6f2525e2-1d59-41c2-cdb1-7de6a2837b15"
      },
      "source": [
        "# indexing\n",
        "\n",
        "a = np.array([[1,2], [3, 4], [5, 6]])\n",
        "\n",
        "# 순서에 따른 내장된 규칙에 따라 인덱싱 (고급)\n",
        "aa = a[[0, 1, 2], [0, 1, 0]]\n",
        "print(aa)  # Prints \"[1 4 5]\"\n",
        "print(aa.shape)\n"
      ],
      "execution_count": 6,
      "outputs": [
        {
          "output_type": "stream",
          "name": "stdout",
          "text": [
            "[1 4 5]\n",
            "(3,)\n"
          ]
        }
      ]
    },
    {
      "cell_type": "code",
      "source": [
        "\n",
        "# 위 인덱싱을 직관적으로 표현\n",
        "aaa = np.array([a[0, 0], a[1, 1], a[2, 0]])\n",
        "print(aaa)  # Prints \"[1 4 5]\"\n",
        "print(aaa.shape)\n"
      ],
      "metadata": {
        "id": "vdWctd7WzvAp",
        "outputId": "242cfc40-4b00-4319-ce1a-c004e193ad0b",
        "colab": {
          "base_uri": "https://localhost:8080/"
        }
      },
      "execution_count": 5,
      "outputs": [
        {
          "output_type": "stream",
          "name": "stdout",
          "text": [
            "[1 4 5]\n",
            "(3,)\n"
          ]
        }
      ]
    },
    {
      "cell_type": "code",
      "metadata": {
        "colab": {
          "base_uri": "https://localhost:8080/"
        },
        "id": "-84tS1Yt6kuc",
        "outputId": "dbd4107d-790e-4b21-c047-bdbdd3205d2b"
      },
      "source": [
        "# Broadcasting\n",
        "\n",
        "import numpy as np\n",
        "\n",
        "# 벡터 v 를 차원이 같은 행렬의 행 또는 열에 더해줄 수 있음\n",
        "\n",
        "x = np.array([[1,2,3], [4,5,6], [7,8,9], [10, 11, 12]])\n",
        "v = np.array([1, 0, 1])\n",
        "y = x + v  # 브로드캐스팅 기능을 이용하여 벡터 v를 x의 각 행에 더해줌\n",
        "print(y)  # Prints \"[[ 2  2  4]\n",
        "          #          [ 5  5  7]\n",
        "          #          [ 8  8 10]\n",
        "          #          [11 11 13]]\"\n",
        "vv = np.array([[1], [1], [1], [1]])\n",
        "\n",
        "yy = x + vv\n",
        "print(yy)"
      ],
      "execution_count": 10,
      "outputs": [
        {
          "output_type": "stream",
          "name": "stdout",
          "text": [
            "[[ 2  2  4]\n",
            " [ 5  5  7]\n",
            " [ 8  8 10]\n",
            " [11 11 13]]\n",
            "[[ 2  3  4]\n",
            " [ 5  6  7]\n",
            " [ 8  9 10]\n",
            " [11 12 13]]\n"
          ]
        }
      ]
    },
    {
      "cell_type": "markdown",
      "source": [
        "# 행렬 요소간 사칙연산: +, -, x, /\n",
        "# 행렬 x 벡터, 행렬 x 행렬 연산: matmul"
      ],
      "metadata": {
        "id": "fQ6jtSng2AyN"
      }
    },
    {
      "cell_type": "code",
      "metadata": {
        "colab": {
          "base_uri": "https://localhost:8080/"
        },
        "id": "e2j19jWM0eG6",
        "outputId": "9714b7be-aa06-4538-b637-b5c4c962ee08"
      },
      "source": [
        "# Math\n",
        "mat1 = np.ones((3,3))\n",
        "print(mat1)"
      ],
      "execution_count": null,
      "outputs": [
        {
          "output_type": "stream",
          "name": "stdout",
          "text": [
            "[[1. 1. 1.]\n",
            " [1. 1. 1.]\n",
            " [1. 1. 1.]]\n"
          ]
        }
      ]
    },
    {
      "cell_type": "code",
      "metadata": {
        "id": "YRysw2RztpzX",
        "colab": {
          "base_uri": "https://localhost:8080/"
        },
        "outputId": "0ab03736-601f-49af-f427-a3afb6fd7893"
      },
      "source": [
        "cnt = 1\n",
        "mat2 = np.zeros((3,3))\n",
        "for i in range(3):\n",
        "  for j in range(3):\n",
        "    mat2[i,j] = mat1[i,j]*cnt\n",
        "    cnt = cnt + 1\n",
        "print(mat2)"
      ],
      "execution_count": null,
      "outputs": [
        {
          "output_type": "stream",
          "name": "stdout",
          "text": [
            "[[1. 2. 3.]\n",
            " [4. 5. 6.]\n",
            " [7. 8. 9.]]\n"
          ]
        }
      ]
    },
    {
      "cell_type": "code",
      "metadata": {
        "id": "fDxqjO0UuMBP",
        "colab": {
          "base_uri": "https://localhost:8080/"
        },
        "outputId": "00ff8b6a-3dc9-4cd6-e0f8-1ca32721aec3"
      },
      "source": [
        "mat3 = (mat1 + mat2) * mat2 - mat1/mat2\n",
        "print(mat3)\n",
        "\n",
        "mat3_1 = np.subtract( np.multiply( np.add(mat1, mat2), mat2), np.divide(mat1,mat2) )\n",
        "print(mat3_1)"
      ],
      "execution_count": null,
      "outputs": [
        {
          "output_type": "stream",
          "name": "stdout",
          "text": [
            "[[ 1.          5.5        11.66666667]\n",
            " [19.75       29.8        41.83333333]\n",
            " [55.85714286 71.875      89.88888889]]\n",
            "[[ 1.          5.5        11.66666667]\n",
            " [19.75       29.8        41.83333333]\n",
            " [55.85714286 71.875      89.88888889]]\n"
          ]
        }
      ]
    },
    {
      "cell_type": "code",
      "metadata": {
        "id": "s6VY6DHTulaK",
        "colab": {
          "base_uri": "https://localhost:8080/"
        },
        "outputId": "ebac6c65-25bc-4f9d-9ec8-0db1041c7d12"
      },
      "source": [
        "mat4 = np.dot(mat2, mat3)\n",
        "print(mat4)"
      ],
      "execution_count": null,
      "outputs": [
        {
          "output_type": "stream",
          "name": "stdout",
          "text": [
            "[[ 208.07142857  280.725       365.        ]\n",
            " [ 437.89285714  602.25        795.16666667]\n",
            " [ 667.71428571  923.775      1225.33333333]]\n"
          ]
        }
      ]
    },
    {
      "cell_type": "code",
      "metadata": {
        "id": "e1_tVJ7nurcL",
        "colab": {
          "base_uri": "https://localhost:8080/"
        },
        "outputId": "7a0ed2bd-2973-4407-c69d-2020c2538aa5"
      },
      "source": [
        "mat5 = np.matmul(mat2, mat3)\n",
        "print(mat5)"
      ],
      "execution_count": null,
      "outputs": [
        {
          "output_type": "stream",
          "name": "stdout",
          "text": [
            "[[ 208.07142857  280.725       365.        ]\n",
            " [ 437.89285714  602.25        795.16666667]\n",
            " [ 667.71428571  923.775      1225.33333333]]\n"
          ]
        }
      ]
    },
    {
      "cell_type": "code",
      "metadata": {
        "id": "1LgST1Hr1BPF",
        "colab": {
          "base_uri": "https://localhost:8080/"
        },
        "outputId": "408b11f7-8391-4034-b92d-d45693b9c26d"
      },
      "source": [
        "vec = np.array([1,2,3])\n",
        "print(vec)"
      ],
      "execution_count": null,
      "outputs": [
        {
          "output_type": "stream",
          "name": "stdout",
          "text": [
            "[1 2 3]\n"
          ]
        }
      ]
    },
    {
      "cell_type": "code",
      "metadata": {
        "id": "uADGpgcw1wLD",
        "colab": {
          "base_uri": "https://localhost:8080/"
        },
        "outputId": "df058aa5-bc94-45e8-8e20-7938f7a3757b"
      },
      "source": [
        "mat6 = np.dot(mat2, vec)\n",
        "print(mat6)"
      ],
      "execution_count": null,
      "outputs": [
        {
          "output_type": "stream",
          "name": "stdout",
          "text": [
            "[14. 32. 50.]\n"
          ]
        }
      ]
    },
    {
      "cell_type": "code",
      "metadata": {
        "id": "nkUL0Rcw16oR",
        "colab": {
          "base_uri": "https://localhost:8080/"
        },
        "outputId": "b288c69f-9097-4eab-f64a-876b1917cc7f"
      },
      "source": [
        "mat7 = np.matmul(mat2, vec)\n",
        "print(mat7)"
      ],
      "execution_count": null,
      "outputs": [
        {
          "output_type": "stream",
          "name": "stdout",
          "text": [
            "[14. 32. 50.]\n"
          ]
        }
      ]
    },
    {
      "cell_type": "code",
      "metadata": {
        "id": "s_m33map2tXP"
      },
      "source": [],
      "execution_count": null,
      "outputs": []
    }
  ]
}