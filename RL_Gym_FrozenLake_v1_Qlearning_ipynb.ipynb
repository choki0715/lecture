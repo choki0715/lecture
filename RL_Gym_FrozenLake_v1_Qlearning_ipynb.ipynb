{
  "nbformat": 4,
  "nbformat_minor": 0,
  "metadata": {
    "kernelspec": {
      "display_name": "Python 3",
      "language": "python",
      "name": "python3"
    },
    "language_info": {
      "codemirror_mode": {
        "name": "ipython",
        "version": 3
      },
      "file_extension": ".py",
      "mimetype": "text/x-python",
      "name": "python",
      "nbconvert_exporter": "python",
      "pygments_lexer": "ipython3",
      "version": "3.7.3"
    },
    "colab": {
      "name": "RL_Gym_FrozenLake_Qlearning.ipynb의 사본",
      "provenance": [],
      "include_colab_link": true
    }
  },
  "cells": [
    {
      "cell_type": "markdown",
      "metadata": {
        "id": "view-in-github",
        "colab_type": "text"
      },
      "source": [
        "<a href=\"https://colab.research.google.com/github/choki0715/lecture/blob/master/RL_Gym_FrozenLake_v1_Qlearning_ipynb.ipynb\" target=\"_parent\"><img src=\"https://colab.research.google.com/assets/colab-badge.svg\" alt=\"Open In Colab\"/></a>"
      ]
    },
    {
      "cell_type": "markdown",
      "metadata": {
        "id": "mLvBREauH5Y5"
      },
      "source": [
        "# Frozen Lake 강화학습 연습"
      ]
    },
    {
      "cell_type": "markdown",
      "metadata": {
        "id": "6fw_9WoQH5Zi"
      },
      "source": [
        "<img src=\"https://github.com/aidentify/lecture/blob/master/study2/2_RL/img/frozenlake_env.png?raw=1\" width=\"700\">"
      ]
    },
    {
      "cell_type": "markdown",
      "metadata": {
        "id": "c9znpsCJH5Zk"
      },
      "source": [
        "## 필요한 모듈 import\n",
        "* gym (가상환경을 제공)\n",
        "* numpy (텐서 연산)\n",
        "* matplotlib (결과 그래프 출력)"
      ]
    },
    {
      "cell_type": "code",
      "metadata": {
        "id": "cBY4hzL4H5Zm"
      },
      "source": [
        "import gymnasium as gym\n",
        "import numpy as np\n",
        "import matplotlib.pyplot as plt\n"
      ],
      "execution_count": 7,
      "outputs": []
    },
    {
      "cell_type": "code",
      "source": [
        "pip install gym[toy_text]"
      ],
      "metadata": {
        "id": "6ek_8XuyWZBV",
        "outputId": "93ce12d5-a7f9-4ae4-ca21-e11846970456",
        "colab": {
          "base_uri": "https://localhost:8080/"
        }
      },
      "execution_count": null,
      "outputs": [
        {
          "output_type": "stream",
          "name": "stdout",
          "text": [
            "Looking in indexes: https://pypi.org/simple, https://us-python.pkg.dev/colab-wheels/public/simple/\n",
            "Requirement already satisfied: gym[toy_text] in /usr/local/lib/python3.8/dist-packages (0.25.2)\n",
            "Requirement already satisfied: gym-notices>=0.0.4 in /usr/local/lib/python3.8/dist-packages (from gym[toy_text]) (0.0.8)\n",
            "Requirement already satisfied: importlib-metadata>=4.8.0 in /usr/local/lib/python3.8/dist-packages (from gym[toy_text]) (5.1.0)\n",
            "Requirement already satisfied: numpy>=1.18.0 in /usr/local/lib/python3.8/dist-packages (from gym[toy_text]) (1.21.6)\n",
            "Requirement already satisfied: cloudpickle>=1.2.0 in /usr/local/lib/python3.8/dist-packages (from gym[toy_text]) (1.5.0)\n",
            "Collecting pygame==2.1.0\n",
            "  Downloading pygame-2.1.0-cp38-cp38-manylinux_2_17_x86_64.manylinux2014_x86_64.whl (18.3 MB)\n",
            "\u001b[K     |████████████████████████████████| 18.3 MB 68.9 MB/s \n",
            "\u001b[?25hRequirement already satisfied: zipp>=0.5 in /usr/local/lib/python3.8/dist-packages (from importlib-metadata>=4.8.0->gym[toy_text]) (3.11.0)\n",
            "Installing collected packages: pygame\n",
            "Successfully installed pygame-2.1.0\n"
          ]
        }
      ]
    },
    {
      "cell_type": "markdown",
      "metadata": {
        "id": "Yen8Zl0LH5Z2"
      },
      "source": [
        "## 가상환경 설정 및 hyper parameter 정의\n",
        "* gym.make를 이용하여 등록된 'FrozenLake-v0' 환경을 env로 정의, is_slippery=True $\\rightarrow$ Transition Prob = 1.0\n",
        "* learning rate (학습률)\n",
        "* dis (감쇄계수)\n",
        "* num_episodes(전체 반복 학습)\n",
        "* env.render(): 설정한 가상환경을 보고싶을 때, S: Start, F: Frozen, H: Hole, G: Goal, 붉은 박스: 현재 위치"
      ]
    },
    {
      "cell_type": "code",
      "metadata": {
        "id": "z5R_ygFVH5Z3"
      },
      "source": [
        "#env = gym.make('FrozenLake-v0', is_slippery=False)\n",
        "env = gym.make('FrozenLake-v1')\n",
        "\n",
        "import os\n",
        "os.environ[\"SDL_VIDEODRIVER\"] = \"dummy\"\n",
        "\n",
        "learning_rate = 0.8\n",
        "dis = .95\n",
        "num_episodes = 2000\n",
        "\n",
        "env.reset()\n",
        "env.render()"
      ],
      "execution_count": 11,
      "outputs": []
    },
    {
      "cell_type": "markdown",
      "metadata": {
        "id": "MSWlgfQxH5aC"
      },
      "source": [
        "## 펭수가 학습할 가상환경 관찰\n",
        "* info = 상태전이 확률 (if slippery = true, then prob = 0.333333)\n",
        "* env.render(): 설정한 가상환경을 보고싶을 때, S: Start, F: Frozen, H: Hole, G: Goal, 붉은 박스: 현재 위치"
      ]
    },
    {
      "cell_type": "code",
      "metadata": {
        "id": "7Wb6O710H5ak"
      },
      "source": [
        "\n",
        "# Loop for 10 steps\n",
        "for i in range(10):\n",
        "    random_action = env.action_space.sample()\n",
        "    new_state, reward, terminated, truncated, info = env.step(random_action)\n",
        "    done = terminated or truncated  # 종료 여부 결합\n",
        "    env.render()\n"
      ],
      "execution_count": 13,
      "outputs": []
    },
    {
      "cell_type": "markdown",
      "metadata": {
        "id": "v3V5YCY5H5aw"
      },
      "source": [
        "## Q-Table 및 보상값 리스트 정의\n",
        "* Q = Q-Table [num_states, num_actions]"
      ]
    },
    {
      "cell_type": "code",
      "metadata": {
        "id": "FZalfqntH5ax",
        "colab": {
          "base_uri": "https://localhost:8080/"
        },
        "outputId": "f92e0fea-3c83-42de-960c-c21e03785e11"
      },
      "source": [
        "Q = np.zeros([env.observation_space.n, env.action_space.n])\n",
        "rList = []\n",
        "\n",
        "print(\"number of states: \", env.observation_space.n)\n",
        "print(\"number of actions: \", env.action_space.n)"
      ],
      "execution_count": 14,
      "outputs": [
        {
          "output_type": "stream",
          "name": "stdout",
          "text": [
            "number of states:  16\n",
            "number of actions:  4\n"
          ]
        }
      ]
    },
    {
      "cell_type": "markdown",
      "metadata": {
        "id": "R2LwfZn3H5a4"
      },
      "source": [
        "## 학습 시작\n",
        "* num_episodes 만큼 반복\n",
        "* 한번 에피소드 당 99번 반복하거나 terminal state (Hole, Goal)에 도착하면 다음 에피소드로\n",
        "*  $\\epsilon$ - greedy를 적용하여  $\\epsilon$ = 1/(n+1) 확률 만큼 maxQ(s,a)가 아닌 액션을 취함 (이때 n은 100번 에피소스마다 1씩 증가)"
      ]
    },
    {
      "cell_type": "code",
      "metadata": {
        "id": "KUJmAfskH5a6"
      },
      "source": [
        "\n",
        "for i in range(num_episodes):\n",
        "    # reset은 (obs, info)\n",
        "    state, _ = env.reset()\n",
        "    state = int(state)  # 안전하게 정수 캐스팅\n",
        "    rAll = 0.0\n",
        "    e = 1.0 / ((i // 100) + 1)  # decaying ε-greedy\n",
        "\n",
        "    for j in range(99):\n",
        "        # ε-greedy\n",
        "        if np.random.rand() < e:\n",
        "            action = env.action_space.sample()\n",
        "        else:\n",
        "            action = int(np.argmax(Q[state, :]))\n",
        "\n",
        "        # step은 5개 반환\n",
        "        new_state, reward, terminated, truncated, _ = env.step(action)\n",
        "        done = terminated or truncated\n",
        "\n",
        "        new_state = int(new_state)\n",
        "\n",
        "        # Q-learning 업데이트\n",
        "        Q[state, action] += learning_rate * (\n",
        "            reward + dis * np.max(Q[new_state, :]) - Q[state, action]\n",
        "        )\n",
        "\n",
        "        rAll += reward\n",
        "        state = new_state\n",
        "\n",
        "        if done:\n",
        "            break\n",
        "\n",
        "    rList.append(rAll)"
      ],
      "execution_count": 16,
      "outputs": []
    },
    {
      "cell_type": "code",
      "metadata": {
        "id": "1KIIdYDxH5bB",
        "colab": {
          "base_uri": "https://localhost:8080/",
          "height": 757
        },
        "outputId": "4bbcda73-1b6e-4e0b-ee2c-51b262772631"
      },
      "source": [
        "print('성공율: ', str(sum(rList)/num_episodes))\n",
        "print('Q-table')\n",
        "print(Q)\n",
        "plt.bar(range(len(rList)), rList, color = 'blue')\n",
        "plt.show()"
      ],
      "execution_count": 17,
      "outputs": [
        {
          "output_type": "stream",
          "name": "stdout",
          "text": [
            "성공율:  0.152\n",
            "Q-table\n",
            "[[1.35329319e-01 8.49141426e-02 8.99206502e-02 1.38380674e-01]\n",
            " [2.30815045e-03 1.44957929e-02 3.88910323e-03 5.57896602e-02]\n",
            " [5.29656267e-02 2.07889013e-02 6.31860378e-02 5.13277604e-02]\n",
            " [3.86510642e-03 1.20507657e-02 8.84521380e-03 4.29823965e-02]\n",
            " [4.13016661e-01 8.20571088e-02 2.79252845e-03 1.46538401e-01]\n",
            " [0.00000000e+00 0.00000000e+00 0.00000000e+00 0.00000000e+00]\n",
            " [1.37745099e-02 9.76358418e-07 4.65509653e-03 2.74315484e-06]\n",
            " [0.00000000e+00 0.00000000e+00 0.00000000e+00 0.00000000e+00]\n",
            " [9.03747971e-03 1.00384814e-02 6.13531030e-02 5.76234119e-01]\n",
            " [2.12492631e-03 5.58519237e-01 3.36195748e-01 3.86617324e-02]\n",
            " [1.06788545e-01 1.47058535e-01 1.19099589e-03 5.46668994e-01]\n",
            " [0.00000000e+00 0.00000000e+00 0.00000000e+00 0.00000000e+00]\n",
            " [0.00000000e+00 0.00000000e+00 0.00000000e+00 0.00000000e+00]\n",
            " [5.42225243e-03 5.21845487e-03 7.68225031e-01 1.05647482e-01]\n",
            " [1.63410640e-01 7.44613453e-01 2.71624667e-01 9.49612541e-01]\n",
            " [0.00000000e+00 0.00000000e+00 0.00000000e+00 0.00000000e+00]]\n"
          ]
        },
        {
          "output_type": "display_data",
          "data": {
            "text/plain": [
              "<Figure size 640x480 with 1 Axes>"
            ],
            "image/png": "[encoded data removed]"
          },
          "metadata": {}
        }
      ]
    },
    {
      "cell_type": "code",
      "metadata": {
        "id": "WwVNF-swH5bU"
      },
      "source": [
        ""
      ],
      "execution_count": null,
      "outputs": []
    }
  ]
}