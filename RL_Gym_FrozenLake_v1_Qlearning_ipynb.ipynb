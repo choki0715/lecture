{
  "nbformat": 4,
  "nbformat_minor": 0,
  "metadata": {
    "kernelspec": {
      "display_name": "Python 3",
      "language": "python",
      "name": "python3"
    },
    "language_info": {
      "codemirror_mode": {
        "name": "ipython",
        "version": 3
      },
      "file_extension": ".py",
      "mimetype": "text/x-python",
      "name": "python",
      "nbconvert_exporter": "python",
      "pygments_lexer": "ipython3",
      "version": "3.7.3"
    },
    "colab": {
      "name": "RL_Gym_FrozenLake_Qlearning.ipynb의 사본",
      "provenance": [],
      "include_colab_link": true
    }
  },
  "cells": [
    {
      "cell_type": "markdown",
      "metadata": {
        "id": "view-in-github",
        "colab_type": "text"
      },
      "source": [
        "<a href=\"https://colab.research.google.com/github/choki0715/lecture/blob/master/RL_Gym_FrozenLake_v1_Qlearning_ipynb.ipynb\" target=\"_parent\"><img src=\"https://colab.research.google.com/assets/colab-badge.svg\" alt=\"Open In Colab\"/></a>"
      ]
    },
    {
      "cell_type": "markdown",
      "metadata": {
        "id": "mLvBREauH5Y5"
      },
      "source": [
        "# Frozen Lake 강화학습 연습"
      ]
    },
    {
      "cell_type": "markdown",
      "metadata": {
        "id": "6fw_9WoQH5Zi"
      },
      "source": [
        "<img src=\"https://github.com/aidentify/lecture/blob/master/study2/2_RL/img/frozenlake_env.png?raw=1\" width=\"700\">"
      ]
    },
    {
      "cell_type": "markdown",
      "metadata": {
        "id": "c9znpsCJH5Zk"
      },
      "source": [
        "## 필요한 모듈 import\n",
        "* gym (가상환경을 제공) \n",
        "* numpy (텐서 연산)\n",
        "* matplotlib (결과 그래프 출력)"
      ]
    },
    {
      "cell_type": "code",
      "metadata": {
        "id": "cBY4hzL4H5Zm"
      },
      "source": [
        "import gym\n",
        "import numpy as np\n",
        "import matplotlib.pyplot as plt "
      ],
      "execution_count": 1,
      "outputs": []
    },
    {
      "cell_type": "code",
      "source": [
        "pip install gym[toy_text]"
      ],
      "metadata": {
        "id": "6ek_8XuyWZBV",
        "outputId": "93ce12d5-a7f9-4ae4-ca21-e11846970456",
        "colab": {
          "base_uri": "https://localhost:8080/"
        }
      },
      "execution_count": 2,
      "outputs": [
        {
          "output_type": "stream",
          "name": "stdout",
          "text": [
            "Looking in indexes: https://pypi.org/simple, https://us-python.pkg.dev/colab-wheels/public/simple/\n",
            "Requirement already satisfied: gym[toy_text] in /usr/local/lib/python3.8/dist-packages (0.25.2)\n",
            "Requirement already satisfied: gym-notices>=0.0.4 in /usr/local/lib/python3.8/dist-packages (from gym[toy_text]) (0.0.8)\n",
            "Requirement already satisfied: importlib-metadata>=4.8.0 in /usr/local/lib/python3.8/dist-packages (from gym[toy_text]) (5.1.0)\n",
            "Requirement already satisfied: numpy>=1.18.0 in /usr/local/lib/python3.8/dist-packages (from gym[toy_text]) (1.21.6)\n",
            "Requirement already satisfied: cloudpickle>=1.2.0 in /usr/local/lib/python3.8/dist-packages (from gym[toy_text]) (1.5.0)\n",
            "Collecting pygame==2.1.0\n",
            "  Downloading pygame-2.1.0-cp38-cp38-manylinux_2_17_x86_64.manylinux2014_x86_64.whl (18.3 MB)\n",
            "\u001b[K     |████████████████████████████████| 18.3 MB 68.9 MB/s \n",
            "\u001b[?25hRequirement already satisfied: zipp>=0.5 in /usr/local/lib/python3.8/dist-packages (from importlib-metadata>=4.8.0->gym[toy_text]) (3.11.0)\n",
            "Installing collected packages: pygame\n",
            "Successfully installed pygame-2.1.0\n"
          ]
        }
      ]
    },
    {
      "cell_type": "markdown",
      "metadata": {
        "id": "Yen8Zl0LH5Z2"
      },
      "source": [
        "## 가상환경 설정 및 hyper parameter 정의\n",
        "* gym.make를 이용하여 등록된 'FrozenLake-v0' 환경을 env로 정의, is_slippery=True $\\rightarrow$ Transition Prob = 1.0\n",
        "* learning rate (학습률)\n",
        "* dis (감쇄계수)\n",
        "* num_episodes(전체 반복 학습)\n",
        "* env.render(): 설정한 가상환경을 보고싶을 때, S: Start, F: Frozen, H: Hole, G: Goal, 붉은 박스: 현재 위치"
      ]
    },
    {
      "cell_type": "code",
      "metadata": {
        "id": "z5R_ygFVH5Z3",
        "outputId": "dbe36e1c-5071-423d-a6a5-a0bfba3728b2",
        "colab": {
          "base_uri": "https://localhost:8080/"
        }
      },
      "source": [
        "#env = gym.make('FrozenLake-v0', is_slippery=False)\n",
        "env = gym.make('FrozenLake-v1', is_slippery=False)\n",
        "\n",
        "import os\n",
        "os.environ[\"SDL_VIDEODRIVER\"] = \"dummy\"\n",
        "\n",
        "learning_rate = 0.8\n",
        "dis = .95\n",
        "num_episodes = 2000\n",
        "\n",
        "env.reset()\n",
        "env.render()"
      ],
      "execution_count": 3,
      "outputs": [
        {
          "output_type": "stream",
          "name": "stderr",
          "text": [
            "/usr/local/lib/python3.8/dist-packages/gym/core.py:317: DeprecationWarning: \u001b[33mWARN: Initializing wrapper in old step API which returns one bool instead of two. It is recommended to set `new_step_api=True` to use new step API. This will be the default behaviour in future.\u001b[0m\n",
            "  deprecation(\n",
            "/usr/local/lib/python3.8/dist-packages/gym/wrappers/step_api_compatibility.py:39: DeprecationWarning: \u001b[33mWARN: Initializing environment in old step API which returns one bool instead of two. It is recommended to set `new_step_api=True` to use new step API. This will be the default behaviour in future.\u001b[0m\n",
            "  deprecation(\n",
            "/usr/local/lib/python3.8/dist-packages/gym/core.py:49: DeprecationWarning: \u001b[33mWARN: You are calling render method, but you didn't specified the argument render_mode at environment initialization. To maintain backward compatibility, the environment will render in human mode.\n",
            "If you want to render in human mode, initialize the environment in this way: gym.make('EnvName', render_mode='human') and don't call the render method.\n",
            "See here for more information: https://www.gymlibrary.ml/content/api/\u001b[0m\n",
            "  deprecation(\n"
          ]
        }
      ]
    },
    {
      "cell_type": "markdown",
      "metadata": {
        "id": "MSWlgfQxH5aC"
      },
      "source": [
        "## 펭수가 학습할 가상환경 관찰\n",
        "* info = 상태전이 확률 (if slippery = true, then prob = 0.333333)\n",
        "* env.render(): 설정한 가상환경을 보고싶을 때, S: Start, F: Frozen, H: Hole, G: Goal, 붉은 박스: 현재 위치"
      ]
    },
    {
      "cell_type": "code",
      "metadata": {
        "id": "7Wb6O710H5ak",
        "colab": {
          "base_uri": "https://localhost:8080/"
        },
        "outputId": "d406e1fc-ba8d-4361-c339-9eabfb5a1ba9"
      },
      "source": [
        "env.reset()\n",
        "for i in range(10):\n",
        "    random_action = env.action_space.sample()\n",
        "    new_state, reward, done, info = env.step(random_action)\n",
        "    env.render()\n",
        "    print(new_state, reward, done,  info)\n",
        "    if done:\n",
        "      break"
      ],
      "execution_count": 10,
      "outputs": [
        {
          "output_type": "stream",
          "name": "stdout",
          "text": [
            "0 0.0 False {'prob': 1.0}\n",
            "1 0.0 False {'prob': 1.0}\n",
            "0 0.0 False {'prob': 1.0}\n",
            "0 0.0 False {'prob': 1.0}\n",
            "1 0.0 False {'prob': 1.0}\n",
            "2 0.0 False {'prob': 1.0}\n",
            "2 0.0 False {'prob': 1.0}\n",
            "3 0.0 False {'prob': 1.0}\n",
            "3 0.0 False {'prob': 1.0}\n",
            "3 0.0 False {'prob': 1.0}\n"
          ]
        }
      ]
    },
    {
      "cell_type": "markdown",
      "metadata": {
        "id": "v3V5YCY5H5aw"
      },
      "source": [
        "## Q-Table 및 보상값 리스트 정의\n",
        "* Q = Q-Table [num_states, num_actions]"
      ]
    },
    {
      "cell_type": "code",
      "metadata": {
        "id": "FZalfqntH5ax",
        "colab": {
          "base_uri": "https://localhost:8080/"
        },
        "outputId": "9954958d-b6ff-4690-a606-b11f0faa0788"
      },
      "source": [
        "Q = np.zeros([env.observation_space.n, env.action_space.n])\n",
        "rList = []\n",
        "\n",
        "print(\"number of states: \", env.observation_space.n)\n",
        "print(\"number of actions: \", env.action_space.n)"
      ],
      "execution_count": 11,
      "outputs": [
        {
          "output_type": "stream",
          "name": "stdout",
          "text": [
            "number of states:  16\n",
            "number of actions:  4\n"
          ]
        }
      ]
    },
    {
      "cell_type": "markdown",
      "metadata": {
        "id": "R2LwfZn3H5a4"
      },
      "source": [
        "## 학습 시작\n",
        "* num_episodes 만큼 반복\n",
        "* 한번 에피소드 당 99번 반복하거나 terminal state (Hole, Goal)에 도착하면 다음 에피소드로\n",
        "*  $\\epsilon$ - greedy를 적용하여  $\\epsilon$ = 1/(n+1) 확률 만큼 maxQ(s,a)가 아닌 액션을 취함 (이때 n은 100번 에피소스마다 1씩 증가)"
      ]
    },
    {
      "cell_type": "code",
      "metadata": {
        "id": "KUJmAfskH5a6"
      },
      "source": [
        "for i in range(num_episodes):\n",
        "    \n",
        "    # env 리셋\n",
        "    state = env.reset()\n",
        "    rAll = 0\n",
        "    done = False\n",
        "    \n",
        "    e = 1./((i//100)+1) # decaying E-greedy\n",
        "    \n",
        "    j = 0\n",
        "    \n",
        "    # 99번 반복하거나 terminal state (Hole, Goal) 도착\n",
        "    while j < 99:\n",
        "        \n",
        "        j += 1\n",
        "        \n",
        "        # egreedy에 의한 행동 설정\n",
        "        if np.random.rand(1) < e:\n",
        "            action = env.action_space.sample()\n",
        "        else:\n",
        "            action = np.argmax(Q[state, :])\n",
        "\n",
        "        # new_state, reward 업데이트 \n",
        "        new_state, reward, done, _ = env.step(action)\n",
        "        \n",
        "        # 업데이트 Q-table (상태, 행동)\n",
        "        Q[state, action] += learning_rate*( reward + dis*np.max(Q[new_state, :]) - Q[state, action] )\n",
        "        \n",
        "        rAll += reward\n",
        "        state = new_state\n",
        "\n",
        "        if done == True:\n",
        "            break\n",
        "        \n",
        "    rList.append(rAll)"
      ],
      "execution_count": 12,
      "outputs": []
    },
    {
      "cell_type": "code",
      "metadata": {
        "id": "1KIIdYDxH5bB",
        "colab": {
          "base_uri": "https://localhost:8080/",
          "height": 601
        },
        "outputId": "1d0ac27e-b98c-413c-c283-e7db64075362"
      },
      "source": [
        "print('성공율: ', str(sum(rList)/num_episodes))\n",
        "print('Q-table')\n",
        "print(Q)\n",
        "plt.bar(range(len(rList)), rList, color = 'blue')\n",
        "plt.show()"
      ],
      "execution_count": 13,
      "outputs": [
        {
          "output_type": "stream",
          "name": "stdout",
          "text": [
            "성공율:  0.7925\n",
            "Q-table\n",
            "[[0.73509189 0.77378094 0.6983373  0.73509189]\n",
            " [0.73509189 0.         0.64016809 0.69833717]\n",
            " [0.67040099 0.850516   0.         0.        ]\n",
            " [0.         0.         0.         0.        ]\n",
            " [0.77378094 0.81450625 0.         0.73509189]\n",
            " [0.         0.         0.         0.        ]\n",
            " [0.         0.9025     0.         0.6255408 ]\n",
            " [0.         0.         0.         0.        ]\n",
            " [0.81450625 0.         0.857375   0.77378094]\n",
            " [0.81450625 0.90249998 0.9025     0.        ]\n",
            " [0.857375   0.95       0.         0.857375  ]\n",
            " [0.         0.         0.         0.        ]\n",
            " [0.         0.         0.         0.        ]\n",
            " [0.         0.81449548 0.95       0.857375  ]\n",
            " [0.9025     0.95       1.         0.9025    ]\n",
            " [0.         0.         0.         0.        ]]\n"
          ]
        },
        {
          "output_type": "display_data",
          "data": {
            "text/plain": [
              "<Figure size 432x288 with 1 Axes>"
            ],
            "image/png": "[encoded data removed]"
          },
          "metadata": {
            "needs_background": "light"
          }
        }
      ]
    },
    {
      "cell_type": "code",
      "metadata": {
        "id": "WwVNF-swH5bU"
      },
      "source": [
        " "
      ],
      "execution_count": null,
      "outputs": []
    }
  ]
}