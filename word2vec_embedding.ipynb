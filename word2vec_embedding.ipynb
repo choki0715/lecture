{
  "nbformat": 4,
  "nbformat_minor": 0,
  "metadata": {
    "colab": {
      "provenance": [],
      "mount_file_id": "1CSRGBykXG6xxHvnqwcr6uzYKSH0t-xi2",
      "authorship_tag": "ABX9TyN1EiqH1rH41HKUc98/euvI",
      "include_colab_link": true
    },
    "kernelspec": {
      "name": "python3",
      "display_name": "Python 3"
    },
    "language_info": {
      "name": "python"
    }
  },
  "cells": [
    {
      "cell_type": "markdown",
      "metadata": {
        "id": "view-in-github",
        "colab_type": "text"
      },
      "source": [
        "<a href=\"https://colab.research.google.com/github/choki0715/lecture/blob/master/word2vec_embedding.ipynb\" target=\"_parent\"><img src=\"https://colab.research.google.com/assets/colab-badge.svg\" alt=\"Open In Colab\"/></a>"
      ]
    },
    {
      "cell_type": "code",
      "execution_count": 173,
      "metadata": {
        "colab": {
          "base_uri": "https://localhost:8080/"
        },
        "id": "giqO4FlXpnCE",
        "outputId": "c0a94c3b-7f75-494b-f079-1d3ff19e32a0"
      },
      "outputs": [
        {
          "output_type": "stream",
          "name": "stdout",
          "text": [
            "[['이', '강아지는', '털', '색깔이', '갈색이다'], ['나는', '갈색', '강아지를', '좋아한다'], ['푸들은', '갈색', '털이', '많다'], ['갈색', '털을', '가진', '푸들', '강아지'], ['푸들은', '털이', '빠지지', '않아', '자주', '미용을', '해야', ' 한다'], ['갈색', '털이', '있는', '강아지가', '꼬리를', '친다'], ['쵸키는', '내가', '키우는', '강아지다']]\n"
          ]
        }
      ],
      "source": [
        "import gensim\n",
        "from gensim.models.word2vec import Word2Vec\n",
        "\n",
        "sentences = [\n",
        "                ['이', '강아지는', '털',  '색깔이', '갈색이다'],\n",
        "                ['나는',   '갈색', '강아지를',   '좋아한다'],\n",
        "                ['푸들은',   '갈색', '털이',   '많다'],\n",
        "                ['갈색',   '털을', '가진',  '푸들', '강아지'],\n",
        "                ['푸들은',   '털이', '빠지지',   '않아', '자주', '미용을', '해야',' 한다'],\n",
        "                ['갈색', '털이',  '있는', '강아지가', '꼬리를', '친다'],\n",
        "                ['쵸키는', '내가', '키우는', '강아지다']\n",
        "            ]\n",
        "\n",
        "print(sentences)"
      ]
    },
    {
      "cell_type": "code",
      "source": [
        "# 주어진 sentences를 가지고 학습하기\n",
        "model = Word2Vec(sentences=sentences, min_count = 1, vector_size=10, window=2)\n",
        "print(model)\n",
        "\n",
        "# 토큰의 벡터 크기\n",
        "model.wv.vectors.shape"
      ],
      "metadata": {
        "colab": {
          "base_uri": "https://localhost:8080/"
        },
        "id": "YfuyD2eOC66U",
        "outputId": "dc2f0f86-0d2e-4500-d577-164b9d10c980"
      },
      "execution_count": 175,
      "outputs": [
        {
          "output_type": "stream",
          "name": "stdout",
          "text": [
            "Word2Vec<vocab=30, vector_size=10, alpha=0.025>\n"
          ]
        },
        {
          "output_type": "execute_result",
          "data": {
            "text/plain": [
              "(30, 10)"
            ]
          },
          "metadata": {},
          "execution_count": 175
        }
      ]
    },
    {
      "cell_type": "code",
      "source": [
        "# vocab 알아보기\n",
        "vocab = model.wv.index_to_key\n",
        "print(vocab)\n",
        "print(len(vocab))"
      ],
      "metadata": {
        "colab": {
          "base_uri": "https://localhost:8080/"
        },
        "id": "uruTDdk_eJcH",
        "outputId": "5bc89ce8-6b8f-4cd0-cc72-e0de01b70455"
      },
      "execution_count": 177,
      "outputs": [
        {
          "output_type": "stream",
          "name": "stdout",
          "text": [
            "['갈색', '털이', '푸들은', '강아지다', '키우는', '강아지는', '털', '색깔이', '갈색이다', '나는', '강아지를', '좋아한다', '많다', '털을', '가진', '푸들', '강아지', '빠지지', '않아', '자주', '미용을', '해야', ' 한다', '있는', '강아지가', '꼬리를', '친다', '쵸키는', '내가', '이']\n",
            "30\n"
          ]
        }
      ]
    },
    {
      "cell_type": "code",
      "source": [
        "# 유사도 알아보기\n",
        "model.wv.most_similar('푸들')"
      ],
      "metadata": {
        "colab": {
          "base_uri": "https://localhost:8080/"
        },
        "id": "qWFBC_bodA4c",
        "outputId": "8929e309-5539-4beb-c841-ad63c2cd365e"
      },
      "execution_count": 178,
      "outputs": [
        {
          "output_type": "execute_result",
          "data": {
            "text/plain": [
              "[('친다', 0.7504963874816895),\n",
              " ('좋아한다', 0.7188059687614441),\n",
              " ('가진', 0.7050309181213379),\n",
              " ('털을', 0.6703228950500488),\n",
              " ('쵸키는', 0.5290866494178772),\n",
              " ('있는', 0.35353243350982666),\n",
              " ('자주', 0.30509501695632935),\n",
              " ('갈색이다', 0.2806866466999054),\n",
              " ('많다', 0.2143586426973343),\n",
              " ('미용을', 0.17104321718215942)]"
            ]
          },
          "metadata": {},
          "execution_count": 178
        }
      ]
    },
    {
      "cell_type": "code",
      "source": [
        "model.wv.most_similar('푸들', topn=5)\n"
      ],
      "metadata": {
        "colab": {
          "base_uri": "https://localhost:8080/"
        },
        "id": "pmrEK39Ku04Q",
        "outputId": "28e5f128-ba6f-4378-c0b8-6b4c2243d9b3"
      },
      "execution_count": 183,
      "outputs": [
        {
          "output_type": "execute_result",
          "data": {
            "text/plain": [
              "[('내가', 0.4965631067752838),\n",
              " ('강아지는', 0.4420135021209717),\n",
              " ('강아지가', 0.3431648910045624),\n",
              " ('않아', 0.33750152587890625),\n",
              " ('갈색', 0.29886382818222046)]"
            ]
          },
          "metadata": {},
          "execution_count": 183
        }
      ]
    },
    {
      "cell_type": "code",
      "source": [
        "model.wv.most_similar('프돌', topn=5)"
      ],
      "metadata": {
        "colab": {
          "base_uri": "https://localhost:8080/"
        },
        "id": "WnlJWUz6gXr5",
        "outputId": "424fb684-2e7a-4870-9a5c-f37e72ecdb69"
      },
      "execution_count": 188,
      "outputs": [
        {
          "output_type": "execute_result",
          "data": {
            "text/plain": [
              "[('강아지는', 0.5810441374778748),\n",
              " ('친다', 0.3380281925201416),\n",
              " ('내가', 0.32021209597587585),\n",
              " ('털', 0.2584652900695801),\n",
              " ('이', 0.24636545777320862)]"
            ]
          },
          "metadata": {},
          "execution_count": 188
        }
      ]
    },
    {
      "cell_type": "code",
      "source": [
        "model.wv.similarity('갈색', '푸들')"
      ],
      "metadata": {
        "colab": {
          "base_uri": "https://localhost:8080/"
        },
        "id": "dV0EsKt2T8Tb",
        "outputId": "4146a872-54db-4976-ae82-23500afd16d1"
      },
      "execution_count": 180,
      "outputs": [
        {
          "output_type": "execute_result",
          "data": {
            "text/plain": [
              "0.15589313"
            ]
          },
          "metadata": {},
          "execution_count": 180
        }
      ]
    },
    {
      "cell_type": "markdown",
      "source": [
        "#FastText 모델"
      ],
      "metadata": {
        "id": "ajSILm7ifuK3"
      }
    },
    {
      "cell_type": "code",
      "source": [
        "from gensim.models.fasttext import FastText"
      ],
      "metadata": {
        "id": "yKwqvQjh_OBs"
      },
      "execution_count": null,
      "outputs": []
    },
    {
      "cell_type": "code",
      "source": [
        "# 주어진 sentences를 가지고 학습하기\n",
        "model = FastText(sentences=sentences, min_count = 1, vector_size=10, window=2)\n",
        "print(model)\n",
        "\n",
        "# 토큰의 벡터 크기\n",
        "model.wv.vectors.shape"
      ],
      "metadata": {
        "colab": {
          "base_uri": "https://localhost:8080/"
        },
        "id": "mXTZNQACf6hT",
        "outputId": "88af5a31-d478-48a2-97fe-56906a068cf7"
      },
      "execution_count": 181,
      "outputs": [
        {
          "output_type": "stream",
          "name": "stdout",
          "text": [
            "FastText<vocab=30, vector_size=10, alpha=0.025>\n"
          ]
        },
        {
          "output_type": "execute_result",
          "data": {
            "text/plain": [
              "(30, 10)"
            ]
          },
          "metadata": {},
          "execution_count": 181
        }
      ]
    },
    {
      "cell_type": "code",
      "source": [
        "# vocab 알아보기\n",
        "vocab = model.wv.index_to_key\n",
        "print(vocab)\n",
        "print(len(vocab))"
      ],
      "metadata": {
        "colab": {
          "base_uri": "https://localhost:8080/"
        },
        "id": "CeUZRzmSf9Ac",
        "outputId": "ecc948be-f26a-4ab5-94dd-977086a75ed0"
      },
      "execution_count": 182,
      "outputs": [
        {
          "output_type": "stream",
          "name": "stdout",
          "text": [
            "['갈색', '털이', '푸들은', '강아지다', '키우는', '강아지는', '털', '색깔이', '갈색이다', '나는', '강아지를', '좋아한다', '많다', '털을', '가진', '푸들', '강아지', '빠지지', '않아', '자주', '미용을', '해야', ' 한다', '있는', '강아지가', '꼬리를', '친다', '쵸키는', '내가', '이']\n",
            "30\n"
          ]
        }
      ]
    },
    {
      "cell_type": "code",
      "source": [
        "model.wv.most_similar('프돌', topn=5)"
      ],
      "metadata": {
        "colab": {
          "base_uri": "https://localhost:8080/"
        },
        "id": "H77-ss71gB5K",
        "outputId": "d07c3eaf-629c-4b4a-bc55-b7ff460d0529"
      },
      "execution_count": 189,
      "outputs": [
        {
          "output_type": "execute_result",
          "data": {
            "text/plain": [
              "[('강아지는', 0.5810441374778748),\n",
              " ('친다', 0.3380281925201416),\n",
              " ('내가', 0.32021209597587585),\n",
              " ('털', 0.2584652900695801),\n",
              " ('이', 0.24636545777320862)]"
            ]
          },
          "metadata": {},
          "execution_count": 189
        }
      ]
    },
    {
      "cell_type": "code",
      "source": [
        "model.wv.most_similar('푸들', topn=5)"
      ],
      "metadata": {
        "colab": {
          "base_uri": "https://localhost:8080/"
        },
        "id": "y8e6Cx39gKBG",
        "outputId": "8bf70910-34f4-4629-dde7-b47775d10711"
      },
      "execution_count": 186,
      "outputs": [
        {
          "output_type": "execute_result",
          "data": {
            "text/plain": [
              "[('강아지', 0.3914642035961151),\n",
              " ('갈색', 0.38136857748031616),\n",
              " ('털을', 0.3506375551223755),\n",
              " (' 한다', 0.235407754778862),\n",
              " ('빠지지', 0.22809626162052155)]"
            ]
          },
          "metadata": {},
          "execution_count": 186
        }
      ]
    },
    {
      "cell_type": "code",
      "source": [],
      "metadata": {
        "id": "a4qIUCIrgS8v"
      },
      "execution_count": null,
      "outputs": []
    }
  ]
}