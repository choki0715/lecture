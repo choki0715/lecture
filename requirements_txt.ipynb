{
  "nbformat": 4,
  "nbformat_minor": 0,
  "metadata": {
    "colab": {
      "provenance": [],
      "authorship_tag": "ABX9TyNPlWrrgZBtVstMqSdPh+wO",
      "include_colab_link": true
    },
    "kernelspec": {
      "name": "python3",
      "display_name": "Python 3"
    },
    "language_info": {
      "name": "python"
    }
  },
  "cells": [
    {
      "cell_type": "markdown",
      "metadata": {
        "id": "view-in-github",
        "colab_type": "text"
      },
      "source": [
        "<a href=\"https://colab.research.google.com/github/choki0715/lecture/blob/master/requirements_txt.ipynb\" target=\"_parent\"><img src=\"https://colab.research.google.com/assets/colab-badge.svg\" alt=\"Open In Colab\"/></a>"
      ]
    },
    {
      "cell_type": "code",
      "execution_count": null,
      "metadata": {
        "id": "DarGC6qF5vTi"
      },
      "outputs": [],
      "source": [
        "# rag with ollama:  pip install -r requirements.txt\n",
        "pydantic==1.10.13\n",
        "langchain-core==0.1.52\n",
        "langchain-text-splitters==0.0.1\n",
        "langchain-community==0.0.38\n",
        "langchain-openai==0.0.8\n",
        "langchain==0.1.20\n",
        "pypdf\n",
        "faiss-cpu\n",
        "streamlit==1.40.1\n",
        "sentence-transformers"
      ]
    }
  ]
}