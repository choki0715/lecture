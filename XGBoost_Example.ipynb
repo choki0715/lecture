{
  "nbformat": 4,
  "nbformat_minor": 0,
  "metadata": {
    "colab": {
      "name": "XGBoost_Example.ipynb",
      "provenance": [],
      "collapsed_sections": [],
      "authorship_tag": "ABX9TyNNdel9qRzQ8YkrYVZo6Dhp",
      "include_colab_link": true
    },
    "kernelspec": {
      "name": "python3",
      "display_name": "Python 3"
    },
    "language_info": {
      "name": "python"
    }
  },
  "cells": [
    {
      "cell_type": "markdown",
      "metadata": {
        "id": "view-in-github",
        "colab_type": "text"
      },
      "source": [
        "<a href=\"https://colab.research.google.com/github/choki0715/lecture/blob/master/XGBoost_Example.ipynb\" target=\"_parent\"><img src=\"https://colab.research.google.com/assets/colab-badge.svg\" alt=\"Open In Colab\"/></a>"
      ]
    },
    {
      "cell_type": "code",
      "execution_count": null,
      "metadata": {
        "id": "rFWM4Ns3UlP0"
      },
      "outputs": [],
      "source": [
        "import pandas as pd\n",
        "import numpy as np\n",
        "import xgboost as xgb\n",
        "from sklearn.metrics import mean_squared_error\n",
        "from sklearn.metrics import mean_absolute_error\n",
        "from sklearn.metrics import r2_score\n",
        "from sklearn.model_selection import train_test_split\n",
        "from sklearn.model_selection import cross_val_score, KFold\n",
        "import plotly.express as px\n",
        "import plotly.figure_factory as ff\n",
        "import plotly.graph_objs as go\n",
        "#import chart_studio\n",
        "#import chart_studio.plotly as py "
      ]
    },
    {
      "cell_type": "code",
      "source": [
        "# 데이터 가져오기\n",
        "!wget https://raw.githubusercontent.com/jbrownlee/Datasets/master/monthly_champagne_sales.csv"
      ],
      "metadata": {
        "colab": {
          "base_uri": "https://localhost:8080/"
        },
        "id": "1wuTKsfZUu0G",
        "outputId": "68c95101-7f94-4658-940f-675e0783a47c"
      },
      "execution_count": null,
      "outputs": [
        {
          "output_type": "stream",
          "name": "stdout",
          "text": [
            "--2022-05-15 06:10:28--  https://raw.githubusercontent.com/jbrownlee/Datasets/master/monthly_champagne_sales.csv\n",
            "Resolving raw.githubusercontent.com (raw.githubusercontent.com)... 185.199.110.133, 185.199.111.133, 185.199.108.133, ...\n",
            "Connecting to raw.githubusercontent.com (raw.githubusercontent.com)|185.199.110.133|:443... connected.\n",
            "HTTP request sent, awaiting response... 200 OK\n",
            "Length: 1596 (1.6K) [text/plain]\n",
            "Saving to: ‘monthly_champagne_sales.csv’\n",
            "\n",
            "\r          monthly_c   0%[                    ]       0  --.-KB/s               \rmonthly_champagne_s 100%[===================>]   1.56K  --.-KB/s    in 0s      \n",
            "\n",
            "2022-05-15 06:10:28 (34.8 MB/s) - ‘monthly_champagne_sales.csv’ saved [1596/1596]\n",
            "\n"
          ]
        }
      ]
    },
    {
      "cell_type": "code",
      "source": [
        "data = pd.read_csv('monthly_champagne_sales.csv')\n",
        "dates = pd.date_range(start='1964-01-01', freq='MS', periods=len(data))\n",
        "\n",
        "yy = []\n",
        "mm = []\n",
        "\n",
        "date_list = dates.tolist()\n",
        "for w in date_list:\n",
        "  yy.append(w.year)\n",
        "  mm.append(w.month)\n",
        "\n",
        "print(yy, mm)"
      ],
      "metadata": {
        "colab": {
          "base_uri": "https://localhost:8080/"
        },
        "id": "dcgapn49VEal",
        "outputId": "29795a67-044f-4008-9f70-7bbdbb045732"
      },
      "execution_count": null,
      "outputs": [
        {
          "output_type": "stream",
          "name": "stdout",
          "text": [
            "[1964, 1964, 1964, 1964, 1964, 1964, 1964, 1964, 1964, 1964, 1964, 1964, 1965, 1965, 1965, 1965, 1965, 1965, 1965, 1965, 1965, 1965, 1965, 1965, 1966, 1966, 1966, 1966, 1966, 1966, 1966, 1966, 1966, 1966, 1966, 1966, 1967, 1967, 1967, 1967, 1967, 1967, 1967, 1967, 1967, 1967, 1967, 1967, 1968, 1968, 1968, 1968, 1968, 1968, 1968, 1968, 1968, 1968, 1968, 1968, 1969, 1969, 1969, 1969, 1969, 1969, 1969, 1969, 1969, 1969, 1969, 1969, 1970, 1970, 1970, 1970, 1970, 1970, 1970, 1970, 1970, 1970, 1970, 1970, 1971, 1971, 1971, 1971, 1971, 1971, 1971, 1971, 1971, 1971, 1971, 1971, 1972, 1972, 1972, 1972, 1972, 1972, 1972, 1972, 1972] [1, 2, 3, 4, 5, 6, 7, 8, 9, 10, 11, 12, 1, 2, 3, 4, 5, 6, 7, 8, 9, 10, 11, 12, 1, 2, 3, 4, 5, 6, 7, 8, 9, 10, 11, 12, 1, 2, 3, 4, 5, 6, 7, 8, 9, 10, 11, 12, 1, 2, 3, 4, 5, 6, 7, 8, 9, 10, 11, 12, 1, 2, 3, 4, 5, 6, 7, 8, 9, 10, 11, 12, 1, 2, 3, 4, 5, 6, 7, 8, 9, 10, 11, 12, 1, 2, 3, 4, 5, 6, 7, 8, 9, 10, 11, 12, 1, 2, 3, 4, 5, 6, 7, 8, 9]\n"
          ]
        }
      ]
    },
    {
      "cell_type": "code",
      "source": [
        "data.drop('Month',axis=1,inplace=True)\n",
        "\n",
        "data.insert(0, 'Year', yy)\n",
        "data.insert(0, 'Month', mm)\n",
        "\n",
        "print(data)\n",
        "\n",
        "\n",
        "\n",
        "print(data)"
      ],
      "metadata": {
        "colab": {
          "base_uri": "https://localhost:8080/"
        },
        "id": "bemID-EwXhLw",
        "outputId": "b64e35d3-e087-4c45-86c9-7fd63b4395ee"
      },
      "execution_count": null,
      "outputs": [
        {
          "output_type": "stream",
          "name": "stdout",
          "text": [
            "     Month  Year  Sales\n",
            "0        1  1964   2815\n",
            "1        2  1964   2672\n",
            "2        3  1964   2755\n",
            "3        4  1964   2721\n",
            "4        5  1964   2946\n",
            "..     ...   ...    ...\n",
            "100      5  1972   4618\n",
            "101      6  1972   5312\n",
            "102      7  1972   4298\n",
            "103      8  1972   1413\n",
            "104      9  1972   5877\n",
            "\n",
            "[105 rows x 3 columns]\n",
            "     Month  Year  Sales\n",
            "0        1  1964   2815\n",
            "1        2  1964   2672\n",
            "2        3  1964   2755\n",
            "3        4  1964   2721\n",
            "4        5  1964   2946\n",
            "..     ...   ...    ...\n",
            "100      5  1972   4618\n",
            "101      6  1972   5312\n",
            "102      7  1972   4298\n",
            "103      8  1972   1413\n",
            "104      9  1972   5877\n",
            "\n",
            "[105 rows x 3 columns]\n"
          ]
        }
      ]
    },
    {
      "cell_type": "code",
      "source": [
        "X, y =  data.loc[:,['Month', 'Year']].values, data.loc[:,'Sales'].values\n",
        "data_dmatrix = xgb.DMatrix(X,label=y)"
      ],
      "metadata": {
        "id": "BHJJd7eOVf4S"
      },
      "execution_count": null,
      "outputs": []
    },
    {
      "cell_type": "code",
      "source": [
        "from sklearn.model_selection import train_test_split\n",
        "\n",
        "X_train, X_test, y_train, y_test = train_test_split(X, y, test_size=0.2, random_state=123)\n",
        "print(X_test, y_test)"
      ],
      "metadata": {
        "colab": {
          "base_uri": "https://localhost:8080/"
        },
        "id": "4CZxRCWbV-Bh",
        "outputId": "206cdfc5-0896-4dee-cb81-0e164055e450"
      },
      "execution_count": null,
      "outputs": [
        {
          "output_type": "stream",
          "name": "stdout",
          "text": [
            "[[   6 1968]\n",
            " [   5 1966]\n",
            " [   4 1969]\n",
            " [   4 1972]\n",
            " [  10 1971]\n",
            " [   7 1971]\n",
            " [   9 1964]\n",
            " [   6 1964]\n",
            " [   1 1964]\n",
            " [   3 1969]\n",
            " [   2 1971]\n",
            " [   5 1964]\n",
            " [   8 1966]\n",
            " [   4 1971]\n",
            " [   2 1965]\n",
            " [   3 1967]\n",
            " [   1 1970]\n",
            " [   6 1967]\n",
            " [   7 1967]\n",
            " [   1 1966]\n",
            " [  12 1965]] [4753 3937 4276 4788 6981 4633 2922 3036 2815 4510 3162 2946 1573 4676\n",
            " 2475 3718 2639 4539 3663 3113 8357]\n"
          ]
        }
      ]
    },
    {
      "cell_type": "code",
      "source": [
        "reg_mod = xgb.XGBRegressor(objective='reg:squarederror',\n",
        "    n_estimators=1000,\n",
        "    learning_rate=0.10,\n",
        "    subsample=0.5,\n",
        "    colsample_bytree=1, \n",
        "    max_depth=5,\n",
        ")\n",
        "reg_mod.fit(X_train, y_train)\n",
        "\n",
        "'''\n",
        "XGBRegressor(base_score=0.5, booster='gbtree', colsample_bylevel=1,\n",
        "             colsample_bynode=1, colsample_bytree=1, gamma=0, gpu_id=-1,\n",
        "             importance_type='gain', interaction_constraints='',\n",
        "             learning_rate=0.1, max_delta_step=0, max_depth=5,\n",
        "             min_child_weight=1, missing=nan, monotone_constraints='()',\n",
        "             n_estimators=1000, n_jobs=8, num_parallel_tree=1, random_state=0,\n",
        "             reg_alpha=0, reg_lambda=1, scale_pos_weight=1, subsample=0.5,\n",
        "             tree_method='exact', validate_parameters=1, verbosity=None)\n",
        "             '''"
      ],
      "metadata": {
        "colab": {
          "base_uri": "https://localhost:8080/",
          "height": 87
        },
        "id": "0SyPQiA6gMpF",
        "outputId": "b54bf489-95bf-4407-8e00-3646d254d434"
      },
      "execution_count": null,
      "outputs": [
        {
          "output_type": "execute_result",
          "data": {
            "text/plain": [
              "\"\\nXGBRegressor(base_score=0.5, booster='gbtree', colsample_bylevel=1,\\n             colsample_bynode=1, colsample_bytree=1, gamma=0, gpu_id=-1,\\n             importance_type='gain', interaction_constraints='',\\n             learning_rate=0.1, max_delta_step=0, max_depth=5,\\n             min_child_weight=1, missing=nan, monotone_constraints='()',\\n             n_estimators=1000, n_jobs=8, num_parallel_tree=1, random_state=0,\\n             reg_alpha=0, reg_lambda=1, scale_pos_weight=1, subsample=0.5,\\n             tree_method='exact', validate_parameters=1, verbosity=None)\\n             \""
            ],
            "application/vnd.google.colaboratory.intrinsic+json": {
              "type": "string"
            }
          },
          "metadata": {},
          "execution_count": 13
        }
      ]
    },
    {
      "cell_type": "code",
      "source": [
        "reg_mod.fit(X_train,y_train)\n",
        "\n",
        "predictions = reg_mod.predict(X_test)\n"
      ],
      "metadata": {
        "id": "YQQCJH3xgQIF"
      },
      "execution_count": null,
      "outputs": []
    },
    {
      "cell_type": "code",
      "source": [
        "rmse = np.sqrt(mean_squared_error(y_test, predictions))\n",
        "print(\"RMSE: %f\" % (rmse))"
      ],
      "metadata": {
        "colab": {
          "base_uri": "https://localhost:8080/"
        },
        "id": "Ux7p3VLDgzCi",
        "outputId": "b99ebf4e-fbdb-40c7-83ba-22755d686217"
      },
      "execution_count": null,
      "outputs": [
        {
          "output_type": "stream",
          "name": "stdout",
          "text": [
            "RMSE: 434.191791\n"
          ]
        }
      ]
    },
    {
      "cell_type": "code",
      "source": [
        ""
      ],
      "metadata": {
        "id": "oCIbA2O1gzba"
      },
      "execution_count": null,
      "outputs": []
    },
    {
      "cell_type": "code",
      "source": [
        "# Creating an empty Dataframe with column names only\n",
        "result = pd.DataFrame(columns=['Time', 'Test', 'Predicted'])\n",
        "result['Time'] = pd.date_range(start='1/1/2000', periods=21, freq='M')\n",
        "result['Test'] = y_test\n",
        "result['Predicted'] = predictions\n",
        "#Using Plotly to build the graph\n",
        "fig = go.Figure()\n",
        "fig.add_trace(go.Scatter(x=result['Time'], y=result['Test'],\n",
        "                    mode='lines',\n",
        "                    name='Test'))\n",
        "fig.add_trace(go.Scatter(x=result['Time'], y=result['Predicted'],\n",
        "                    mode='lines',\n",
        "                    name='Predicted'))\n",
        "\n",
        "# Edit the layout\n",
        "fig.update_layout(title='Test vs Predicted Values',\n",
        "                   xaxis_title='Months',\n",
        "                   yaxis_title='Sales ($)',\n",
        "                   template='gridon')\n",
        "\n",
        "fig.show()"
      ],
      "metadata": {
        "colab": {
          "base_uri": "https://localhost:8080/",
          "height": 542
        },
        "id": "vU5QPiq-giip",
        "outputId": "11daf947-5a5e-4637-edbd-603d9a5322d6"
      },
      "execution_count": null,
      "outputs": [
        {
          "output_type": "display_data",
          "data": {
            "text/html": [
              "<html>\n",
              "<head><meta charset=\"utf-8\" /></head>\n",
              "<body>\n",
              "    <div>            <script src=\"https://cdnjs.cloudflare.com/ajax/libs/mathjax/2.7.5/MathJax.js?config=TeX-AMS-MML_SVG\"></script><script type=\"text/javascript\">if (window.MathJax) {MathJax.Hub.Config({SVG: {font: \"STIX-Web\"}});}</script>                <script type=\"text/javascript\">window.PlotlyConfig = {MathJaxConfig: 'local'};</script>\n",
              "        <script src=\"https://cdn.plot.ly/plotly-2.8.3.min.js\"></script>                <div id=\"275a2a56-efad-4da7-abef-678b9d7ad3a0\" class=\"plotly-graph-div\" style=\"height:525px; width:100%;\"></div>            <script type=\"text/javascript\">                                    window.PLOTLYENV=window.PLOTLYENV || {};                                    if (document.getElementById(\"275a2a56-efad-4da7-abef-678b9d7ad3a0\")) {                    Plotly.newPlot(                        \"275a2a56-efad-4da7-abef-678b9d7ad3a0\",                        [{\"mode\":\"lines\",\"name\":\"Test\",\"x\":[\"2000-01-31T00:00:00\",\"2000-02-29T00:00:00\",\"2000-03-31T00:00:00\",\"2000-04-30T00:00:00\",\"2000-05-31T00:00:00\",\"2000-06-30T00:00:00\",\"2000-07-31T00:00:00\",\"2000-08-31T00:00:00\",\"2000-09-30T00:00:00\",\"2000-10-31T00:00:00\",\"2000-11-30T00:00:00\",\"2000-12-31T00:00:00\",\"2001-01-31T00:00:00\",\"2001-02-28T00:00:00\",\"2001-03-31T00:00:00\",\"2001-04-30T00:00:00\",\"2001-05-31T00:00:00\",\"2001-06-30T00:00:00\",\"2001-07-31T00:00:00\",\"2001-08-31T00:00:00\",\"2001-09-30T00:00:00\"],\"y\":[4753,3937,4276,4788,6981,4633,2922,3036,2815,4510,3162,2946,1573,4676,2475,3718,2639,4539,3663,3113,8357],\"type\":\"scatter\"},{\"mode\":\"lines\",\"name\":\"Predicted\",\"x\":[\"2000-01-31T00:00:00\",\"2000-02-29T00:00:00\",\"2000-03-31T00:00:00\",\"2000-04-30T00:00:00\",\"2000-05-31T00:00:00\",\"2000-06-30T00:00:00\",\"2000-07-31T00:00:00\",\"2000-08-31T00:00:00\",\"2000-09-30T00:00:00\",\"2000-10-31T00:00:00\",\"2000-11-30T00:00:00\",\"2000-12-31T00:00:00\",\"2001-01-31T00:00:00\",\"2001-02-28T00:00:00\",\"2001-03-31T00:00:00\",\"2001-04-30T00:00:00\",\"2001-05-31T00:00:00\",\"2001-06-30T00:00:00\",\"2001-07-31T00:00:00\",\"2001-08-31T00:00:00\",\"2001-09-30T00:00:00\"],\"y\":[4688.51806640625,4057.76220703125,4767.69677734375,4974.6767578125,6802.98046875,4334.57421875,3593.11767578125,2597.3447265625,2660.5009765625,4292.03515625,3382.837646484375,3045.001220703125,1459.0093994140625,5349.12109375,2501.130615234375,4429.11376953125,3272.6591796875,4537.1572265625,3901.272705078125,4224.93994140625,8036.1591796875],\"type\":\"scatter\"}],                        {\"template\":{\"data\":{\"pie\":[{\"automargin\":true,\"type\":\"pie\"}]},\"layout\":{\"xaxis\":{\"showgrid\":true,\"title\":{\"standoff\":15}},\"yaxis\":{\"showgrid\":true,\"title\":{\"standoff\":15}}}},\"title\":{\"text\":\"Test vs Predicted Values\"},\"xaxis\":{\"title\":{\"text\":\"Months\"}},\"yaxis\":{\"title\":{\"text\":\"Sales ($)\"}}},                        {\"responsive\": true}                    ).then(function(){\n",
              "                            \n",
              "var gd = document.getElementById('275a2a56-efad-4da7-abef-678b9d7ad3a0');\n",
              "var x = new MutationObserver(function (mutations, observer) {{\n",
              "        var display = window.getComputedStyle(gd).display;\n",
              "        if (!display || display === 'none') {{\n",
              "            console.log([gd, 'removed!']);\n",
              "            Plotly.purge(gd);\n",
              "            observer.disconnect();\n",
              "        }}\n",
              "}});\n",
              "\n",
              "// Listen for the removal of the full notebook cells\n",
              "var notebookContainer = gd.closest('#notebook-container');\n",
              "if (notebookContainer) {{\n",
              "    x.observe(notebookContainer, {childList: true});\n",
              "}}\n",
              "\n",
              "// Listen for the clearing of the current output cell\n",
              "var outputEl = gd.closest('.output');\n",
              "if (outputEl) {{\n",
              "    x.observe(outputEl, {childList: true});\n",
              "}}\n",
              "\n",
              "                        })                };                            </script>        </div>\n",
              "</body>\n",
              "</html>"
            ]
          },
          "metadata": {}
        }
      ]
    },
    {
      "cell_type": "code",
      "source": [
        ""
      ],
      "metadata": {
        "id": "zkNZFG3hgrpf"
      },
      "execution_count": null,
      "outputs": []
    }
  ]
}