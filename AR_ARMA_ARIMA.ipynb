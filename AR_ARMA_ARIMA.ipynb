{
  "nbformat": 4,
  "nbformat_minor": 0,
  "metadata": {
    "colab": {
      "name": "AR_ARMA_ARIMA.ipynb",
      "provenance": [],
      "collapsed_sections": [],
      "mount_file_id": "1HVW_enjet_Q7pi0D0RBeZEfBltMTvc39",
      "authorship_tag": "ABX9TyN2Hw49AJ+h563OP/+rFTtm",
      "include_colab_link": true
    },
    "kernelspec": {
      "name": "python3",
      "display_name": "Python 3"
    },
    "language_info": {
      "name": "python"
    }
  },
  "cells": [
    {
      "cell_type": "markdown",
      "metadata": {
        "id": "view-in-github",
        "colab_type": "text"
      },
      "source": [
        "<a href=\"https://colab.research.google.com/github/choki0715/lecture/blob/master/AR_ARMA_ARIMA.ipynb\" target=\"_parent\"><img src=\"https://colab.research.google.com/assets/colab-badge.svg\" alt=\"Open In Colab\"/></a>"
      ]
    },
    {
      "cell_type": "code",
      "source": [
        "import pandas as pd \n",
        "import numpy as np \n",
        "import sys\n",
        "import warnings\n",
        "import itertools\n",
        "warnings.filterwarnings(\"ignore\")\n",
        "#from pandas.tools.plotting import autocorrelation_plot\n",
        "\n",
        "import statsmodels\n",
        "print(statsmodels.__version__)"
      ],
      "metadata": {
        "id": "22lW-Zu4bwPy",
        "colab": {
          "base_uri": "https://localhost:8080/"
        },
        "outputId": "6cf5db2e-6f00-436b-d799-fdd9b6bbc8d7"
      },
      "execution_count": 49,
      "outputs": [
        {
          "output_type": "stream",
          "name": "stdout",
          "text": [
            "0.10.2\n"
          ]
        }
      ]
    },
    {
      "cell_type": "code",
      "source": [
        "\n",
        "from statsmodels.graphics.tsaplots import plot_acf\n",
        "from matplotlib import pyplot as plt\n",
        "#from pandas.tools.plotting import lag_plot\n",
        "import statsmodels.api as sm\n",
        "import statsmodels.tsa.api as smt\n",
        "import statsmodels.formula.api as smf\n",
        "from sklearn.metrics import mean_squared_error\n",
        "import matplotlib.pyplot as plt\n",
        "%matplotlib inline\n",
        "import datetime\n",
        "import calendar\n",
        "import seaborn as sns\n",
        "from statsmodels.tsa.ar_model import AR ## old version AR \n",
        "from statsmodels.tsa.arima_model import ARMA\n",
        "from statsmodels.tsa.arima_model import ARIMA\n",
        "from statsmodels.tsa.statespace.sarimax import SARIMAX"
      ],
      "metadata": {
        "id": "3Ae_dLv5sSIT"
      },
      "execution_count": 50,
      "outputs": []
    },
    {
      "cell_type": "code",
      "source": [
        "!wget https://raw.githubusercontent.com/jbrownlee/Datasets/master/monthly_champagne_sales.csv"
      ],
      "metadata": {
        "colab": {
          "base_uri": "https://localhost:8080/"
        },
        "id": "AM94HnmieIEN",
        "outputId": "2ee70cbf-0966-4710-aa96-c7cfa87de504"
      },
      "execution_count": 51,
      "outputs": [
        {
          "output_type": "stream",
          "name": "stdout",
          "text": [
            "--2022-05-14 03:55:56--  https://raw.githubusercontent.com/jbrownlee/Datasets/master/monthly_champagne_sales.csv\n",
            "Resolving raw.githubusercontent.com (raw.githubusercontent.com)... 185.199.108.133, 185.199.109.133, 185.199.110.133, ...\n",
            "Connecting to raw.githubusercontent.com (raw.githubusercontent.com)|185.199.108.133|:443... connected.\n",
            "HTTP request sent, awaiting response... 200 OK\n",
            "Length: 1596 (1.6K) [text/plain]\n",
            "Saving to: ‘monthly_champagne_sales.csv.1’\n",
            "\n",
            "\r          monthly_c   0%[                    ]       0  --.-KB/s               \rmonthly_champagne_s 100%[===================>]   1.56K  --.-KB/s    in 0s      \n",
            "\n",
            "2022-05-14 03:55:56 (26.2 MB/s) - ‘monthly_champagne_sales.csv.1’ saved [1596/1596]\n",
            "\n"
          ]
        }
      ]
    },
    {
      "cell_type": "code",
      "source": [
        "data = pd.read_csv('monthly_champagne_sales.csv')\n",
        "data.head()\n",
        "data"
      ],
      "metadata": {
        "colab": {
          "base_uri": "https://localhost:8080/",
          "height": 424
        },
        "id": "H3ewdWquojZ-",
        "outputId": "11c24108-a289-4218-bdd6-d2c2e4f04b62"
      },
      "execution_count": 52,
      "outputs": [
        {
          "output_type": "execute_result",
          "data": {
            "text/plain": [
              "       Month  Sales\n",
              "0    1964-01   2815\n",
              "1    1964-02   2672\n",
              "2    1964-03   2755\n",
              "3    1964-04   2721\n",
              "4    1964-05   2946\n",
              "..       ...    ...\n",
              "100  1972-05   4618\n",
              "101  1972-06   5312\n",
              "102  1972-07   4298\n",
              "103  1972-08   1413\n",
              "104  1972-09   5877\n",
              "\n",
              "[105 rows x 2 columns]"
            ],
            "text/html": [
              "\n",
              "  <div id=\"df-89ff5af2-e830-471f-887d-93eb30dcdc59\">\n",
              "    <div class=\"colab-df-container\">\n",
              "      <div>\n",
              "<style scoped>\n",
              "    .dataframe tbody tr th:only-of-type {\n",
              "        vertical-align: middle;\n",
              "    }\n",
              "\n",
              "    .dataframe tbody tr th {\n",
              "        vertical-align: top;\n",
              "    }\n",
              "\n",
              "    .dataframe thead th {\n",
              "        text-align: right;\n",
              "    }\n",
              "</style>\n",
              "<table border=\"1\" class=\"dataframe\">\n",
              "  <thead>\n",
              "    <tr style=\"text-align: right;\">\n",
              "      <th></th>\n",
              "      <th>Month</th>\n",
              "      <th>Sales</th>\n",
              "    </tr>\n",
              "  </thead>\n",
              "  <tbody>\n",
              "    <tr>\n",
              "      <th>0</th>\n",
              "      <td>1964-01</td>\n",
              "      <td>2815</td>\n",
              "    </tr>\n",
              "    <tr>\n",
              "      <th>1</th>\n",
              "      <td>1964-02</td>\n",
              "      <td>2672</td>\n",
              "    </tr>\n",
              "    <tr>\n",
              "      <th>2</th>\n",
              "      <td>1964-03</td>\n",
              "      <td>2755</td>\n",
              "    </tr>\n",
              "    <tr>\n",
              "      <th>3</th>\n",
              "      <td>1964-04</td>\n",
              "      <td>2721</td>\n",
              "    </tr>\n",
              "    <tr>\n",
              "      <th>4</th>\n",
              "      <td>1964-05</td>\n",
              "      <td>2946</td>\n",
              "    </tr>\n",
              "    <tr>\n",
              "      <th>...</th>\n",
              "      <td>...</td>\n",
              "      <td>...</td>\n",
              "    </tr>\n",
              "    <tr>\n",
              "      <th>100</th>\n",
              "      <td>1972-05</td>\n",
              "      <td>4618</td>\n",
              "    </tr>\n",
              "    <tr>\n",
              "      <th>101</th>\n",
              "      <td>1972-06</td>\n",
              "      <td>5312</td>\n",
              "    </tr>\n",
              "    <tr>\n",
              "      <th>102</th>\n",
              "      <td>1972-07</td>\n",
              "      <td>4298</td>\n",
              "    </tr>\n",
              "    <tr>\n",
              "      <th>103</th>\n",
              "      <td>1972-08</td>\n",
              "      <td>1413</td>\n",
              "    </tr>\n",
              "    <tr>\n",
              "      <th>104</th>\n",
              "      <td>1972-09</td>\n",
              "      <td>5877</td>\n",
              "    </tr>\n",
              "  </tbody>\n",
              "</table>\n",
              "<p>105 rows × 2 columns</p>\n",
              "</div>\n",
              "      <button class=\"colab-df-convert\" onclick=\"convertToInteractive('df-89ff5af2-e830-471f-887d-93eb30dcdc59')\"\n",
              "              title=\"Convert this dataframe to an interactive table.\"\n",
              "              style=\"display:none;\">\n",
              "        \n",
              "  <svg xmlns=\"http://www.w3.org/2000/svg\" height=\"24px\"viewBox=\"0 0 24 24\"\n",
              "       width=\"24px\">\n",
              "    <path d=\"M0 0h24v24H0V0z\" fill=\"none\"/>\n",
              "    <path d=\"M18.56 5.44l.94 2.06.94-2.06 2.06-.94-2.06-.94-.94-2.06-.94 2.06-2.06.94zm-11 1L8.5 8.5l.94-2.06 2.06-.94-2.06-.94L8.5 2.5l-.94 2.06-2.06.94zm10 10l.94 2.06.94-2.06 2.06-.94-2.06-.94-.94-2.06-.94 2.06-2.06.94z\"/><path d=\"M17.41 7.96l-1.37-1.37c-.4-.4-.92-.59-1.43-.59-.52 0-1.04.2-1.43.59L10.3 9.45l-7.72 7.72c-.78.78-.78 2.05 0 2.83L4 21.41c.39.39.9.59 1.41.59.51 0 1.02-.2 1.41-.59l7.78-7.78 2.81-2.81c.8-.78.8-2.07 0-2.86zM5.41 20L4 18.59l7.72-7.72 1.47 1.35L5.41 20z\"/>\n",
              "  </svg>\n",
              "      </button>\n",
              "      \n",
              "  <style>\n",
              "    .colab-df-container {\n",
              "      display:flex;\n",
              "      flex-wrap:wrap;\n",
              "      gap: 12px;\n",
              "    }\n",
              "\n",
              "    .colab-df-convert {\n",
              "      background-color: #E8F0FE;\n",
              "      border: none;\n",
              "      border-radius: 50%;\n",
              "      cursor: pointer;\n",
              "      display: none;\n",
              "      fill: #1967D2;\n",
              "      height: 32px;\n",
              "      padding: 0 0 0 0;\n",
              "      width: 32px;\n",
              "    }\n",
              "\n",
              "    .colab-df-convert:hover {\n",
              "      background-color: #E2EBFA;\n",
              "      box-shadow: 0px 1px 2px rgba(60, 64, 67, 0.3), 0px 1px 3px 1px rgba(60, 64, 67, 0.15);\n",
              "      fill: #174EA6;\n",
              "    }\n",
              "\n",
              "    [theme=dark] .colab-df-convert {\n",
              "      background-color: #3B4455;\n",
              "      fill: #D2E3FC;\n",
              "    }\n",
              "\n",
              "    [theme=dark] .colab-df-convert:hover {\n",
              "      background-color: #434B5C;\n",
              "      box-shadow: 0px 1px 3px 1px rgba(0, 0, 0, 0.15);\n",
              "      filter: drop-shadow(0px 1px 2px rgba(0, 0, 0, 0.3));\n",
              "      fill: #FFFFFF;\n",
              "    }\n",
              "  </style>\n",
              "\n",
              "      <script>\n",
              "        const buttonEl =\n",
              "          document.querySelector('#df-89ff5af2-e830-471f-887d-93eb30dcdc59 button.colab-df-convert');\n",
              "        buttonEl.style.display =\n",
              "          google.colab.kernel.accessAllowed ? 'block' : 'none';\n",
              "\n",
              "        async function convertToInteractive(key) {\n",
              "          const element = document.querySelector('#df-89ff5af2-e830-471f-887d-93eb30dcdc59');\n",
              "          const dataTable =\n",
              "            await google.colab.kernel.invokeFunction('convertToInteractive',\n",
              "                                                     [key], {});\n",
              "          if (!dataTable) return;\n",
              "\n",
              "          const docLinkHtml = 'Like what you see? Visit the ' +\n",
              "            '<a target=\"_blank\" href=https://colab.research.google.com/notebooks/data_table.ipynb>data table notebook</a>'\n",
              "            + ' to learn more about interactive tables.';\n",
              "          element.innerHTML = '';\n",
              "          dataTable['output_type'] = 'display_data';\n",
              "          await google.colab.output.renderOutput(dataTable, element);\n",
              "          const docLink = document.createElement('div');\n",
              "          docLink.innerHTML = docLinkHtml;\n",
              "          element.appendChild(docLink);\n",
              "        }\n",
              "      </script>\n",
              "    </div>\n",
              "  </div>\n",
              "  "
            ]
          },
          "metadata": {},
          "execution_count": 52
        }
      ]
    },
    {
      "cell_type": "code",
      "source": [
        "dates = pd.date_range(start='1964-01-01', freq='MS', periods=len(data))\n",
        "dates"
      ],
      "metadata": {
        "colab": {
          "base_uri": "https://localhost:8080/"
        },
        "id": "29-CoNgfTX2q",
        "outputId": "2a4a24aa-67a6-49a5-c997-a4d55573172a"
      },
      "execution_count": 53,
      "outputs": [
        {
          "output_type": "execute_result",
          "data": {
            "text/plain": [
              "DatetimeIndex(['1964-01-01', '1964-02-01', '1964-03-01', '1964-04-01',\n",
              "               '1964-05-01', '1964-06-01', '1964-07-01', '1964-08-01',\n",
              "               '1964-09-01', '1964-10-01',\n",
              "               ...\n",
              "               '1971-12-01', '1972-01-01', '1972-02-01', '1972-03-01',\n",
              "               '1972-04-01', '1972-05-01', '1972-06-01', '1972-07-01',\n",
              "               '1972-08-01', '1972-09-01'],\n",
              "              dtype='datetime64[ns]', length=105, freq='MS')"
            ]
          },
          "metadata": {},
          "execution_count": 53
        }
      ]
    },
    {
      "cell_type": "code",
      "source": [
        "data.set_index(dates,inplace=True)\n",
        "print(data)\n",
        "\n",
        "data.drop('Month',axis=1,inplace=True)\n",
        "print(data)"
      ],
      "metadata": {
        "id": "Au_Tvw9Odzh7",
        "colab": {
          "base_uri": "https://localhost:8080/"
        },
        "outputId": "9e38c6d2-c89d-47a5-be81-595083a287ac"
      },
      "execution_count": 54,
      "outputs": [
        {
          "output_type": "stream",
          "name": "stdout",
          "text": [
            "              Month  Sales\n",
            "1964-01-01  1964-01   2815\n",
            "1964-02-01  1964-02   2672\n",
            "1964-03-01  1964-03   2755\n",
            "1964-04-01  1964-04   2721\n",
            "1964-05-01  1964-05   2946\n",
            "...             ...    ...\n",
            "1972-05-01  1972-05   4618\n",
            "1972-06-01  1972-06   5312\n",
            "1972-07-01  1972-07   4298\n",
            "1972-08-01  1972-08   1413\n",
            "1972-09-01  1972-09   5877\n",
            "\n",
            "[105 rows x 2 columns]\n",
            "            Sales\n",
            "1964-01-01   2815\n",
            "1964-02-01   2672\n",
            "1964-03-01   2755\n",
            "1964-04-01   2721\n",
            "1964-05-01   2946\n",
            "...           ...\n",
            "1972-05-01   4618\n",
            "1972-06-01   5312\n",
            "1972-07-01   4298\n",
            "1972-08-01   1413\n",
            "1972-09-01   5877\n",
            "\n",
            "[105 rows x 1 columns]\n"
          ]
        }
      ]
    },
    {
      "cell_type": "code",
      "source": [
        "train = (data[data.index < '1969-10-01'])\n",
        "test = (data[data.index >= '1969-10-01'])\n",
        "#print(train, test)"
      ],
      "metadata": {
        "id": "5pfxG5O2gK3s"
      },
      "execution_count": 57,
      "outputs": []
    },
    {
      "cell_type": "markdown",
      "source": [
        "# AR 모델"
      ],
      "metadata": {
        "id": "JUhrme50tgwO"
      }
    },
    {
      "cell_type": "code",
      "source": [
        "model = AR(train)\n",
        "model_fit = model.fit()\n",
        "#model_fit.summary()"
      ],
      "metadata": {
        "id": "3OEYrtHvcvy2"
      },
      "execution_count": 65,
      "outputs": []
    },
    {
      "cell_type": "code",
      "source": [
        "#How many lags considered statistically, what are their beta values\n",
        "print('Lag: %s' % model_fit.k_ar)\n",
        "print('Coefficients: %s' % model_fit.params)"
      ],
      "metadata": {
        "colab": {
          "base_uri": "https://localhost:8080/"
        },
        "id": "sIvQmsios_dr",
        "outputId": "c7e3007e-4083-42b9-aa60-2f9b38305e46"
      },
      "execution_count": 66,
      "outputs": [
        {
          "output_type": "stream",
          "name": "stdout",
          "text": [
            "Lag: 11\n",
            "Coefficients: const        1697.722489\n",
            "L1.Sales        0.633575\n",
            "L2.Sales       -0.451075\n",
            "L3.Sales        0.465719\n",
            "L4.Sales       -0.643086\n",
            "L5.Sales        0.492391\n",
            "L6.Sales       -0.434121\n",
            "L7.Sales        0.521092\n",
            "L8.Sales       -0.660454\n",
            "L9.Sales        0.472919\n",
            "L10.Sales      -0.481942\n",
            "L11.Sales       0.760421\n",
            "dtype: float64\n"
          ]
        }
      ]
    },
    {
      "cell_type": "code",
      "source": [
        "# Predicting the test values\n",
        "predictions = model_fit.predict(start=len(train), end=len(train)+len(test)-1, dynamic=False)"
      ],
      "metadata": {
        "id": "5TU-PGIAtDbz"
      },
      "execution_count": 67,
      "outputs": []
    },
    {
      "cell_type": "code",
      "source": [
        "print('The first test value in Sales :',test.values[1],'and its Predicted value : ',predictions.values[1])"
      ],
      "metadata": {
        "colab": {
          "base_uri": "https://localhost:8080/"
        },
        "id": "5zqmog8StLsS",
        "outputId": "427d46e5-a22b-495f-a706-36f075ab9c37"
      },
      "execution_count": 68,
      "outputs": [
        {
          "output_type": "stream",
          "name": "stdout",
          "text": [
            "The first test value in Sales : [10803] and its Predicted value :  10357.72533179987\n"
          ]
        }
      ]
    },
    {
      "cell_type": "code",
      "source": [
        "# plot results\n",
        "plt.figure(figsize=(12,6))\n",
        "plt.plot(test)\n",
        "plt.plot(predictions, color='red')\n",
        "plt.show()"
      ],
      "metadata": {
        "colab": {
          "base_uri": "https://localhost:8080/",
          "height": 374
        },
        "id": "lYbrXgeotO1y",
        "outputId": "0a133f5b-5397-4ada-e13d-bf632e24a3ff"
      },
      "execution_count": 13,
      "outputs": [
        {
          "output_type": "display_data",
          "data": {
            "text/plain": [
              "<Figure size 864x432 with 1 Axes>"
            ],
            "image/png": "[encoded data removed]"
          },
          "metadata": {
            "needs_background": "light"
          }
        }
      ]
    },
    {
      "cell_type": "code",
      "source": [
        "# Root Mean Square Error (RMSE)\n",
        "rmse = np.sqrt(mean_squared_error(test['Sales'], predictions))\n",
        "rmse = round(rmse, 3)"
      ],
      "metadata": {
        "id": "Rl494mWItRQw"
      },
      "execution_count": 14,
      "outputs": []
    },
    {
      "cell_type": "code",
      "source": [
        "# Mean Absolute Percentage Error\n",
        "abs_error = np.abs(test['Sales']-predictions)\n",
        "actual = test['Sales']\n",
        "mape = np.round(np.mean(abs_error/actual),3)\n",
        "resultsDf = pd.DataFrame({'Method':['Auto Regressive'], 'RMSE': [rmse]})\n",
        "resultsDf\n",
        "mape"
      ],
      "metadata": {
        "colab": {
          "base_uri": "https://localhost:8080/"
        },
        "id": "7AJKYE8dtXMq",
        "outputId": "5aaecede-6572-437d-888e-0e8d80b65af5"
      },
      "execution_count": 15,
      "outputs": [
        {
          "output_type": "execute_result",
          "data": {
            "text/plain": [
              "0.277"
            ]
          },
          "metadata": {},
          "execution_count": 15
        }
      ]
    },
    {
      "cell_type": "code",
      "source": [
        "# Storing results in a dataframe\n",
        "resultsDf = pd.DataFrame({'Method':['Auto Regressive'], 'MAPE': [mape], 'RMSE': [rmse]})\n",
        "resultsDf = resultsDf[['Method', 'RMSE', 'MAPE']]\n",
        "resultsDf"
      ],
      "metadata": {
        "colab": {
          "base_uri": "https://localhost:8080/",
          "height": 81
        },
        "id": "pxGdEK4JtZ4K",
        "outputId": "03a4a0c5-46db-4069-e22c-c35ac9e5e2c0"
      },
      "execution_count": 16,
      "outputs": [
        {
          "output_type": "execute_result",
          "data": {
            "text/plain": [
              "            Method     RMSE   MAPE\n",
              "0  Auto Regressive  1864.15  0.277"
            ],
            "text/html": [
              "\n",
              "  <div id=\"df-712a7d0e-02e5-4c5d-8615-43e38c9e7ca9\">\n",
              "    <div class=\"colab-df-container\">\n",
              "      <div>\n",
              "<style scoped>\n",
              "    .dataframe tbody tr th:only-of-type {\n",
              "        vertical-align: middle;\n",
              "    }\n",
              "\n",
              "    .dataframe tbody tr th {\n",
              "        vertical-align: top;\n",
              "    }\n",
              "\n",
              "    .dataframe thead th {\n",
              "        text-align: right;\n",
              "    }\n",
              "</style>\n",
              "<table border=\"1\" class=\"dataframe\">\n",
              "  <thead>\n",
              "    <tr style=\"text-align: right;\">\n",
              "      <th></th>\n",
              "      <th>Method</th>\n",
              "      <th>RMSE</th>\n",
              "      <th>MAPE</th>\n",
              "    </tr>\n",
              "  </thead>\n",
              "  <tbody>\n",
              "    <tr>\n",
              "      <th>0</th>\n",
              "      <td>Auto Regressive</td>\n",
              "      <td>1864.15</td>\n",
              "      <td>0.277</td>\n",
              "    </tr>\n",
              "  </tbody>\n",
              "</table>\n",
              "</div>\n",
              "      <button class=\"colab-df-convert\" onclick=\"convertToInteractive('df-712a7d0e-02e5-4c5d-8615-43e38c9e7ca9')\"\n",
              "              title=\"Convert this dataframe to an interactive table.\"\n",
              "              style=\"display:none;\">\n",
              "        \n",
              "  <svg xmlns=\"http://www.w3.org/2000/svg\" height=\"24px\"viewBox=\"0 0 24 24\"\n",
              "       width=\"24px\">\n",
              "    <path d=\"M0 0h24v24H0V0z\" fill=\"none\"/>\n",
              "    <path d=\"M18.56 5.44l.94 2.06.94-2.06 2.06-.94-2.06-.94-.94-2.06-.94 2.06-2.06.94zm-11 1L8.5 8.5l.94-2.06 2.06-.94-2.06-.94L8.5 2.5l-.94 2.06-2.06.94zm10 10l.94 2.06.94-2.06 2.06-.94-2.06-.94-.94-2.06-.94 2.06-2.06.94z\"/><path d=\"M17.41 7.96l-1.37-1.37c-.4-.4-.92-.59-1.43-.59-.52 0-1.04.2-1.43.59L10.3 9.45l-7.72 7.72c-.78.78-.78 2.05 0 2.83L4 21.41c.39.39.9.59 1.41.59.51 0 1.02-.2 1.41-.59l7.78-7.78 2.81-2.81c.8-.78.8-2.07 0-2.86zM5.41 20L4 18.59l7.72-7.72 1.47 1.35L5.41 20z\"/>\n",
              "  </svg>\n",
              "      </button>\n",
              "      \n",
              "  <style>\n",
              "    .colab-df-container {\n",
              "      display:flex;\n",
              "      flex-wrap:wrap;\n",
              "      gap: 12px;\n",
              "    }\n",
              "\n",
              "    .colab-df-convert {\n",
              "      background-color: #E8F0FE;\n",
              "      border: none;\n",
              "      border-radius: 50%;\n",
              "      cursor: pointer;\n",
              "      display: none;\n",
              "      fill: #1967D2;\n",
              "      height: 32px;\n",
              "      padding: 0 0 0 0;\n",
              "      width: 32px;\n",
              "    }\n",
              "\n",
              "    .colab-df-convert:hover {\n",
              "      background-color: #E2EBFA;\n",
              "      box-shadow: 0px 1px 2px rgba(60, 64, 67, 0.3), 0px 1px 3px 1px rgba(60, 64, 67, 0.15);\n",
              "      fill: #174EA6;\n",
              "    }\n",
              "\n",
              "    [theme=dark] .colab-df-convert {\n",
              "      background-color: #3B4455;\n",
              "      fill: #D2E3FC;\n",
              "    }\n",
              "\n",
              "    [theme=dark] .colab-df-convert:hover {\n",
              "      background-color: #434B5C;\n",
              "      box-shadow: 0px 1px 3px 1px rgba(0, 0, 0, 0.15);\n",
              "      filter: drop-shadow(0px 1px 2px rgba(0, 0, 0, 0.3));\n",
              "      fill: #FFFFFF;\n",
              "    }\n",
              "  </style>\n",
              "\n",
              "      <script>\n",
              "        const buttonEl =\n",
              "          document.querySelector('#df-712a7d0e-02e5-4c5d-8615-43e38c9e7ca9 button.colab-df-convert');\n",
              "        buttonEl.style.display =\n",
              "          google.colab.kernel.accessAllowed ? 'block' : 'none';\n",
              "\n",
              "        async function convertToInteractive(key) {\n",
              "          const element = document.querySelector('#df-712a7d0e-02e5-4c5d-8615-43e38c9e7ca9');\n",
              "          const dataTable =\n",
              "            await google.colab.kernel.invokeFunction('convertToInteractive',\n",
              "                                                     [key], {});\n",
              "          if (!dataTable) return;\n",
              "\n",
              "          const docLinkHtml = 'Like what you see? Visit the ' +\n",
              "            '<a target=\"_blank\" href=https://colab.research.google.com/notebooks/data_table.ipynb>data table notebook</a>'\n",
              "            + ' to learn more about interactive tables.';\n",
              "          element.innerHTML = '';\n",
              "          dataTable['output_type'] = 'display_data';\n",
              "          await google.colab.output.renderOutput(dataTable, element);\n",
              "          const docLink = document.createElement('div');\n",
              "          docLink.innerHTML = docLinkHtml;\n",
              "          element.appendChild(docLink);\n",
              "        }\n",
              "      </script>\n",
              "    </div>\n",
              "  </div>\n",
              "  "
            ]
          },
          "metadata": {},
          "execution_count": 16
        }
      ]
    },
    {
      "cell_type": "markdown",
      "source": [
        "# ARMA모델\n",
        "## The model involves specifying the order for the AR(p) and MA(q) model"
      ],
      "metadata": {
        "id": "QDMlPprytp52"
      }
    },
    {
      "cell_type": "code",
      "source": [
        "# Define the p and q parameters to take any value between 0 and 2\n",
        "p = range(0, 7)\n",
        "q = range(0,1)"
      ],
      "metadata": {
        "id": "hX1aeeWctsM8"
      },
      "execution_count": 17,
      "outputs": []
    },
    {
      "cell_type": "code",
      "source": [
        "# Generate all different combinations of p,q\n",
        "pq = list(itertools.product(p,q))"
      ],
      "metadata": {
        "id": "xSCKVFpGt4wU"
      },
      "execution_count": 18,
      "outputs": []
    },
    {
      "cell_type": "code",
      "source": [
        "best_aic = np.inf\n",
        "best_pq = None\n",
        "temp_model = None\n",
        "for param in pq: \n",
        "    temp_model = ARMA(train,order=param)\n",
        "    results = temp_model.fit()\n",
        "    if results.aic < best_aic:\n",
        "        best_aic = results.aic\n",
        "        best_pq = param\n",
        "print(\"Best ARMA {} model - AIC:{}\".format(best_pq,best_aic))  "
      ],
      "metadata": {
        "colab": {
          "base_uri": "https://localhost:8080/"
        },
        "id": "e8OXNnNnt8Y8",
        "outputId": "f3a96c2a-5bdf-4928-a93c-e4f6c753488b"
      },
      "execution_count": 19,
      "outputs": [
        {
          "output_type": "stream",
          "name": "stdout",
          "text": [
            "Best ARMA (5, 0) model - AIC:1232.5354939880972\n"
          ]
        }
      ]
    },
    {
      "cell_type": "code",
      "source": [
        "# using the best parameter in the model\n",
        "model = ARMA(train,order=(5,0))\n",
        "model_fit = model.fit()"
      ],
      "metadata": {
        "id": "03DxXtamt--I"
      },
      "execution_count": 20,
      "outputs": []
    },
    {
      "cell_type": "code",
      "source": [
        "print('Lag: %s' % model_fit.k_ar)\n",
        "print('Coefficients: %s' % model_fit.params)"
      ],
      "metadata": {
        "colab": {
          "base_uri": "https://localhost:8080/"
        },
        "id": "YOaEgUvpuGDc",
        "outputId": "bd6373a3-269b-408d-9179-5b1385f80c21"
      },
      "execution_count": 21,
      "outputs": [
        {
          "output_type": "stream",
          "name": "stdout",
          "text": [
            "Lag: 5\n",
            "Coefficients: const          4375.281970\n",
            "ar.L1.Sales       0.636861\n",
            "ar.L2.Sales      -0.232861\n",
            "ar.L3.Sales       0.047878\n",
            "ar.L4.Sales      -0.264160\n",
            "ar.L5.Sales       0.270972\n",
            "dtype: float64\n"
          ]
        }
      ]
    },
    {
      "cell_type": "code",
      "source": [
        "predictions = model_fit.predict(start=len(train), end=len(train)+len(test)-1)"
      ],
      "metadata": {
        "id": "iT3n_cEfuIwR"
      },
      "execution_count": 22,
      "outputs": []
    },
    {
      "cell_type": "code",
      "source": [
        "# plot results\n",
        "plt.figure(figsize=(12,6))\n",
        "plt.plot(test)\n",
        "plt.plot(predictions, color='red')\n",
        "plt.show()"
      ],
      "metadata": {
        "colab": {
          "base_uri": "https://localhost:8080/",
          "height": 374
        },
        "id": "5UUkKIljuLyP",
        "outputId": "667535b0-9f67-494c-87a2-bf68fad1a0ea"
      },
      "execution_count": 23,
      "outputs": [
        {
          "output_type": "display_data",
          "data": {
            "text/plain": [
              "<Figure size 864x432 with 1 Axes>"
            ],
            "image/png": "[encoded data removed]"
          },
          "metadata": {
            "needs_background": "light"
          }
        }
      ]
    },
    {
      "cell_type": "markdown",
      "source": [
        "#Model 3: Autoregressive Integrated Moving Average (ARIMA)\n",
        "##This model involves specifying the order for the AR(p), I(d), and MA(q) models"
      ],
      "metadata": {
        "id": "ZdIydoTpfchI"
      }
    },
    {
      "cell_type": "code",
      "source": [
        "# Define the p, d and q parameters to take any value between 0 and 2\n",
        "p = range(0,8)\n",
        "d = range(0,2)\n",
        "q = range(0,1)"
      ],
      "metadata": {
        "id": "Ium6Fyu2fl-Q"
      },
      "execution_count": 24,
      "outputs": []
    },
    {
      "cell_type": "code",
      "source": [
        "# Generate all different combinations of p, d and q triplets\n",
        "pdq = list(itertools.product(p, d, q))"
      ],
      "metadata": {
        "id": "4Xi2vzX1frKQ"
      },
      "execution_count": 25,
      "outputs": []
    },
    {
      "cell_type": "markdown",
      "source": [
        "# GRid Serach"
      ],
      "metadata": {
        "id": "TRpBEt7Ggc-J"
      }
    },
    {
      "cell_type": "code",
      "source": [
        "best_aic = np.inf\n",
        "best_pdq = None\n",
        "temp_model = None\n",
        "for param in pdq:   \n",
        "    temp_model = ARIMA(train,order=param)\n",
        "    results = temp_model.fit()\n",
        "    if results.aic < best_aic:\n",
        "        best_aic = results.aic\n",
        "        best_pdq = param \n",
        "print(\"Best ARIMA {} model - AIC:{}\".format(best_pdq,best_aic))  "
      ],
      "metadata": {
        "colab": {
          "base_uri": "https://localhost:8080/"
        },
        "id": "U2lQ-aesgfUX",
        "outputId": "d9d9f0d3-d7a7-4689-a564-6532b192ef8c"
      },
      "execution_count": 27,
      "outputs": [
        {
          "output_type": "stream",
          "name": "stdout",
          "text": [
            "Best ARIMA (4, 1, 0) model - AIC:1221.9586243360168\n"
          ]
        }
      ]
    },
    {
      "cell_type": "code",
      "source": [
        "# using the best parameter in the model\n",
        "model = ARIMA(train,order=(4,1,0))\n",
        "model_fit = model.fit()"
      ],
      "metadata": {
        "id": "9nnSryg7gh63"
      },
      "execution_count": 28,
      "outputs": []
    },
    {
      "cell_type": "code",
      "source": [
        "\n",
        "predictions = model_fit.predict(start=len(train), end=len(train)+len(test)-1, dynamic=False)"
      ],
      "metadata": {
        "id": "efC2PJSngvkw"
      },
      "execution_count": 29,
      "outputs": []
    },
    {
      "cell_type": "code",
      "source": [
        "# plot results\n",
        "plt.figure(figsize=(12,6))\n",
        "plt.plot(test)\n",
        "plt.plot(predictions, color='red')\n",
        "plt.show()"
      ],
      "metadata": {
        "colab": {
          "base_uri": "https://localhost:8080/",
          "height": 374
        },
        "id": "KbEPge-Ngy2Y",
        "outputId": "86aefc14-f9c7-48d2-cdb0-943e21a09ae2"
      },
      "execution_count": 30,
      "outputs": [
        {
          "output_type": "display_data",
          "data": {
            "text/plain": [
              "<Figure size 864x432 with 1 Axes>"
            ],
            "image/png": "[encoded data removed]"
          },
          "metadata": {
            "needs_background": "light"
          }
        }
      ]
    },
    {
      "cell_type": "code",
      "source": [
        "# Root Mean Square Error (RMSE)\n",
        "rmse = np.sqrt(mean_squared_error(test, predictions))\n",
        "rmse = round(rmse, 3)"
      ],
      "metadata": {
        "id": "z1D6p8lug68_"
      },
      "execution_count": 31,
      "outputs": []
    },
    {
      "cell_type": "code",
      "source": [
        "# Mean Absolute Percentage Error\n",
        "abs_error = np.abs(test['Sales']-predictions)\n",
        "actual = test['Sales']\n",
        "mape = np.round(np.mean(np.abs(abs_error/actual)),3)"
      ],
      "metadata": {
        "id": "04jOiaw8g_Mn"
      },
      "execution_count": 32,
      "outputs": []
    },
    {
      "cell_type": "code",
      "source": [
        "# Storing results in a dataframe\n",
        "tempResultsDf = pd.DataFrame({'Method':['Autoregressive Integrated Moving Average'], 'RMSE': [rmse],'MAPE': [mape] })\n",
        "resultsDf = pd.concat([resultsDf, tempResultsDf])\n",
        "resultsDf = resultsDf[['Method', 'RMSE', 'MAPE']]\n",
        "resultsDf"
      ],
      "metadata": {
        "colab": {
          "base_uri": "https://localhost:8080/",
          "height": 112
        },
        "id": "OdBfFE6ChCtv",
        "outputId": "59a195db-04ba-481b-cab4-878c5dcf19cd"
      },
      "execution_count": 33,
      "outputs": [
        {
          "output_type": "execute_result",
          "data": {
            "text/plain": [
              "                                     Method     RMSE   MAPE\n",
              "0                           Auto Regressive  1864.15  0.277\n",
              "0  Autoregressive Integrated Moving Average  6327.05  1.000"
            ],
            "text/html": [
              "\n",
              "  <div id=\"df-37c2e3b0-bf5f-4f6f-954d-2c7250d21707\">\n",
              "    <div class=\"colab-df-container\">\n",
              "      <div>\n",
              "<style scoped>\n",
              "    .dataframe tbody tr th:only-of-type {\n",
              "        vertical-align: middle;\n",
              "    }\n",
              "\n",
              "    .dataframe tbody tr th {\n",
              "        vertical-align: top;\n",
              "    }\n",
              "\n",
              "    .dataframe thead th {\n",
              "        text-align: right;\n",
              "    }\n",
              "</style>\n",
              "<table border=\"1\" class=\"dataframe\">\n",
              "  <thead>\n",
              "    <tr style=\"text-align: right;\">\n",
              "      <th></th>\n",
              "      <th>Method</th>\n",
              "      <th>RMSE</th>\n",
              "      <th>MAPE</th>\n",
              "    </tr>\n",
              "  </thead>\n",
              "  <tbody>\n",
              "    <tr>\n",
              "      <th>0</th>\n",
              "      <td>Auto Regressive</td>\n",
              "      <td>1864.15</td>\n",
              "      <td>0.277</td>\n",
              "    </tr>\n",
              "    <tr>\n",
              "      <th>0</th>\n",
              "      <td>Autoregressive Integrated Moving Average</td>\n",
              "      <td>6327.05</td>\n",
              "      <td>1.000</td>\n",
              "    </tr>\n",
              "  </tbody>\n",
              "</table>\n",
              "</div>\n",
              "      <button class=\"colab-df-convert\" onclick=\"convertToInteractive('df-37c2e3b0-bf5f-4f6f-954d-2c7250d21707')\"\n",
              "              title=\"Convert this dataframe to an interactive table.\"\n",
              "              style=\"display:none;\">\n",
              "        \n",
              "  <svg xmlns=\"http://www.w3.org/2000/svg\" height=\"24px\"viewBox=\"0 0 24 24\"\n",
              "       width=\"24px\">\n",
              "    <path d=\"M0 0h24v24H0V0z\" fill=\"none\"/>\n",
              "    <path d=\"M18.56 5.44l.94 2.06.94-2.06 2.06-.94-2.06-.94-.94-2.06-.94 2.06-2.06.94zm-11 1L8.5 8.5l.94-2.06 2.06-.94-2.06-.94L8.5 2.5l-.94 2.06-2.06.94zm10 10l.94 2.06.94-2.06 2.06-.94-2.06-.94-.94-2.06-.94 2.06-2.06.94z\"/><path d=\"M17.41 7.96l-1.37-1.37c-.4-.4-.92-.59-1.43-.59-.52 0-1.04.2-1.43.59L10.3 9.45l-7.72 7.72c-.78.78-.78 2.05 0 2.83L4 21.41c.39.39.9.59 1.41.59.51 0 1.02-.2 1.41-.59l7.78-7.78 2.81-2.81c.8-.78.8-2.07 0-2.86zM5.41 20L4 18.59l7.72-7.72 1.47 1.35L5.41 20z\"/>\n",
              "  </svg>\n",
              "      </button>\n",
              "      \n",
              "  <style>\n",
              "    .colab-df-container {\n",
              "      display:flex;\n",
              "      flex-wrap:wrap;\n",
              "      gap: 12px;\n",
              "    }\n",
              "\n",
              "    .colab-df-convert {\n",
              "      background-color: #E8F0FE;\n",
              "      border: none;\n",
              "      border-radius: 50%;\n",
              "      cursor: pointer;\n",
              "      display: none;\n",
              "      fill: #1967D2;\n",
              "      height: 32px;\n",
              "      padding: 0 0 0 0;\n",
              "      width: 32px;\n",
              "    }\n",
              "\n",
              "    .colab-df-convert:hover {\n",
              "      background-color: #E2EBFA;\n",
              "      box-shadow: 0px 1px 2px rgba(60, 64, 67, 0.3), 0px 1px 3px 1px rgba(60, 64, 67, 0.15);\n",
              "      fill: #174EA6;\n",
              "    }\n",
              "\n",
              "    [theme=dark] .colab-df-convert {\n",
              "      background-color: #3B4455;\n",
              "      fill: #D2E3FC;\n",
              "    }\n",
              "\n",
              "    [theme=dark] .colab-df-convert:hover {\n",
              "      background-color: #434B5C;\n",
              "      box-shadow: 0px 1px 3px 1px rgba(0, 0, 0, 0.15);\n",
              "      filter: drop-shadow(0px 1px 2px rgba(0, 0, 0, 0.3));\n",
              "      fill: #FFFFFF;\n",
              "    }\n",
              "  </style>\n",
              "\n",
              "      <script>\n",
              "        const buttonEl =\n",
              "          document.querySelector('#df-37c2e3b0-bf5f-4f6f-954d-2c7250d21707 button.colab-df-convert');\n",
              "        buttonEl.style.display =\n",
              "          google.colab.kernel.accessAllowed ? 'block' : 'none';\n",
              "\n",
              "        async function convertToInteractive(key) {\n",
              "          const element = document.querySelector('#df-37c2e3b0-bf5f-4f6f-954d-2c7250d21707');\n",
              "          const dataTable =\n",
              "            await google.colab.kernel.invokeFunction('convertToInteractive',\n",
              "                                                     [key], {});\n",
              "          if (!dataTable) return;\n",
              "\n",
              "          const docLinkHtml = 'Like what you see? Visit the ' +\n",
              "            '<a target=\"_blank\" href=https://colab.research.google.com/notebooks/data_table.ipynb>data table notebook</a>'\n",
              "            + ' to learn more about interactive tables.';\n",
              "          element.innerHTML = '';\n",
              "          dataTable['output_type'] = 'display_data';\n",
              "          await google.colab.output.renderOutput(dataTable, element);\n",
              "          const docLink = document.createElement('div');\n",
              "          docLink.innerHTML = docLinkHtml;\n",
              "          element.appendChild(docLink);\n",
              "        }\n",
              "      </script>\n",
              "    </div>\n",
              "  </div>\n",
              "  "
            ]
          },
          "metadata": {},
          "execution_count": 33
        }
      ]
    },
    {
      "cell_type": "markdown",
      "source": [
        "#Seasonal Autoregressive Integrated Moving-Average (SARIMA)\n",
        "##It combines the ARIMA model with the ability to perform the same autoregression, differencing, and moving average modeling at the seasonal level."
      ],
      "metadata": {
        "id": "UjPcF9OYhZWT"
      }
    },
    {
      "cell_type": "code",
      "source": [
        "# Define the p, d and q parameters to take any value between 0 and 2\n",
        "p = d = q = range(0, 2)"
      ],
      "metadata": {
        "id": "TbP5UJu4hFcQ"
      },
      "execution_count": 34,
      "outputs": []
    },
    {
      "cell_type": "code",
      "source": [
        "# Generate all different combinations of p, d and q triplets\n",
        "pdq = list(itertools.product(p, d, q))\n",
        "pdq"
      ],
      "metadata": {
        "colab": {
          "base_uri": "https://localhost:8080/"
        },
        "id": "7Iu0jrZphi7X",
        "outputId": "9df92604-340d-4628-f427-a93b0af522dd"
      },
      "execution_count": 35,
      "outputs": [
        {
          "output_type": "execute_result",
          "data": {
            "text/plain": [
              "[(0, 0, 0),\n",
              " (0, 0, 1),\n",
              " (0, 1, 0),\n",
              " (0, 1, 1),\n",
              " (1, 0, 0),\n",
              " (1, 0, 1),\n",
              " (1, 1, 0),\n",
              " (1, 1, 1)]"
            ]
          },
          "metadata": {},
          "execution_count": 35
        }
      ]
    },
    {
      "cell_type": "code",
      "source": [
        "# Generate all different combinations of seasonal p, q and q triplets\n",
        "seasonal_pdq = [(x[0], x[1], x[2], 12) for x in list(itertools.product(p, d, q))]"
      ],
      "metadata": {
        "id": "4S-sXYsrhlSP"
      },
      "execution_count": 36,
      "outputs": []
    },
    {
      "cell_type": "code",
      "source": [
        "# using the best parameter in the model\n",
        "model = SARIMAX(train,order=(0,1,1),seasonal_order=(1,1,1,12),enforce_invertibility=False,\n",
        "                             enforce_stationarity=False)\n",
        "model_fit = model.fit()"
      ],
      "metadata": {
        "id": "GhM1VR9PhrJn"
      },
      "execution_count": 37,
      "outputs": []
    },
    {
      "cell_type": "code",
      "source": [
        "predictions = model_fit.predict(start=len(train), end=len(train)+len(test)-1, dynamic=False)"
      ],
      "metadata": {
        "id": "y_pMzQaah9jv"
      },
      "execution_count": 38,
      "outputs": []
    },
    {
      "cell_type": "code",
      "source": [
        "# plot results\n",
        "plt.figure(figsize=(12,6))\n",
        "plt.plot(test)\n",
        "plt.plot(predictions, color='red')\n",
        "plt.show()"
      ],
      "metadata": {
        "colab": {
          "base_uri": "https://localhost:8080/",
          "height": 374
        },
        "id": "ym3-DUlRiAfv",
        "outputId": "a1d66e7d-a549-4105-c7a0-018ecf9336a7"
      },
      "execution_count": 39,
      "outputs": [
        {
          "output_type": "display_data",
          "data": {
            "text/plain": [
              "<Figure size 864x432 with 1 Axes>"
            ],
            "image/png": "[encoded data removed]"
          },
          "metadata": {
            "needs_background": "light"
          }
        }
      ]
    },
    {
      "cell_type": "code",
      "source": [
        "# Root Mean Square Error (RMSE)\n",
        "rmse = np.sqrt(mean_squared_error(test['Sales'], predictions))\n",
        "rmse = round(rmse, 3)"
      ],
      "metadata": {
        "id": "feetloYFiC_f"
      },
      "execution_count": 40,
      "outputs": []
    },
    {
      "cell_type": "code",
      "source": [
        "# Mean Absolute Percentage Error\n",
        "abs_error = np.abs(test['Sales']-predictions)\n",
        "actual = test['Sales']\n",
        "mape = np.round(np.mean(np.abs(abs_error/actual)),3)"
      ],
      "metadata": {
        "id": "wIvaL9BxiGXf"
      },
      "execution_count": 41,
      "outputs": []
    },
    {
      "cell_type": "code",
      "source": [
        "# Storing results in a dataframe\n",
        "tempResultsDf = pd.DataFrame({'Method':['Seasonal Autoregressive Integrated Moving Average'], 'RMSE': [rmse],'MAPE': [mape] })\n",
        "resultsDf = pd.concat([resultsDf, tempResultsDf])\n",
        "resultsDf = resultsDf[['Method', 'RMSE', 'MAPE']]\n",
        "resultsDf.index = [i for i in range(len(resultsDf))]\n",
        "resultsDf"
      ],
      "metadata": {
        "colab": {
          "base_uri": "https://localhost:8080/",
          "height": 143
        },
        "id": "6F8cqSqhiIo3",
        "outputId": "53da067b-4062-43dc-bc2d-24b31e5a86cd"
      },
      "execution_count": 42,
      "outputs": [
        {
          "output_type": "execute_result",
          "data": {
            "text/plain": [
              "                                              Method      RMSE   MAPE\n",
              "0                                    Auto Regressive  1864.150  0.277\n",
              "1           Autoregressive Integrated Moving Average  6327.050  1.000\n",
              "2  Seasonal Autoregressive Integrated Moving Average  1035.182  0.235"
            ],
            "text/html": [
              "\n",
              "  <div id=\"df-e4990ff3-decf-4edd-9d8b-2a5a911f51d7\">\n",
              "    <div class=\"colab-df-container\">\n",
              "      <div>\n",
              "<style scoped>\n",
              "    .dataframe tbody tr th:only-of-type {\n",
              "        vertical-align: middle;\n",
              "    }\n",
              "\n",
              "    .dataframe tbody tr th {\n",
              "        vertical-align: top;\n",
              "    }\n",
              "\n",
              "    .dataframe thead th {\n",
              "        text-align: right;\n",
              "    }\n",
              "</style>\n",
              "<table border=\"1\" class=\"dataframe\">\n",
              "  <thead>\n",
              "    <tr style=\"text-align: right;\">\n",
              "      <th></th>\n",
              "      <th>Method</th>\n",
              "      <th>RMSE</th>\n",
              "      <th>MAPE</th>\n",
              "    </tr>\n",
              "  </thead>\n",
              "  <tbody>\n",
              "    <tr>\n",
              "      <th>0</th>\n",
              "      <td>Auto Regressive</td>\n",
              "      <td>1864.150</td>\n",
              "      <td>0.277</td>\n",
              "    </tr>\n",
              "    <tr>\n",
              "      <th>1</th>\n",
              "      <td>Autoregressive Integrated Moving Average</td>\n",
              "      <td>6327.050</td>\n",
              "      <td>1.000</td>\n",
              "    </tr>\n",
              "    <tr>\n",
              "      <th>2</th>\n",
              "      <td>Seasonal Autoregressive Integrated Moving Average</td>\n",
              "      <td>1035.182</td>\n",
              "      <td>0.235</td>\n",
              "    </tr>\n",
              "  </tbody>\n",
              "</table>\n",
              "</div>\n",
              "      <button class=\"colab-df-convert\" onclick=\"convertToInteractive('df-e4990ff3-decf-4edd-9d8b-2a5a911f51d7')\"\n",
              "              title=\"Convert this dataframe to an interactive table.\"\n",
              "              style=\"display:none;\">\n",
              "        \n",
              "  <svg xmlns=\"http://www.w3.org/2000/svg\" height=\"24px\"viewBox=\"0 0 24 24\"\n",
              "       width=\"24px\">\n",
              "    <path d=\"M0 0h24v24H0V0z\" fill=\"none\"/>\n",
              "    <path d=\"M18.56 5.44l.94 2.06.94-2.06 2.06-.94-2.06-.94-.94-2.06-.94 2.06-2.06.94zm-11 1L8.5 8.5l.94-2.06 2.06-.94-2.06-.94L8.5 2.5l-.94 2.06-2.06.94zm10 10l.94 2.06.94-2.06 2.06-.94-2.06-.94-.94-2.06-.94 2.06-2.06.94z\"/><path d=\"M17.41 7.96l-1.37-1.37c-.4-.4-.92-.59-1.43-.59-.52 0-1.04.2-1.43.59L10.3 9.45l-7.72 7.72c-.78.78-.78 2.05 0 2.83L4 21.41c.39.39.9.59 1.41.59.51 0 1.02-.2 1.41-.59l7.78-7.78 2.81-2.81c.8-.78.8-2.07 0-2.86zM5.41 20L4 18.59l7.72-7.72 1.47 1.35L5.41 20z\"/>\n",
              "  </svg>\n",
              "      </button>\n",
              "      \n",
              "  <style>\n",
              "    .colab-df-container {\n",
              "      display:flex;\n",
              "      flex-wrap:wrap;\n",
              "      gap: 12px;\n",
              "    }\n",
              "\n",
              "    .colab-df-convert {\n",
              "      background-color: #E8F0FE;\n",
              "      border: none;\n",
              "      border-radius: 50%;\n",
              "      cursor: pointer;\n",
              "      display: none;\n",
              "      fill: #1967D2;\n",
              "      height: 32px;\n",
              "      padding: 0 0 0 0;\n",
              "      width: 32px;\n",
              "    }\n",
              "\n",
              "    .colab-df-convert:hover {\n",
              "      background-color: #E2EBFA;\n",
              "      box-shadow: 0px 1px 2px rgba(60, 64, 67, 0.3), 0px 1px 3px 1px rgba(60, 64, 67, 0.15);\n",
              "      fill: #174EA6;\n",
              "    }\n",
              "\n",
              "    [theme=dark] .colab-df-convert {\n",
              "      background-color: #3B4455;\n",
              "      fill: #D2E3FC;\n",
              "    }\n",
              "\n",
              "    [theme=dark] .colab-df-convert:hover {\n",
              "      background-color: #434B5C;\n",
              "      box-shadow: 0px 1px 3px 1px rgba(0, 0, 0, 0.15);\n",
              "      filter: drop-shadow(0px 1px 2px rgba(0, 0, 0, 0.3));\n",
              "      fill: #FFFFFF;\n",
              "    }\n",
              "  </style>\n",
              "\n",
              "      <script>\n",
              "        const buttonEl =\n",
              "          document.querySelector('#df-e4990ff3-decf-4edd-9d8b-2a5a911f51d7 button.colab-df-convert');\n",
              "        buttonEl.style.display =\n",
              "          google.colab.kernel.accessAllowed ? 'block' : 'none';\n",
              "\n",
              "        async function convertToInteractive(key) {\n",
              "          const element = document.querySelector('#df-e4990ff3-decf-4edd-9d8b-2a5a911f51d7');\n",
              "          const dataTable =\n",
              "            await google.colab.kernel.invokeFunction('convertToInteractive',\n",
              "                                                     [key], {});\n",
              "          if (!dataTable) return;\n",
              "\n",
              "          const docLinkHtml = 'Like what you see? Visit the ' +\n",
              "            '<a target=\"_blank\" href=https://colab.research.google.com/notebooks/data_table.ipynb>data table notebook</a>'\n",
              "            + ' to learn more about interactive tables.';\n",
              "          element.innerHTML = '';\n",
              "          dataTable['output_type'] = 'display_data';\n",
              "          await google.colab.output.renderOutput(dataTable, element);\n",
              "          const docLink = document.createElement('div');\n",
              "          docLink.innerHTML = docLinkHtml;\n",
              "          element.appendChild(docLink);\n",
              "        }\n",
              "      </script>\n",
              "    </div>\n",
              "  </div>\n",
              "  "
            ]
          },
          "metadata": {},
          "execution_count": 42
        }
      ]
    },
    {
      "cell_type": "markdown",
      "source": [
        "#Plot of Champagne Sales with Test and Prediction along with Train"
      ],
      "metadata": {
        "id": "8xOGAvXjimWR"
      }
    },
    {
      "cell_type": "code",
      "source": [
        "axis = train['Sales'].plot(label='Train Sales', figsize=(12, 6))\n",
        "test['Sales'].plot(ax=axis, label='Test Sales', alpha=0.7)\n",
        "predictions.plot(ax=axis, label='Forecasted Sales', alpha=0.7)\n",
        "axis.set_xlabel('Years')\n",
        "axis.set_ylabel('Champagne Sales')\n",
        "plt.legend(loc='best')\n",
        "plt.show()\n",
        "plt.close()"
      ],
      "metadata": {
        "colab": {
          "base_uri": "https://localhost:8080/",
          "height": 388
        },
        "id": "axG9--IXiLun",
        "outputId": "b36461e7-e55b-4047-831d-cb08d3bc6a07"
      },
      "execution_count": 44,
      "outputs": [
        {
          "output_type": "display_data",
          "data": {
            "text/plain": [
              "<Figure size 864x432 with 1 Axes>"
            ],
            "image/png": "[encoded data removed]"
          },
          "metadata": {
            "needs_background": "light"
          }
        }
      ]
    },
    {
      "cell_type": "markdown",
      "source": [
        ""
      ],
      "metadata": {
        "id": "rjcyGgprih2q"
      }
    },
    {
      "cell_type": "code",
      "source": [
        ""
      ],
      "metadata": {
        "id": "vnSl8K_rif5f"
      },
      "execution_count": null,
      "outputs": []
    }
  ]
}