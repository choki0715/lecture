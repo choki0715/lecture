{
  "nbformat": 4,
  "nbformat_minor": 0,
  "metadata": {
    "colab": {
      "name": "kt_project.ipynb",
      "provenance": [],
      "collapsed_sections": [],
      "authorship_tag": "ABX9TyMQBZmj9WlbbPqZPhiBsCXB",
      "include_colab_link": true
    },
    "kernelspec": {
      "name": "python3",
      "display_name": "Python 3"
    }
  },
  "cells": [
    {
      "cell_type": "markdown",
      "metadata": {
        "id": "view-in-github",
        "colab_type": "text"
      },
      "source": [
        "<a href=\"https://colab.research.google.com/github/choki0715/lecture/blob/master/kt_project.ipynb\" target=\"_parent\"><img src=\"https://colab.research.google.com/assets/colab-badge.svg\" alt=\"Open In Colab\"/></a>"
      ]
    },
    {
      "cell_type": "code",
      "metadata": {
        "colab": {
          "base_uri": "https://localhost:8080/"
        },
        "id": "Z6-qbWAB3rcB",
        "outputId": "c081e15e-ec0c-4519-e5bd-8c5d9577a870"
      },
      "source": [
        "#import tensorflow_datasets as tfds\r\n",
        "import tensorflow as tf\r\n",
        "import time\r\n",
        "import os, sys\r\n",
        "import numpy as np\r\n",
        "import pandas as pd\r\n",
        "import matplotlib as mpl\r\n",
        "import matplotlib.pyplot as plt\r\n",
        "import datetime\r\n",
        "import csv\r\n",
        "\r\n",
        "from google.colab import drive \r\n",
        "drive.mount('/content/gdrive/')\r\n",
        "drive.mount('/content/mnt') \r\n",
        "nb_path = '/content/notebooks' \r\n",
        "#os.symlink('/content/mnt/My Drive/Colab Notebooks', nb_path) \r\n",
        "sys.path.insert(0, nb_path)\r\n"
      ],
      "execution_count": 12,
      "outputs": [
        {
          "output_type": "stream",
          "text": [
            "Mounted at /content/gdrive/\n",
            "Mounted at /content/mnt\n"
          ],
          "name": "stdout"
        }
      ]
    },
    {
      "cell_type": "code",
      "metadata": {
        "id": "HcSevllCYK0u"
      },
      "source": [
        "# 데이터 불러오기\r\n",
        "df = pd.read_excel('/content/mnt/MyDrive/Colab Notebooks/보안해제_(샘플)PMS1234_2019_B2C_데이터.xlsx', sheet_name = '워크시트 익스포트')"
      ],
      "execution_count": 13,
      "outputs": []
    },
    {
      "cell_type": "code",
      "metadata": {
        "colab": {
          "base_uri": "https://localhost:8080/",
          "height": 581
        },
        "id": "bZGTWEcVYp-F",
        "outputId": "06b809ac-e1a6-4a22-b3c7-b31b59017fde"
      },
      "source": [
        "df.head(10)"
      ],
      "execution_count": 14,
      "outputs": [
        {
          "output_type": "execute_result",
          "data": {
            "text/html": [
              "<div>\n",
              "<style scoped>\n",
              "    .dataframe tbody tr th:only-of-type {\n",
              "        vertical-align: middle;\n",
              "    }\n",
              "\n",
              "    .dataframe tbody tr th {\n",
              "        vertical-align: top;\n",
              "    }\n",
              "\n",
              "    .dataframe thead th {\n",
              "        text-align: right;\n",
              "    }\n",
              "</style>\n",
              "<table border=\"1\" class=\"dataframe\">\n",
              "  <thead>\n",
              "    <tr style=\"text-align: right;\">\n",
              "      <th></th>\n",
              "      <th>고객사명</th>\n",
              "      <th>발신자번호</th>\n",
              "      <th>수신자번호</th>\n",
              "      <th>브랜드명</th>\n",
              "      <th>상품명</th>\n",
              "      <th>단가</th>\n",
              "      <th>메세지내용</th>\n",
              "      <th>발송일시</th>\n",
              "      <th>교환일시</th>\n",
              "    </tr>\n",
              "  </thead>\n",
              "  <tbody>\n",
              "    <tr>\n",
              "      <th>0</th>\n",
              "      <td>11번가</td>\n",
              "      <td>ow3gkFQSXMcEkBL3vmU6qw==</td>\n",
              "      <td>wFLKW8DvAT1nIGeeUUgqGg==</td>\n",
              "      <td>도미노피자</td>\n",
              "      <td>포테이토(오리지널)L+갈릭&amp;윙스+콜라1.25L</td>\n",
              "      <td>31950</td>\n",
              "      <td>기프티쇼 발송</td>\n",
              "      <td>20190101063312</td>\n",
              "      <td>2.019010e+13</td>\n",
              "    </tr>\n",
              "    <tr>\n",
              "      <th>1</th>\n",
              "      <td>11번가</td>\n",
              "      <td>ow3gkFQSXMcEkBL3vmU6qw==</td>\n",
              "      <td>wFLKW8DvAT1nIGeeUUgqGg==</td>\n",
              "      <td>파리바게뜨</td>\n",
              "      <td>클래식쇼콜라 케이크</td>\n",
              "      <td>19000</td>\n",
              "      <td>기프티쇼 발송</td>\n",
              "      <td>20190101014817</td>\n",
              "      <td>2.019010e+13</td>\n",
              "    </tr>\n",
              "    <tr>\n",
              "      <th>2</th>\n",
              "      <td>원스토어</td>\n",
              "      <td>Aw576tB/DqB48oaOCYI/uQ==</td>\n",
              "      <td>iqR/qZRWd+omjZhYAHrNQw==</td>\n",
              "      <td>도서문화상품권</td>\n",
              "      <td>도서문화상품권 5만원권(온라인전용)</td>\n",
              "      <td>50000</td>\n",
              "      <td>원스토어에서 구매하신 상품입니다.</td>\n",
              "      <td>20190101014842</td>\n",
              "      <td>2.019010e+13</td>\n",
              "    </tr>\n",
              "    <tr>\n",
              "      <th>3</th>\n",
              "      <td>네이버 선물서비스</td>\n",
              "      <td>FYd5hCBWMLAnJn9MZW755g==</td>\n",
              "      <td>sArVOX0rIfxz0PvWvLKzGg==</td>\n",
              "      <td>파리바게뜨</td>\n",
              "      <td>부드러운 호박고구마케이크</td>\n",
              "      <td>25000</td>\n",
              "      <td>스토어팜 e쿠폰 도착!</td>\n",
              "      <td>20190101015130</td>\n",
              "      <td>2.019011e+13</td>\n",
              "    </tr>\n",
              "    <tr>\n",
              "      <th>4</th>\n",
              "      <td>원스토어</td>\n",
              "      <td>gsxIPB/m0V3WKN7iXfThSg==</td>\n",
              "      <td>paQGXfYkbkMm5KiIK7B1mw==</td>\n",
              "      <td>도서문화상품권</td>\n",
              "      <td>도서문화상품권 5만원권(온라인전용)</td>\n",
              "      <td>50000</td>\n",
              "      <td>원스토어에서 구매하신 상품입니다.</td>\n",
              "      <td>20190101015301</td>\n",
              "      <td>2.019010e+13</td>\n",
              "    </tr>\n",
              "    <tr>\n",
              "      <th>5</th>\n",
              "      <td>SM C&amp;C_틸리언</td>\n",
              "      <td>DJXvJUYs1c7yFvjuOHLOBQ==</td>\n",
              "      <td>0YPp5IOmOkhHaWpvmOJAdw==</td>\n",
              "      <td>해피머니</td>\n",
              "      <td>해피머니온라인상품권[3,000원]</td>\n",
              "      <td>3000</td>\n",
              "      <td>gift</td>\n",
              "      <td>20190101015957</td>\n",
              "      <td>NaN</td>\n",
              "    </tr>\n",
              "    <tr>\n",
              "      <th>6</th>\n",
              "      <td>(주)하우투메리_매체</td>\n",
              "      <td>M7OQuUb0EJmIBSfpjGZacw==</td>\n",
              "      <td>h0cGWOH/VR67aSzMpNigTw==</td>\n",
              "      <td>스타벅스</td>\n",
              "      <td>아이스 카페아메리카노 Tall</td>\n",
              "      <td>4100</td>\n",
              "      <td>릴로옹님이 웨딩북앱에서 교환한 아이스 카페아메리카노 Tall 입니다.</td>\n",
              "      <td>20190101012142</td>\n",
              "      <td>2.019020e+13</td>\n",
              "    </tr>\n",
              "    <tr>\n",
              "      <th>7</th>\n",
              "      <td>원스토어</td>\n",
              "      <td>GXjtRwoyJomIKiujWNBmyQ==</td>\n",
              "      <td>7E/53KTWE4koMgScCP0+sg==</td>\n",
              "      <td>도서문화상품권</td>\n",
              "      <td>도서문화상품권 5만원권(온라인전용)</td>\n",
              "      <td>50000</td>\n",
              "      <td>원스토어에서 구매하신 상품입니다.</td>\n",
              "      <td>20190101013024</td>\n",
              "      <td>2.019010e+13</td>\n",
              "    </tr>\n",
              "    <tr>\n",
              "      <th>8</th>\n",
              "      <td>11번가</td>\n",
              "      <td>ow3gkFQSXMcEkBL3vmU6qw==</td>\n",
              "      <td>wFLKW8DvAT1nIGeeUUgqGg==</td>\n",
              "      <td>맘스터치</td>\n",
              "      <td>햄치즈휠렛버거 세트</td>\n",
              "      <td>6100</td>\n",
              "      <td>기프티쇼 발송</td>\n",
              "      <td>20190101013322</td>\n",
              "      <td>2.019011e+13</td>\n",
              "    </tr>\n",
              "    <tr>\n",
              "      <th>9</th>\n",
              "      <td>(주)하우투메리_매체</td>\n",
              "      <td>M7OQuUb0EJmIBSfpjGZacw==</td>\n",
              "      <td>zS6YsRjfqm7KDfMwIvxm3A==</td>\n",
              "      <td>파스쿠찌</td>\n",
              "      <td>아이스 화이트초콜릿라떼 마끼아또(R)</td>\n",
              "      <td>5000</td>\n",
              "      <td>스폰지밥님이 웨딩북앱에서 교환한 아이스 화이트초콜릿라떼 마끼아또(R) 입니다.</td>\n",
              "      <td>20190101024038</td>\n",
              "      <td>2.019021e+13</td>\n",
              "    </tr>\n",
              "  </tbody>\n",
              "</table>\n",
              "</div>"
            ],
            "text/plain": [
              "          고객사명                     발신자번호  ...            발송일시          교환일시\n",
              "0         11번가  ow3gkFQSXMcEkBL3vmU6qw==  ...  20190101063312  2.019010e+13\n",
              "1         11번가  ow3gkFQSXMcEkBL3vmU6qw==  ...  20190101014817  2.019010e+13\n",
              "2         원스토어  Aw576tB/DqB48oaOCYI/uQ==  ...  20190101014842  2.019010e+13\n",
              "3    네이버 선물서비스  FYd5hCBWMLAnJn9MZW755g==  ...  20190101015130  2.019011e+13\n",
              "4         원스토어  gsxIPB/m0V3WKN7iXfThSg==  ...  20190101015301  2.019010e+13\n",
              "5   SM C&C_틸리언  DJXvJUYs1c7yFvjuOHLOBQ==  ...  20190101015957           NaN\n",
              "6  (주)하우투메리_매체  M7OQuUb0EJmIBSfpjGZacw==  ...  20190101012142  2.019020e+13\n",
              "7         원스토어  GXjtRwoyJomIKiujWNBmyQ==  ...  20190101013024  2.019010e+13\n",
              "8         11번가  ow3gkFQSXMcEkBL3vmU6qw==  ...  20190101013322  2.019011e+13\n",
              "9  (주)하우투메리_매체  M7OQuUb0EJmIBSfpjGZacw==  ...  20190101024038  2.019021e+13\n",
              "\n",
              "[10 rows x 9 columns]"
            ]
          },
          "metadata": {
            "tags": []
          },
          "execution_count": 14
        }
      ]
    },
    {
      "cell_type": "code",
      "metadata": {
        "id": "LCt-Yr51ZElo"
      },
      "source": [
        ""
      ],
      "execution_count": null,
      "outputs": []
    }
  ]
}