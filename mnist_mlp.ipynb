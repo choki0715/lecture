{
  "nbformat": 4,
  "nbformat_minor": 0,
  "metadata": {
    "colab": {
      "name": "Untitled2.ipynb",
      "provenance": [],
      "collapsed_sections": [],
      "authorship_tag": "ABX9TyOncPO4Z8Kb8XauWCUlec1+",
      "include_colab_link": true
    },
    "kernelspec": {
      "name": "python3",
      "display_name": "Python 3"
    }
  },
  "cells": [
    {
      "cell_type": "markdown",
      "metadata": {
        "id": "view-in-github",
        "colab_type": "text"
      },
      "source": [
        "<a href=\"https://colab.research.google.com/github/choki0715/lecture/blob/master/mnist_mlp.ipynb\" target=\"_parent\"><img src=\"https://colab.research.google.com/assets/colab-badge.svg\" alt=\"Open In Colab\"/></a>"
      ]
    },
    {
      "cell_type": "code",
      "metadata": {
        "id": "xUqPpwArl0uM",
        "colab_type": "code",
        "colab": {}
      },
      "source": [
        "import torch\n",
        "import torch.nn as nn\n",
        "import torch.nn.functional as F\n",
        "import torch.optim as optim\n",
        "from torchvision import datasets, transforms"
      ],
      "execution_count": 10,
      "outputs": []
    },
    {
      "cell_type": "code",
      "metadata": {
        "id": "5qYAdxuTl818",
        "colab_type": "code",
        "colab": {
          "base_uri": "https://localhost:8080/",
          "height": 35
        },
        "outputId": "4a78732a-0b31-46ee-9074-66032b4f512d"
      },
      "source": [
        "class Net(nn.Module):\n",
        "    def __init__(self):\n",
        "        super(Net, self).__init__()\n",
        "        self.fc1 = nn.Linear(784, 512)\n",
        "        self.fc2 = nn.Linear(512, 256)\n",
        "        self.fc3 = nn.Linear(256, 128)\n",
        "        self.fc4 = nn.Linear(128, 64)\n",
        "        self.fc5 = nn.Linear(64, 32)\n",
        "        self.fc6 = nn.Linear(32, 10)\n",
        "\n",
        "    def forward(self, x):\n",
        "        x = x.float()\n",
        "        h1 = F.relu(self.fc1(x.view(-1, 784)))\n",
        "        h2 = F.relu(self.fc2(h1))\n",
        "        h3 = F.relu(self.fc3(h2))\n",
        "        h4 = F.relu(self.fc4(h3))\n",
        "        h5 = F.relu(self.fc5(h4))\n",
        "        h6 = self.fc6(h5)\n",
        "        return F.log_softmax(h6, dim=1)\n",
        "\n",
        "print(\"init model done\")"
      ],
      "execution_count": 11,
      "outputs": [
        {
          "output_type": "stream",
          "text": [
            "init model done\n"
          ],
          "name": "stdout"
        }
      ]
    },
    {
      "cell_type": "code",
      "metadata": {
        "id": "fAt1GDjxmD_-",
        "colab_type": "code",
        "colab": {
          "base_uri": "https://localhost:8080/",
          "height": 35
        },
        "outputId": "286b9b31-74fc-4cfd-f2c6-28cc38a3f851"
      },
      "source": [
        "batch_size = 64\n",
        "test_batch_size = 1000\n",
        "epochs = 10\n",
        "lr = 0.01\n",
        "momentum = 0.5\n",
        "no_cuda = True\n",
        "seed = 1\n",
        "log_interval = 200\n",
        "\n",
        "use_cuda = not no_cuda and torch.cuda.is_available()\n",
        "\n",
        "torch.manual_seed(seed)\n",
        "\n",
        "device = torch.device(\"cuda\" if use_cuda else \"cpu\")\n",
        "\n",
        "kwargs = {'num_workers': 1, 'pin_memory': True} if use_cuda else {}\n",
        "\n",
        "print(\"set vars and device done\")"
      ],
      "execution_count": 12,
      "outputs": [
        {
          "output_type": "stream",
          "text": [
            "set vars and device done\n"
          ],
          "name": "stdout"
        }
      ]
    },
    {
      "cell_type": "code",
      "metadata": {
        "id": "-Y15iIcxmM07",
        "colab_type": "code",
        "colab": {}
      },
      "source": [
        "transform = transforms.Compose([\n",
        "                 transforms.ToTensor(),\n",
        "                 transforms.Normalize((0.1307,), (0.3081,))])\n",
        "\n",
        "train_loader = torch.utils.data.DataLoader(\n",
        "  datasets.MNIST('../data', train=True, download=True, \n",
        "                 transform=transform), \n",
        "    batch_size = batch_size, shuffle=True, **kwargs)\n",
        "\n",
        "test_loader = torch.utils.data.DataLoader(\n",
        "        datasets.MNIST('../data', train=False, download=True,\n",
        "                 transform=transform), \n",
        "    batch_size=test_batch_size, shuffle=True, **kwargs)"
      ],
      "execution_count": 13,
      "outputs": []
    },
    {
      "cell_type": "code",
      "metadata": {
        "id": "Tl0AQdy8mmMl",
        "colab_type": "code",
        "colab": {}
      },
      "source": [
        "model = Net().to(device)\n",
        "optimizer = optim.SGD(model.parameters(), lr=lr, momentum=momentum)"
      ],
      "execution_count": 14,
      "outputs": []
    },
    {
      "cell_type": "code",
      "metadata": {
        "id": "Etl7UHhrmt2c",
        "colab_type": "code",
        "colab": {}
      },
      "source": [
        "def train(log_interval, model, device, train_loader, optimizer, epoch):\n",
        "    model.train()\n",
        "    for batch_idx, (data, target) in enumerate(train_loader):\n",
        "        data, target = data.to(device), target.to(device)\n",
        "        optimizer.zero_grad()\n",
        "        output = model(data)\n",
        "        loss = F.nll_loss(output, target)\n",
        "        loss.backward()\n",
        "        optimizer.step()\n",
        "        if batch_idx % log_interval == 0:\n",
        "            print('Train Epoch: {} [{}/{} ({:.0f}%)]\\tLoss: {:.6f}'.format(\n",
        "                epoch, batch_idx * len(data), len(train_loader.dataset),\n",
        "                100. * batch_idx / len(train_loader), loss.item()))\n",
        "\n",
        "def test(log_interval, model, device, test_loader):\n",
        "    model.eval()\n",
        "    test_loss = 0\n",
        "    correct = 0\n",
        "    with torch.no_grad():\n",
        "        for data, target in test_loader:\n",
        "            data, target = data.to(device), target.to(device)\n",
        "            output = model(data)\n",
        "            test_loss += F.nll_loss(output, target, reduction='sum').item() \n",
        "            pred = output.argmax(dim=1, keepdim=True)\n",
        "            correct += pred.eq(target.view_as(pred)).sum().item()\n",
        "\n",
        "    test_loss /= len(test_loader.dataset)\n",
        "\n",
        "    print('\\nTest set: Average loss: {:.4f}, Accuracy: {}/{} ({:.0f}%)\\n'.format\n",
        "          (test_loss, correct, len(test_loader.dataset),\n",
        "        100. * correct / len(test_loader.dataset)))"
      ],
      "execution_count": 15,
      "outputs": []
    },
    {
      "cell_type": "code",
      "metadata": {
        "id": "FMhIwhbUmvKr",
        "colab_type": "code",
        "colab": {
          "base_uri": "https://localhost:8080/",
          "height": 1000
        },
        "outputId": "a238f34e-0969-42e5-888d-06a8409196bd"
      },
      "source": [
        "for epoch in range(1, 11):\n",
        "    train(log_interval, model, device, train_loader, optimizer, epoch)\n",
        "    test(log_interval, model, device, test_loader)\n",
        "torch.save(model, './model.pt')"
      ],
      "execution_count": 16,
      "outputs": [
        {
          "output_type": "stream",
          "text": [
            "Train Epoch: 1 [0/60000 (0%)]\tLoss: 2.313337\n",
            "Train Epoch: 1 [12800/60000 (21%)]\tLoss: 2.302358\n",
            "Train Epoch: 1 [25600/60000 (43%)]\tLoss: 2.262844\n",
            "Train Epoch: 1 [38400/60000 (64%)]\tLoss: 1.994884\n",
            "Train Epoch: 1 [51200/60000 (85%)]\tLoss: 1.259129\n",
            "\n",
            "Test set: Average loss: 0.7034, Accuracy: 7826/10000 (78%)\n",
            "\n",
            "Train Epoch: 2 [0/60000 (0%)]\tLoss: 0.661289\n",
            "Train Epoch: 2 [12800/60000 (21%)]\tLoss: 0.495438\n",
            "Train Epoch: 2 [25600/60000 (43%)]\tLoss: 0.431124\n",
            "Train Epoch: 2 [38400/60000 (64%)]\tLoss: 0.396521\n",
            "Train Epoch: 2 [51200/60000 (85%)]\tLoss: 0.284446\n",
            "\n",
            "Test set: Average loss: 0.2711, Accuracy: 9257/10000 (93%)\n",
            "\n",
            "Train Epoch: 3 [0/60000 (0%)]\tLoss: 0.199460\n",
            "Train Epoch: 3 [12800/60000 (21%)]\tLoss: 0.102232\n",
            "Train Epoch: 3 [25600/60000 (43%)]\tLoss: 0.227585\n",
            "Train Epoch: 3 [38400/60000 (64%)]\tLoss: 0.063849\n",
            "Train Epoch: 3 [51200/60000 (85%)]\tLoss: 0.118189\n",
            "\n",
            "Test set: Average loss: 0.1998, Accuracy: 9433/10000 (94%)\n",
            "\n",
            "Train Epoch: 4 [0/60000 (0%)]\tLoss: 0.254946\n",
            "Train Epoch: 4 [12800/60000 (21%)]\tLoss: 0.176628\n",
            "Train Epoch: 4 [25600/60000 (43%)]\tLoss: 0.045386\n",
            "Train Epoch: 4 [38400/60000 (64%)]\tLoss: 0.258574\n",
            "Train Epoch: 4 [51200/60000 (85%)]\tLoss: 0.146534\n",
            "\n",
            "Test set: Average loss: 0.1319, Accuracy: 9602/10000 (96%)\n",
            "\n",
            "Train Epoch: 5 [0/60000 (0%)]\tLoss: 0.172991\n",
            "Train Epoch: 5 [12800/60000 (21%)]\tLoss: 0.025917\n",
            "Train Epoch: 5 [25600/60000 (43%)]\tLoss: 0.115936\n",
            "Train Epoch: 5 [38400/60000 (64%)]\tLoss: 0.099832\n",
            "Train Epoch: 5 [51200/60000 (85%)]\tLoss: 0.135004\n",
            "\n",
            "Test set: Average loss: 0.1131, Accuracy: 9659/10000 (97%)\n",
            "\n",
            "Train Epoch: 6 [0/60000 (0%)]\tLoss: 0.105421\n",
            "Train Epoch: 6 [12800/60000 (21%)]\tLoss: 0.243083\n",
            "Train Epoch: 6 [25600/60000 (43%)]\tLoss: 0.053217\n",
            "Train Epoch: 6 [38400/60000 (64%)]\tLoss: 0.122469\n",
            "Train Epoch: 6 [51200/60000 (85%)]\tLoss: 0.029956\n",
            "\n",
            "Test set: Average loss: 0.1104, Accuracy: 9667/10000 (97%)\n",
            "\n",
            "Train Epoch: 7 [0/60000 (0%)]\tLoss: 0.089200\n",
            "Train Epoch: 7 [12800/60000 (21%)]\tLoss: 0.033480\n",
            "Train Epoch: 7 [25600/60000 (43%)]\tLoss: 0.024152\n",
            "Train Epoch: 7 [38400/60000 (64%)]\tLoss: 0.021762\n",
            "Train Epoch: 7 [51200/60000 (85%)]\tLoss: 0.015758\n",
            "\n",
            "Test set: Average loss: 0.1026, Accuracy: 9700/10000 (97%)\n",
            "\n",
            "Train Epoch: 8 [0/60000 (0%)]\tLoss: 0.033291\n",
            "Train Epoch: 8 [12800/60000 (21%)]\tLoss: 0.131145\n",
            "Train Epoch: 8 [25600/60000 (43%)]\tLoss: 0.093236\n",
            "Train Epoch: 8 [38400/60000 (64%)]\tLoss: 0.166986\n",
            "Train Epoch: 8 [51200/60000 (85%)]\tLoss: 0.091333\n",
            "\n",
            "Test set: Average loss: 0.0952, Accuracy: 9734/10000 (97%)\n",
            "\n",
            "Train Epoch: 9 [0/60000 (0%)]\tLoss: 0.052684\n",
            "Train Epoch: 9 [12800/60000 (21%)]\tLoss: 0.028180\n",
            "Train Epoch: 9 [25600/60000 (43%)]\tLoss: 0.022626\n",
            "Train Epoch: 9 [38400/60000 (64%)]\tLoss: 0.003575\n",
            "Train Epoch: 9 [51200/60000 (85%)]\tLoss: 0.013077\n",
            "\n",
            "Test set: Average loss: 0.0913, Accuracy: 9740/10000 (97%)\n",
            "\n",
            "Train Epoch: 10 [0/60000 (0%)]\tLoss: 0.018781\n",
            "Train Epoch: 10 [12800/60000 (21%)]\tLoss: 0.014513\n",
            "Train Epoch: 10 [25600/60000 (43%)]\tLoss: 0.018432\n",
            "Train Epoch: 10 [38400/60000 (64%)]\tLoss: 0.014530\n",
            "Train Epoch: 10 [51200/60000 (85%)]\tLoss: 0.044880\n",
            "\n",
            "Test set: Average loss: 0.0878, Accuracy: 9769/10000 (98%)\n",
            "\n"
          ],
          "name": "stdout"
        },
        {
          "output_type": "stream",
          "text": [
            "/usr/local/lib/python3.6/dist-packages/torch/serialization.py:402: UserWarning: Couldn't retrieve source code for container of type Net. It won't be checked for correctness upon loading.\n",
            "  \"type \" + obj.__name__ + \". It won't be checked \"\n"
          ],
          "name": "stderr"
        }
      ]
    }
  ]
}